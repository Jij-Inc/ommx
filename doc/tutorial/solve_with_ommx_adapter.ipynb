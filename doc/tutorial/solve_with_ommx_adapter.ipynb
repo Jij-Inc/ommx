{
 "cells": [
  {
   "cell_type": "markdown",
   "metadata": {},
   "source": [
    "# OMMX Adapterで最適化問題を解く\n",
    "\n",
    "OMMXでは、OMMXを既存の数理最適化ツールと相互連携するためのソフトウェアであるOMMX Adapterを提供します。OMMX Adapterを使うことで、OMMXが規定するスキーマで表現された最適化問題を様々な数理最適化ツールで解くことができます。\n",
    "\n",
    "ここでは、0-1ナップサック問題をOMMX PySCIPOpt Adapterで解く方法を紹介します。\n",
    "\n",
    "\n",
    "## 必要なライブラリのインポート\n",
    "\n",
    "ここでは、OMMX Python SDKとOMMX PySCIPOpt Adapterを使います。これらのライブラリは、以下のコマンドでインストールできます： \n",
    "\n",
    "```\n",
    "pip install ommx ommx_pyscipopt_adapter\n",
    "```"
   ]
  },
  {
   "cell_type": "markdown",
   "metadata": {},
   "source": [
    "## 最適化を解く2つのステップ\n",
    "\n",
    "```{figure} ./assets/solve_with_ommx_adapter_01.png\n",
    ":alt: 0-1ナップサック問題をOMMX PySCIPOpt Adapterで解くフロー\n",
    "\n",
    "0-1ナップサック問題をOMMX PySCIPOpt Adapterで解くフロー。\n",
    "```\n",
    "\n",
    "0-1ナップサック問題をOMMX PySCIPOpt Adapterで解くためのステップは、次の2つあります：\n",
    "\n",
    "1. 0-1ナップサック問題のインスタンスを用意する\n",
    "2. OMMX Adapterを使って最適化する\n",
    "\n",
    "ステップ1.では、OMMX MessageのInstanceスキーマで定義された `ommx.v1.Instance` オブジェクトを作成します。このオブジェクトを作成する方法は複数ありますが、ここではOMMX Python SDKを使用して直接記述する方法を採用します。\n",
    "\n",
    "```{tip}\n",
    "`ommx.v1.Instance` オブジェクトを用意する方法は4つあります：\n",
    "\n",
    "1. OMMX Python SDKを使って `ommx.v1.Instance` を直接記述する\n",
    "2. OMMX Adapterを使って数理最適化ツールで記述したインスタンスを `ommx.v1.Instance` に変換する\n",
    "3. JijModelingを使って `ommx.v1.Instance` を出力する\n",
    "4. OMMX Python SDKを使ってMPSファイルを `ommx.v1.Instance` に変換する\n",
    "```\n",
    "\n",
    "ステップ2.では、 `ommx.v1.Instance` をOMMX PySCIPOpt Adapterに入力して最適化計算を実行します。計算結果は、OMMX MessageのSolutionスキーマで定義された `ommx.v1.Solution` オブジェクトとして取得できます。\n",
    "\n",
    "### ステップ1: 0-1ナップサック問題のインスタンスを用意する\n",
    "\n",
    "0-1ナップサック問題は以下のように定式化されます：\n",
    "\n",
    "$$\n",
    "\\begin{align*}\n",
    "\\mathrm{maximize} \\quad & \\sum_{i=0}^{N-1} v_i x_i \\\\\n",
    "\\mathrm{s.t.} \\quad & \\sum_{i=0}^{n-1} w_i x_i - W \\leq 0, \\\\\n",
    "& x_{i} \\in \\{ 0, 1\\} \n",
    "\\end{align*}\n",
    "$$"
   ]
  },
  {
   "cell_type": "markdown",
   "metadata": {},
   "source": [
    "この数理モデルのパラメーターに、以下のデータを設定します："
   ]
  },
  {
   "cell_type": "code",
   "execution_count": null,
   "metadata": {},
   "outputs": [],
   "source": [
    "# 0-1ナップサック問題のデータ\n",
    "v = [10, 13, 18, 31, 7, 15]   # 各アイテムの価値\n",
    "w = [11, 15, 20, 35, 10, 33] # 各アイテムの重さ\n",
    "W = 47  # ナップサックの耐荷重\n",
    "N = len(v)  # アイテムの総数"
   ]
  },
  {
   "cell_type": "markdown",
   "metadata": {},
   "source": [
    "この数理モデルとデータに基づいて、OMMX Python SDKを使用してインスタンスを記述します："
   ]
  },
  {
   "cell_type": "code",
   "execution_count": null,
   "metadata": {},
   "outputs": [],
   "source": [
    "from ommx.v1 import Instance, DecisionVariable, Constraint\n",
    "\n",
    "# 決定変数を定義する\n",
    "x = [\n",
    "    # バイナリ変数 x_i を定義する\n",
    "    DecisionVariable.binary(\n",
    "        # 決定変数のIDを指定する\n",
    "        id=i,\n",
    "        # 決定変数の名前を指定する\n",
    "        name=\"x\",\n",
    "        # 決定変数の添え字を指定する\n",
    "        subscripts=[i],\n",
    "    )\n",
    "    # バイナリ変数を num_items 個だけ用意する\n",
    "    for i in range(N)\n",
    "]\n",
    "\n",
    "# 目的関数を定義する\n",
    "objective = sum(v[i] * x[i] for i in range(N))\n",
    "\n",
    "# 制約条件を定義する\n",
    "constraint = Constraint(\n",
    "    # 制約条件の名前\n",
    "    name = \"重量制限\",\n",
    "    # 制約式の左辺を指定する\n",
    "    function=sum(w[i] * x[i] for i in range(N)) - W,\n",
    "    # 等式制約 (==0) or 不等式制約 (<=0) を指定する\n",
    "    equality=Constraint.LESS_THAN_OR_EQUAL_TO_ZERO,\n",
    ")\n",
    "\n",
    "# インスタンスを作成する\n",
    "instance = Instance.from_components(\n",
    "    # インスタンスに含まれる全ての決定変数を登録する\n",
    "    decision_variables=x,\n",
    "    # 目的関数を登録する\n",
    "    objective=objective,\n",
    "    # 全ての制約条件を登録する\n",
    "    constraints=[constraint],\n",
    "    # 最大化問題であることを指定する\n",
    "    sense=Instance.MAXIMIZE,\n",
    ")"
   ]
  },
  {
   "cell_type": "markdown",
   "metadata": {},
   "source": [
    "### ステップ2: OMMX Adapterを使って最適化する\n",
    "\n",
    "ステップ1で用意した0-1ナップサック問題のインスタンスをOMMX PySCIP Adapterで最適化します。最適化は、`ommx-pyscipopt-adapter` パッケージの `instance_to_model` と `model_to_solution` という2つの関数を使用することで実行できます："
   ]
  },
  {
   "cell_type": "code",
   "execution_count": null,
   "metadata": {},
   "outputs": [],
   "source": [
    "from ommx_pyscipopt_adapter import instance_to_model, model_to_solution\n",
    "\n",
    "# ommx.v1.InstanceオブジェクトからPySCIPOptのModelオブジェクトに変換する\n",
    "model = instance_to_model(instance)\n",
    "# PySCIPOptで最適化計算を実行する\n",
    "model.optimize()\n",
    "# 計算結果をommx.v1.Solutionオブジェクトに格納して書き出す\n",
    "solution = model_to_solution(model, instance)"
   ]
  },
  {
   "cell_type": "markdown",
   "metadata": {},
   "source": [
    "ここで得られた変数 `solution` には、SCIPによる最適化計算の結果がOMMX MessageのSolutionスキーマに基づいて格納されています。"
   ]
  },
  {
   "cell_type": "markdown",
   "metadata": {},
   "source": [
    "## 結果を分析する\n",
    "\n",
    "ステップ2で得られた計算結果から\n",
    "\n",
    "- 最適解（アイテムの価値の合計が最も高くなるようなアイテムの選び方）\n",
    "- 最適値（最も高いアイテムの価値の合計）\n",
    "- 制約条件（重量制限に対するアイテムの重さの合計の余裕）\n",
    "\n",
    "を取得・分析するためには、`ommx.v1.Solution` クラスに実装されているプロパティを使用します。\n",
    "\n",
    "### 最適解の分析\n",
    "\n",
    "`decision_variables` プロパティは、決定変数のID、種類、名前、最適解などの情報を含む `pandas.DataFrame` オブジェクトを返します："
   ]
  },
  {
   "cell_type": "code",
   "execution_count": null,
   "metadata": {},
   "outputs": [],
   "source": [
    "solution.decision_variables"
   ]
  },
  {
   "cell_type": "markdown",
   "metadata": {},
   "source": [
    "この `pandas.DataFrame` オブジェクトを使うことで、例えば「アイテムをナップサックに入れるかどうか」という判断をまとめた表をpandasで簡単に作成できます："
   ]
  },
  {
   "cell_type": "code",
   "execution_count": null,
   "metadata": {},
   "outputs": [],
   "source": [
    "import pandas as pd\n",
    "\n",
    "df = solution.decision_variables\n",
    "pd.DataFrame.from_dict(\n",
    "    {\n",
    "        \"アイテムの番号\": df.index,\n",
    "        \"ナップサックに入れるか？\": df[\"value\"].apply(lambda x: \"入れる\" if x == 1.0 else \"入れない\"),\n",
    "    }\n",
    ")"
   ]
  },
  {
   "cell_type": "markdown",
   "metadata": {},
   "source": [
    "この分析結果から、ナップサックの重量制限を満たしながらアイテムの価値の合計を最大化するためには、0番目と3番目のアイテムを選択すればよいことが分かります。\n",
    "\n",
    "### 最適値の分析\n",
    "\n",
    "`objective` プロパティには最適値が格納されています。今回のケースでは、0番目と3番目のアイテムの価値の合計値が格納されているはずです："
   ]
  },
  {
   "cell_type": "code",
   "execution_count": null,
   "metadata": {},
   "outputs": [],
   "source": [
    "import numpy as np\n",
    "# 期待される値は0番目と3番目のアイテムの価値の合計値である\n",
    "expected = v[0] + v[3]\n",
    "assert np.isclose(solution.objective, expected)"
   ]
  },
  {
   "cell_type": "markdown",
   "metadata": {},
   "source": [
    "### 制約条件の分析\n",
    "\n",
    "`constraints` プロパティは、制約条件の等号不等号、左辺の値 (`\"value\"`)、名前などの情報を含む `pandas.DataFrame` オブジェクトを返します："
   ]
  },
  {
   "cell_type": "code",
   "execution_count": null,
   "metadata": {},
   "outputs": [],
   "source": [
    "solution.constraints"
   ]
  },
  {
   "cell_type": "markdown",
   "metadata": {},
   "source": [
    "重量制約を表す制約式は\n",
    "\n",
    "$$\n",
    "\\begin{align*}\n",
    "\\sum_{i=0}^{n-1} w_i x_i - W \\leq 0\n",
    "\\end{align*}\n",
    "$$\n",
    "\n",
    "であり、0番目と3番目のアイテムの重量の合計は"
   ]
  },
  {
   "cell_type": "code",
   "execution_count": null,
   "metadata": {},
   "outputs": [],
   "source": [
    "assert w[0] + w[3] == 46"
   ]
  },
  {
   "cell_type": "markdown",
   "metadata": {},
   "source": [
    "となります。$W$は `47` であることから、制約式の左辺の値は `-1` となるはずです。実際、 `solution.constraints` の列 `\"value\"` の値が `-1.0` となっているが確認できます。\n",
    "\n",
    "このことから、最適解におけるアイテムの選び方では、重量制限に対して `1` だけ余裕があることが分かります。"
   ]
  }
 ],
 "metadata": {
  "kernelspec": {
   "display_name": ".venv",
   "language": "python",
   "name": "python3"
  },
  "language_info": {
   "codemirror_mode": {
    "name": "ipython",
    "version": 3
   },
   "file_extension": ".py",
   "mimetype": "text/x-python",
   "name": "python",
   "nbconvert_exporter": "python",
   "pygments_lexer": "ipython3",
   "version": "3.10.12"
  }
 },
 "nbformat": 4,
 "nbformat_minor": 2
}
