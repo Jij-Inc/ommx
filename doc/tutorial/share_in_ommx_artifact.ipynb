{
 "cells": [
  {
   "cell_type": "markdown",
   "metadata": {},
   "source": [
    "# 様々なデータをOMMX Artifact形式で共有する\n",
    "\n",
    "数理最適化のワークフローでは、多様なデータの生成と管理が不可欠です。これらのデータを適切に管理することで、計算結果の再現性が確保され、チーム内での効率的な共有が可能になります。\n",
    "\n",
    "OMMXは、これらの多様なデータを効率的かつシンプルに管理する仕組みを提供します。具体的には、OMMX Artifactというデータ形式を定義し、最適化計算に関連する多様なデータの保存・管理・共有をOMMX SDKによって可能にします。"
   ]
  },
  {
   "cell_type": "markdown",
   "metadata": {},
   "source": [
    "## 事前準備：共有するデータ"
   ]
  },
  {
   "cell_type": "code",
   "execution_count": null,
   "metadata": {
    "tags": [
     "hide-input"
    ]
   },
   "outputs": [],
   "source": [
    "from ommx.v1 import Instance, DecisionVariable, Constraint\n",
    "from ommx_pyscipopt_adapter import instance_to_model, model_to_solution\n",
    "import pandas as pd\n",
    "\n",
    "# 0-1ナップサック問題のデータを用意する\n",
    "data = {\n",
    "    # 各アイテムの価値\n",
    "    \"v\": [10, 13, 18, 31, 7, 15],\n",
    "    # 各アイテムの重さ\n",
    "    \"w\": [11, 15, 20, 35, 10, 33],\n",
    "    # ナップサックの耐荷重\n",
    "    \"W\": 47,\n",
    "    # アイテムの総数\n",
    "    \"N\": 6,\n",
    "}\n",
    "\n",
    "# 決定変数を定義する\n",
    "x = [\n",
    "    # バイナリ変数 x_i を定義する\n",
    "    DecisionVariable.binary(\n",
    "        # 決定変数のIDを指定する\n",
    "        id=i,\n",
    "        # 決定変数の名前を指定する\n",
    "        name=\"x\",\n",
    "        # 決定変数の添え字を指定する\n",
    "        subscripts=[i],\n",
    "    )\n",
    "    # バイナリ変数を num_items 個だけ用意する\n",
    "    for i in range(data[\"N\"])\n",
    "]\n",
    "\n",
    "# 目的関数を定義する\n",
    "objective = sum(data[\"v\"][i] * x[i] for i in range(data[\"N\"]))\n",
    "\n",
    "# 制約条件を定義する\n",
    "constraint = Constraint(\n",
    "    # 制約条件の名前\n",
    "    name = \"重量制限\",\n",
    "    # 制約式の左辺を指定する\n",
    "    function=sum(data[\"w\"][i] * x[i] for i in range(data[\"N\"])) - data[\"W\"],\n",
    "    # 等式制約 (==0) or 不等式制約 (<=0) を指定する\n",
    "    equality=Constraint.LESS_THAN_OR_EQUAL_TO_ZERO,\n",
    ")\n",
    "\n",
    "# インスタンスを作成する\n",
    "instance = Instance.from_components(\n",
    "    # インスタンスに含まれる全ての決定変数を登録する\n",
    "    decision_variables=x,\n",
    "    # 目的関数を登録する\n",
    "    objective=objective,\n",
    "    # 全ての制約条件を登録する\n",
    "    constraints=[constraint],\n",
    "    # 最大化問題であることを指定する\n",
    "    sense=Instance.MAXIMIZE,\n",
    ")\n",
    "\n",
    "# インスタンスをSCIPのモデルに変換する\n",
    "model = instance_to_model(instance)\n",
    "# SCIPで解く\n",
    "model.optimize()\n",
    "# 計算結果をommx.vi.Solutionとして取得する\n",
    "solution = model_to_solution(model, instance)\n",
    "\n",
    "# 最適解の分析をする\n",
    "df_vars = solution.decision_variables\n",
    "df = pd.DataFrame.from_dict(\n",
    "    {\n",
    "        \"アイテムの番号\": df_vars.index,\n",
    "        \"ナップサックに入れるか？\": df_vars[\"value\"].apply(lambda x: \"入れる\" if x == 1.0 else \"入れない\"),\n",
    "    }\n",
    ")"
   ]
  },
  {
   "cell_type": "code",
   "execution_count": null,
   "metadata": {
    "tags": [
     "remove-cell"
    ]
   },
   "outputs": [],
   "source": [
    "from myst_nb import glue\n",
    "\n",
    "glue(\"instance\", instance, display=False)\n",
    "glue(\"solution\", solution, display=False)\n",
    "glue(\"data\", data, display=False)\n",
    "glue(\"df\", df, display=False)"
   ]
  },
  {
   "cell_type": "markdown",
   "metadata": {},
   "source": [
    "```{list-table}\n",
    ":header-rows: 1\n",
    ":widths: 5 30 10\n",
    "\n",
    "* - 変数名\n",
    "  - 説明\n",
    "  - 値\n",
    "* - `instance`\n",
    "  - 0-1ナップサック問題に対応する `ommx.v1.Instance` オブジェクト\n",
    "  - ````{toggle}\n",
    "    ```{glue:} instance\n",
    "    ```\n",
    "    ````\n",
    "* - `solution`\n",
    "  - 0-1ナップサック問題をSCIPで解いた計算結果が格納されている `ommx.v1.Solution` オブジェクト\n",
    "  - ````{toggle}\n",
    "    ```{glue:} solution\n",
    "    ```\n",
    "    ````\n",
    "* - `data`\n",
    "  - 0-1ナップサック問題の入力データ\n",
    "  - ```{glue:} data\n",
    "    ```\n",
    "* - `df`\n",
    "  - 0-1ナップサック問題の最適解表す `pandas.DataFrame` オブジェクト\n",
    "  - {glue:}`df`\n",
    "```"
   ]
  },
  {
   "cell_type": "markdown",
   "metadata": {},
   "source": [
    "## ローカルにOMMX Artfactデータを作成する"
   ]
  },
  {
   "cell_type": "code",
   "execution_count": null,
   "metadata": {
    "tags": [
     "remove-output"
    ]
   },
   "outputs": [],
   "source": [
    "from ommx.artifact import ArtifactBuilder\n",
    "\n",
    "# OMMX Artifactファイルの名前を指定する\n",
    "filename = \"my_instance.ommx\"\n",
    "\n",
    "# 1. OMMX Artifactファイルを作成するためのビルダーを作成する\n",
    "builder = ArtifactBuilder.new_archive_unnamed(filename)\n",
    "\n",
    "# 2. ArtifactBuilderにデータを追加する\n",
    "# ommx.v1.Instance オブジェクトを追加する\n",
    "builder.add_instance(instance)\n",
    "# ommx.v1.Solution オブジェクトを追加する\n",
    "builder.add_solution(solution)\n",
    "# pandas.DataFrame オブジェクトを追加する\n",
    "builder.add_dataframe(df, title=\"ナップサック問題の最適解\")\n",
    "# JSONに変換可能なオブジェクトを追加する\n",
    "builder.add_json(data, title=\"ナップサック問題のデータ\")\n",
    "\n",
    "# 3. OMMX Artifactファイルを作成する\n",
    "builder.build()"
   ]
  },
  {
   "cell_type": "code",
   "execution_count": null,
   "metadata": {},
   "outputs": [],
   "source": [
    "!ls -l \"my_instance.ommx\""
   ]
  },
  {
   "cell_type": "markdown",
   "metadata": {},
   "source": [
    "## ローカルにあるOMMX Artfactデータを読み取る"
   ]
  },
  {
   "cell_type": "code",
   "execution_count": null,
   "metadata": {},
   "outputs": [],
   "source": [
    "from ommx.artifact import Artifact\n",
    "\n",
    "# ローカルにあるOMMX Artifactファイルを読み込む\n",
    "artifact = Artifact.load_archive(filename)"
   ]
  },
  {
   "cell_type": "code",
   "execution_count": null,
   "metadata": {
    "tags": [
     "full-width"
    ]
   },
   "outputs": [],
   "source": [
    "import pandas as pd\n",
    "\n",
    "# OMMX Artifactファイルに含まれる全てのデータをpandasで表示する\n",
    "pd.DataFrame(desc.to_dict() for desc in artifact.layers)"
   ]
  },
  {
   "cell_type": "code",
   "execution_count": null,
   "metadata": {
    "tags": [
     "remove-cell"
    ]
   },
   "outputs": [],
   "source": [
    "# Remove the created OMMX Artifact file to clean up\n",
    "!rm my_instance.ommx"
   ]
  }
 ],
 "metadata": {
  "kernelspec": {
   "display_name": ".venv",
   "language": "python",
   "name": "python3"
  },
  "language_info": {
   "codemirror_mode": {
    "name": "ipython",
    "version": 3
   },
   "file_extension": ".py",
   "mimetype": "text/x-python",
   "name": "python",
   "nbconvert_exporter": "python",
   "pygments_lexer": "ipython3",
   "version": "3.10.12"
  }
 },
 "nbformat": 4,
 "nbformat_minor": 2
}
