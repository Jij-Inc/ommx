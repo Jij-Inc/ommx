{
 "cells": [
  {
   "cell_type": "markdown",
   "metadata": {},
   "source": [
    "# MIPLIBインスタンスをダウンロードする\n",
    "\n",
    "OMMXリポジトリでは、MIPLIB 2017の混合整数計画問題ベンチマークインスタンスをOMMX Artifact形式のデータとして提供しています。\n",
    "\n",
    "```{note}\n",
    "より詳細な説明：MIPLIB 2017のインスタンスに対応するOMMX ArtifactはOMMXリポジトリのGitHub コンテナーレジストリ ([link](https://github.com/Jij-Inc/ommx/pkgs/container/ommx%2Fmiplib2017))で管理されています。\n",
    "\n",
    "GitHub コンテナーレジストリについては[こちら](https://docs.github.com/ja/packages/working-with-a-github-packages-registry/working-with-the-container-registry)を参照してください。\n",
    "```\n",
    "\n",
    "これらのインスタンスはOMMX SDKで簡単にダウンロードでき、OMMX Adapterの入力としてそのまま利用できます。\n",
    "例えば、MIPLIB 2017のair05インスタンス ([参照](https://miplib.zib.de/instance_details_air05.html)) をPySCIPOptで解くには、以下の2ステップで実行できます：\n",
    "\n",
    "1. OMMX Python SDKの`dataset`サブモジュールにある`miplib2017`関数で、air05インスタンスをダウンロードする。\n",
    "2. ダウンロードしたインスタンスをOMMX PySCIPOpt Adapterで解く。\n",
    "\n",
    "具体的なPythonコードは以下の通りです："
   ]
  },
  {
   "cell_type": "code",
   "execution_count": null,
   "metadata": {},
   "outputs": [],
   "source": [
    "# OMMX Python SDK\n",
    "from ommx import dataset\n",
    "# OMMX PySCIPOpt Adapter\n",
    "from ommx_pyscipopt_adapter import instance_to_model, model_to_solution\n",
    "\n",
    "# ステップ1: MIPLIB 2017のair05インスタンスをダウンロードする\n",
    "instance = dataset.miplib2017(\"air05\")\n",
    "\n",
    "# ステップ2: OMMX PySCIPOpt Adapterを使って解く\n",
    "# ommx.v1.InstanceオブジェクトをPySCIPOptのModelオブジェクトに変換する\n",
    "model = instance_to_model(instance)\n",
    "# SCIPで最適化を実行する\n",
    "model.optimize()\n",
    "# 計算結果をommx.v1.Solutionオブジェクトとして取得する\n",
    "solution = model_to_solution(model, instance)"
   ]
  },
  {
   "cell_type": "markdown",
   "metadata": {},
   "source": [
    "この機能により、複数のOMMX対応ソルバーで同一のMIPLIBインスタンスを使用したベンチマーク測定を効率よく実行できます。"
   ]
  },
  {
   "cell_type": "markdown",
   "metadata": {},
   "source": [
    "## 補足：インスタンスに付随するアノテーション\n",
    "\n",
    "ダウンロードしたインスタンスには各種アノテーション情報が含まれており、annotationsプロパティを使って全てのアノテーションにアクセスできます："
   ]
  },
  {
   "cell_type": "code",
   "execution_count": null,
   "metadata": {},
   "outputs": [],
   "source": [
    "import pandas as pd\n",
    "# アノテーションを pandas を使って表形式で表示する\n",
    "pd.DataFrame.from_dict(instance.annotations, orient=\"index\", columns=[\"Value\"]).sort_index()"
   ]
  },
  {
   "cell_type": "markdown",
   "metadata": {},
   "source": [
    "インスタンスには、データセット共通のアノテーションとデータセット固有のアノテーションの2種類があります。\n",
    "\n",
    "データセット共通のアノテーションには以下の7つがあり、それぞれに専用のプロパティが用意されています：\n",
    "\n",
    "| アノテーション | プロパティ | 説明 |\n",
    "|--------------|------------|------|\n",
    "| `org.ommx.v1.instance.authors` | `authors` | そのインスタンスの作者 |\n",
    "| `org.ommx.v1.instance.constraints` | `num_constraints` | そのインスタンスにある制約条件の数 |\n",
    "| `org.ommx.v1.instance.created` | `created` | そのインスタンスがOMMX Artifact形式で保存された日時 |\n",
    "| `org.ommx.v1.instance.dataset` | `dataset` | そのインスタンスが属するデータセット名 |\n",
    "| `org.ommx.v1.instance.license` | `license` | そのデータセットのライセンス |\n",
    "| `org.ommx.v1.instance.title` | `title` | そのインスタンスの名前 |\n",
    "| `org.ommx.v1.instance.variables` | `num_variables` | そのインスタンスにある決定変数の総数 |\n",
    "\n",
    "MIPLIBに特有のアノテーションは `org.ommx.miplib.*` というプレフィックスを持ちます。\n",
    "\n",
    "例として、air05インスタンスの最適値を確認してみましょう。そのインスタンスの詳細ページ ([link](https://miplib.zib.de/instance_details_air05.html)) によれば、最適値は `26374` であり、この値はキー `org.ommx.miplib.objective` で取得できます："
   ]
  },
  {
   "cell_type": "code",
   "execution_count": null,
   "metadata": {},
   "outputs": [],
   "source": [
    "# アノテーションの値はすべて文字列 (str) であることに注意する！\n",
    "assert instance.annotations[\"org.ommx.miplib.objective\"] == \"26374\""
   ]
  },
  {
   "cell_type": "markdown",
   "metadata": {},
   "source": [
    "これにより、先ほどのOMMX PySCIPOpt Adapterで得られた計算結果が、期待される最適値と一致することを検証できます："
   ]
  },
  {
   "cell_type": "code",
   "execution_count": null,
   "metadata": {},
   "outputs": [],
   "source": [
    "import numpy as np\n",
    "\n",
    "best = float(instance.annotations[\"org.ommx.miplib.objective\"])\n",
    "assert np.isclose(solution.objective, best)"
   ]
  }
 ],
 "metadata": {
  "kernelspec": {
   "display_name": ".venv",
   "language": "python",
   "name": "python3"
  },
  "language_info": {
   "codemirror_mode": {
    "name": "ipython",
    "version": 3
   },
   "file_extension": ".py",
   "mimetype": "text/x-python",
   "name": "python",
   "nbconvert_exporter": "python",
   "pygments_lexer": "ipython3",
   "version": "3.10.12"
  }
 },
 "nbformat": 4,
 "nbformat_minor": 2
}
