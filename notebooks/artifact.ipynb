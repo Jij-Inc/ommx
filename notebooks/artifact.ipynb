{
 "cells": [
  {
   "cell_type": "markdown",
   "id": "ec41c28b-5d3f-4e6c-a76a-bae41a57186f",
   "metadata": {},
   "source": [
    "# Create OMMX Artifact"
   ]
  },
  {
   "cell_type": "code",
   "execution_count": 1,
   "id": "f8fe903b-8acd-40dc-9263-7c5f9197876d",
   "metadata": {},
   "outputs": [],
   "source": [
    "from datetime import datetime  # When the artifact is created\n",
    "from dateutil.tz import tzlocal\n",
    "import uuid    # To generate random tag for testing\n",
    "import logging # To see the log of pushing artifact\n",
    "logging.basicConfig(level=logging.INFO)"
   ]
  },
  {
   "cell_type": "code",
   "execution_count": 2,
   "id": "57b9e174-2c4c-444a-9ea7-d0ab6f112162",
   "metadata": {},
   "outputs": [],
   "source": [
    "from ommx.artifact import Artifact, ArtifactBuilder\n",
    "from ommx.testing import SingleFeasibleLPGenerator, DataType"
   ]
  },
  {
   "cell_type": "markdown",
   "id": "a2779a4a-4f76-4c77-a2e2-c64d5a4c2aff",
   "metadata": {},
   "source": [
    "## Ready `ommx.v1.Instance` and `ommx.v1.Solution` to be packed into artifact"
   ]
  },
  {
   "cell_type": "code",
   "execution_count": 3,
   "id": "4be947b0-95c5-477b-8c7e-d2501c03a2d8",
   "metadata": {},
   "outputs": [],
   "source": [
    "generator = SingleFeasibleLPGenerator(3, DataType.INT)\n",
    "instance = generator.get_v1_instance()\n",
    "state = generator.get_v1_state()"
   ]
  },
  {
   "cell_type": "code",
   "execution_count": 4,
   "id": "828b70a2-46c3-49cb-8e78-ffea742b6659",
   "metadata": {},
   "outputs": [],
   "source": [
    "# Evaluate the instance for the state\n",
    "solution = instance.evaluate(state)"
   ]
  },
  {
   "cell_type": "code",
   "execution_count": 5,
   "id": "389d7fd0-a77b-45c6-adbe-43e5d7cb65ac",
   "metadata": {},
   "outputs": [],
   "source": [
    "# Add annotations\n",
    "instance.title = \"Single feasible LP instance\"\n",
    "instance.created = datetime.now(tzlocal())  # Date is stored as RFC3339 format\n",
    "solution.parameters = (3, \"int\")            # Solution can store a set of parameters as a JSON"
   ]
  },
  {
   "cell_type": "markdown",
   "id": "cb3adc3e-483d-4c4a-96fc-23888a43e1f1",
   "metadata": {},
   "source": [
    "## Build OMMX artifact"
   ]
  },
  {
   "cell_type": "code",
   "execution_count": 6,
   "id": "00061527-a0ee-4b78-8727-8472c27cac7e",
   "metadata": {},
   "outputs": [],
   "source": [
    "builder = ArtifactBuilder.for_github(\n",
    "    \"Jij-Inc\",             # GitHub organization\n",
    "    \"ommx\",                # Repository name\n",
    "    \"single_feasible_lp\",  # Name of artifact\n",
    "    str(uuid.uuid4())      # Tag of artifact\n",
    ")"
   ]
  },
  {
   "cell_type": "code",
   "execution_count": 7,
   "id": "6d29bf9f-9081-4fdd-829d-bb5172cc2b70",
   "metadata": {},
   "outputs": [],
   "source": [
    "# Add instance to the artifact\n",
    "instance_desc = builder.add_instance(instance)"
   ]
  },
  {
   "cell_type": "code",
   "execution_count": 8,
   "id": "1303fad6-79d6-465d-b309-8488442678a5",
   "metadata": {},
   "outputs": [],
   "source": [
    "# Add solution with the digest of instance\n",
    "solution.instance = instance_desc.digest\n",
    "_desc = builder.add_solution(solution)"
   ]
  },
  {
   "cell_type": "code",
   "execution_count": 9,
   "id": "5374f4f4-1d6f-44b4-83f2-8056f349a36c",
   "metadata": {},
   "outputs": [],
   "source": [
    "# Finish building\n",
    "artifact = builder.build()"
   ]
  },
  {
   "cell_type": "code",
   "execution_count": 10,
   "id": "192d850d-e7c5-4e66-8f92-35f7823cd6ad",
   "metadata": {},
   "outputs": [
    {
     "data": {
      "text/plain": [
       "'ghcr.io/jij-inc/ommx/single_feasible_lp:9b9083bb-9750-48bc-9847-0fd491b8bcf3'"
      ]
     },
     "execution_count": 10,
     "metadata": {},
     "output_type": "execute_result"
    }
   ],
   "source": [
    "artifact.image_name"
   ]
  },
  {
   "cell_type": "markdown",
   "id": "a04b993d-d13c-4fba-83fc-677da7d6543d",
   "metadata": {},
   "source": [
    "## Push artifact to container registry\n",
    "\n",
    "- This artifact will be pushed to <https://github.com/Jij-Inc/ommx/pkgs/container/ommx%2Fsingle_feasible_lp>\n",
    "- `push` requires authentication using personal access token (PAT) or `GITHUB_TOKEN` on GitHub Actions. There are two ways for authentication:\n",
    "  - Run CLI `ommx login` which stores authentication info on your machine.\n",
    "  - Use environment variables `OMMX_BASIC_AUTH_{DOMAIN,USERNAME,PASSWORD}`. For example, you can push your artifact to GitHub contaier registry from GitHub Actions with following setting:\n",
    "\n",
    "```yaml\n",
    "        env:\n",
    "          OMMX_BASIC_AUTH_DOMAIN: ghcr.io\n",
    "          OMMX_BASIC_AUTH_USERNAME: ${{ github.actor }}\n",
    "          OMMX_BASIC_AUTH_PASSWORD: ${{ github.token }}\n",
    "```"
   ]
  },
  {
   "cell_type": "code",
   "execution_count": 11,
   "id": "a06ef2f5-595f-485a-9ca9-11923278123b",
   "metadata": {},
   "outputs": [
    {
     "name": "stderr",
     "output_type": "stream",
     "text": [
      "INFO:ommx.artifact:Pushing: ghcr.io/jij-inc/ommx/single_feasible_lp:9b9083bb-9750-48bc-9847-0fd491b8bcf3\n",
      "INFO:ocipkg.distribution.client:POST https://ghcr.io/v2/jij-inc/ommx/single_feasible_lp/blobs/uploads/\n",
      "INFO:ocipkg.distribution.client:PUT https://ghcr.io/v2/jij-inc/ommx/single_feasible_lp/blobs/upload/e67c96bb-0752-4590-918a-e252806bfee2\n",
      "INFO:ocipkg.distribution.client:POST https://ghcr.io/v2/jij-inc/ommx/single_feasible_lp/blobs/uploads/\n",
      "INFO:ocipkg.distribution.client:PUT https://ghcr.io/v2/jij-inc/ommx/single_feasible_lp/blobs/upload/eeebecfb-7884-4dab-98c3-3e8fe74921fe\n",
      "INFO:ocipkg.distribution.client:POST https://ghcr.io/v2/jij-inc/ommx/single_feasible_lp/blobs/uploads/\n",
      "INFO:ocipkg.distribution.client:PUT https://ghcr.io/v2/jij-inc/ommx/single_feasible_lp/blobs/upload/2603c7ba-2768-406c-98de-dda48790273a\n",
      "INFO:ocipkg.distribution.client:PUT https://ghcr.io/v2/jij-inc/ommx/single_feasible_lp/manifests/9b9083bb-9750-48bc-9847-0fd491b8bcf3\n"
     ]
    }
   ],
   "source": [
    "artifact.push()"
   ]
  }
 ],
 "metadata": {
  "kernelspec": {
   "display_name": "Python 3 (ipykernel)",
   "language": "python",
   "name": "python3"
  },
  "language_info": {
   "codemirror_mode": {
    "name": "ipython",
    "version": 3
   },
   "file_extension": ".py",
   "mimetype": "text/x-python",
   "name": "python",
   "nbconvert_exporter": "python",
   "pygments_lexer": "ipython3",
   "version": "3.11.4"
  }
 },
 "nbformat": 4,
 "nbformat_minor": 5
}
