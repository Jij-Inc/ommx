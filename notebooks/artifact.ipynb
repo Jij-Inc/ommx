{
 "cells": [
  {
   "cell_type": "markdown",
   "id": "ec41c28b-5d3f-4e6c-a76a-bae41a57186f",
   "metadata": {},
   "source": [
    "# Create OMMX Artifact"
   ]
  },
  {
   "cell_type": "code",
   "execution_count": 1,
   "id": "f8fe903b-8acd-40dc-9263-7c5f9197876d",
   "metadata": {},
   "outputs": [],
   "source": [
    "from datetime import datetime  # When the artifact is created\n",
    "from dateutil.tz import tzlocal\n",
    "import uuid    # To generate random tag for testing\n",
    "import logging # To see the log of pushing artifact\n",
    "logging.basicConfig(level=logging.INFO)"
   ]
  },
  {
   "cell_type": "code",
   "execution_count": 2,
   "id": "57b9e174-2c4c-444a-9ea7-d0ab6f112162",
   "metadata": {},
   "outputs": [],
   "source": [
    "from ommx.artifact import Artifact, ArtifactBuilder\n",
    "from ommx.testing import SingleFeasibleLPGenerator, DataType"
   ]
  },
  {
   "cell_type": "markdown",
   "id": "a2779a4a-4f76-4c77-a2e2-c64d5a4c2aff",
   "metadata": {},
   "source": [
    "## Ready `ommx.v1.Instance` and `ommx.v1.Solution` to be packed into artifact"
   ]
  },
  {
   "cell_type": "code",
   "execution_count": 3,
   "id": "4be947b0-95c5-477b-8c7e-d2501c03a2d8",
   "metadata": {},
   "outputs": [],
   "source": [
    "generator = SingleFeasibleLPGenerator(3, DataType.INT)\n",
    "instance = generator.get_v1_instance()\n",
    "state = generator.get_v1_state()"
   ]
  },
  {
   "cell_type": "code",
   "execution_count": 4,
   "id": "828b70a2-46c3-49cb-8e78-ffea742b6659",
   "metadata": {},
   "outputs": [],
   "source": [
    "# Evaluate the instance for the state\n",
    "solution = instance.evaluate(state)"
   ]
  },
  {
   "cell_type": "code",
   "execution_count": 5,
   "id": "389d7fd0-a77b-45c6-adbe-43e5d7cb65ac",
   "metadata": {},
   "outputs": [],
   "source": [
    "# Add annotations\n",
    "instance.title = \"Single feasible LP instance\"\n",
    "instance.created = datetime.now(tzlocal())  # Date is stored as RFC3339 format\n",
    "solution.parameters = (3, \"int\")            # Solution can store a set of parameters as a JSON"
   ]
  },
  {
   "cell_type": "markdown",
   "id": "cb3adc3e-483d-4c4a-96fc-23888a43e1f1",
   "metadata": {},
   "source": [
    "## Build OMMX artifact"
   ]
  },
  {
   "cell_type": "code",
   "execution_count": 6,
   "id": "00061527-a0ee-4b78-8727-8472c27cac7e",
   "metadata": {},
   "outputs": [],
   "source": [
    "builder = ArtifactBuilder.for_github(\n",
    "    \"Jij-Inc\",             # GitHub organization\n",
    "    \"ommx\",                # Repository name\n",
    "    \"single_feasible_lp\",  # Name of artifact\n",
    "    str(uuid.uuid4())      # Tag of artifact\n",
    ")"
   ]
  },
  {
   "cell_type": "code",
   "execution_count": 7,
   "id": "6d29bf9f-9081-4fdd-829d-bb5172cc2b70",
   "metadata": {},
   "outputs": [],
   "source": [
    "# Add instance to the artifact\n",
    "instance_desc = builder.add_instance(instance)"
   ]
  },
  {
   "cell_type": "code",
   "execution_count": 8,
   "id": "1303fad6-79d6-465d-b309-8488442678a5",
   "metadata": {},
   "outputs": [],
   "source": [
    "# Add solution with the digest of instance\n",
    "solution.instance = instance_desc.digest\n",
    "_desc = builder.add_solution(solution)"
   ]
  },
  {
   "cell_type": "code",
   "execution_count": 9,
   "id": "5374f4f4-1d6f-44b4-83f2-8056f349a36c",
   "metadata": {},
   "outputs": [],
   "source": [
    "# Finish building\n",
    "artifact = builder.build()"
   ]
  },
  {
   "cell_type": "code",
   "execution_count": 10,
   "id": "192d850d-e7c5-4e66-8f92-35f7823cd6ad",
   "metadata": {},
   "outputs": [
    {
     "data": {
      "text/plain": [
       "'ghcr.io/jij-inc/ommx/single_feasible_lp:f1d3395b-1957-4132-9247-faea2962f299'"
      ]
     },
     "execution_count": 10,
     "metadata": {},
     "output_type": "execute_result"
    }
   ],
   "source": [
    "artifact.image_name"
   ]
  },
  {
   "cell_type": "markdown",
   "id": "a04b993d-d13c-4fba-83fc-677da7d6543d",
   "metadata": {},
   "source": [
    "## Push artifact to container registry\n",
    "\n",
    "- This artifact will be pushed to <https://github.com/Jij-Inc/ommx/pkgs/container/ommx%2Fsingle_feasible_lp>\n",
    "- `push` requires authentication using personal access token (PAT) or `GITHUB_TOKEN` on GitHub Actions. There are two ways for authentication:\n",
    "  - Run CLI `ommx login` which stores authentication info on your machine.\n",
    "  - Use environment variables `OMMX_BASIC_AUTH_{DOMAIN,USERNAME,PASSWORD}`. For example, you can push your artifact to GitHub contaier registry from GitHub Actions with following setting:\n",
    "\n",
    "```yaml\n",
    "        env:\n",
    "          OMMX_BASIC_AUTH_DOMAIN: ghcr.io\n",
    "          OMMX_BASIC_AUTH_USERNAME: ${{ github.actor }}\n",
    "          OMMX_BASIC_AUTH_PASSWORD: ${{ github.token }}\n",
    "```"
   ]
  },
  {
   "cell_type": "code",
   "execution_count": 11,
   "id": "a06ef2f5-595f-485a-9ca9-11923278123b",
   "metadata": {},
   "outputs": [
    {
     "name": "stderr",
     "output_type": "stream",
     "text": [
      "INFO:ommx.artifact:Pushing: ghcr.io/jij-inc/ommx/single_feasible_lp:f1d3395b-1957-4132-9247-faea2962f299\n",
      "INFO:ocipkg.distribution.auth:Loaded auth info from: /Users/termoshtt/.ocipkg/config.json\n",
      "INFO:ocipkg.distribution.client:POST https://ghcr.io/v2/jij-inc/ommx/single_feasible_lp/blobs/uploads/\n",
      "INFO:ocipkg.distribution.client:PUT https://ghcr.io/v2/jij-inc/ommx/single_feasible_lp/blobs/upload/c3431c88-924c-4702-a2c9-0a0adc68fa47\n",
      "INFO:ocipkg.distribution.client:POST https://ghcr.io/v2/jij-inc/ommx/single_feasible_lp/blobs/uploads/\n",
      "INFO:ocipkg.distribution.client:PUT https://ghcr.io/v2/jij-inc/ommx/single_feasible_lp/blobs/upload/e54df69e-cc8f-4607-ab2e-6b6365b28e00\n",
      "INFO:ocipkg.distribution.client:POST https://ghcr.io/v2/jij-inc/ommx/single_feasible_lp/blobs/uploads/\n",
      "INFO:ocipkg.distribution.client:PUT https://ghcr.io/v2/jij-inc/ommx/single_feasible_lp/blobs/upload/26f1cfe5-1d82-440a-8c84-1e8342dd9583\n",
      "INFO:ocipkg.distribution.client:PUT https://ghcr.io/v2/jij-inc/ommx/single_feasible_lp/manifests/f1d3395b-1957-4132-9247-faea2962f299\n"
     ]
    }
   ],
   "source": [
    "artifact.push()"
   ]
  },
  {
   "cell_type": "markdown",
   "id": "a5e34238-1830-40ae-b28e-85d69f87346b",
   "metadata": {},
   "source": [
    "# Pull OMMX Artifact from GitHub Container registry"
   ]
  },
  {
   "cell_type": "code",
   "execution_count": 12,
   "id": "3d5b9073-5b78-4f79-943a-7e04ce06c5c3",
   "metadata": {},
   "outputs": [
    {
     "name": "stdout",
     "output_type": "stream",
     "text": [
      "ghcr.io/jij-inc/ommx/single_feasible_lp:f4c6829d-d80e-4c5b-b70e-6dd0c36c3217\n"
     ]
    }
   ],
   "source": [
    "# Load artifact from local registry, or download from contaier reigstry\n",
    "artifact = Artifact.load(\"ghcr.io/jij-inc/ommx/single_feasible_lp:f4c6829d-d80e-4c5b-b70e-6dd0c36c3217\")\n",
    "print(artifact.image_name)"
   ]
  },
  {
   "cell_type": "code",
   "execution_count": 13,
   "id": "d27b075c-cf2d-4fbc-8007-ae7176bf02af",
   "metadata": {},
   "outputs": [
    {
     "name": "stdout",
     "output_type": "stream",
     "text": [
      "{\n",
      "  \"mediaType\": \"application/org.ommx.v1.instance\",\n",
      "  \"digest\": \"sha256:6b14d70f79418342221a9d2088c55fa57a2cb4bd1e8174f46571fd1082b982cb\",\n",
      "  \"size\": 263,\n",
      "  \"annotations\": {\n",
      "    \"org.ommx.v1.instance.created\": \"2024-06-07T03:02:09.190323+00:00\",\n",
      "    \"org.ommx.v1.instance.title\": \"Single feasible LP instance\"\n",
      "  }\n",
      "}\n",
      "{\n",
      "  \"mediaType\": \"application/org.ommx.v1.solution\",\n",
      "  \"digest\": \"sha256:2be0635ff1e644d1cb8a0bfcc8a933b0d0b33588fe3ad9538bc8ae0febefc87a\",\n",
      "  \"size\": 150,\n",
      "  \"annotations\": {\n",
      "    \"org.ommx.v1.solution.parameters\": \"[3, \\\"int\\\"]\",\n",
      "    \"org.ommx.v1.solution.instance\": \"sha256:6b14d70f79418342221a9d2088c55fa57a2cb4bd1e8174f46571fd1082b982cb\"\n",
      "  }\n",
      "}\n"
     ]
    }
   ],
   "source": [
    "for desc in artifact.layers:\n",
    "    print(desc)"
   ]
  },
  {
   "cell_type": "code",
   "execution_count": 14,
   "id": "12161bfe-95a7-4577-8925-a3dd8f72f6f7",
   "metadata": {},
   "outputs": [],
   "source": [
    "desc = artifact.get_layer_descriptor(\"sha256:6b14d70f79418342221a9d2088c55fa57a2cb4bd1e8174f46571fd1082b982cb\")\n",
    "instance = artifact.get_instance(desc)"
   ]
  },
  {
   "cell_type": "code",
   "execution_count": 15,
   "id": "903cfc6a-4ea7-40d8-bcc0-91c100da61ff",
   "metadata": {},
   "outputs": [
    {
     "data": {
      "text/plain": [
       "'Single feasible LP instance'"
      ]
     },
     "execution_count": 15,
     "metadata": {},
     "output_type": "execute_result"
    }
   ],
   "source": [
    "instance.title"
   ]
  },
  {
   "cell_type": "code",
   "execution_count": 16,
   "id": "e7beba0c-9ea2-44cf-999d-1ac12181fd09",
   "metadata": {},
   "outputs": [],
   "source": [
    "desc = artifact.get_layer_descriptor(\"sha256:2be0635ff1e644d1cb8a0bfcc8a933b0d0b33588fe3ad9538bc8ae0febefc87a\")\n",
    "solution = artifact.get_solution(desc)"
   ]
  },
  {
   "cell_type": "code",
   "execution_count": 17,
   "id": "9f4c8614-0452-4a65-8696-899a12f5a284",
   "metadata": {},
   "outputs": [
    {
     "data": {
      "text/plain": [
       "[3, 'int']"
      ]
     },
     "execution_count": 17,
     "metadata": {},
     "output_type": "execute_result"
    }
   ],
   "source": [
    "solution.parameters"
   ]
  }
 ],
 "metadata": {
  "kernelspec": {
   "display_name": "Python 3 (ipykernel)",
   "language": "python",
   "name": "python3"
  },
  "language_info": {
   "codemirror_mode": {
    "name": "ipython",
    "version": 3
   },
   "file_extension": ".py",
   "mimetype": "text/x-python",
   "name": "python",
   "nbconvert_exporter": "python",
   "pygments_lexer": "ipython3",
   "version": "3.11.4"
  }
 },
 "nbformat": 4,
 "nbformat_minor": 5
}
