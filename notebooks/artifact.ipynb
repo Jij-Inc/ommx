{
 "cells": [
  {
   "cell_type": "markdown",
   "id": "ec41c28b-5d3f-4e6c-a76a-bae41a57186f",
   "metadata": {},
   "source": [
    "# Create OMMX Artifact"
   ]
  },
  {
   "cell_type": "code",
   "execution_count": 1,
   "id": "f8fe903b-8acd-40dc-9263-7c5f9197876d",
   "metadata": {},
   "outputs": [],
   "source": [
    "import logging\n",
    "logging.basicConfig(level=logging.INFO)"
   ]
  },
  {
   "cell_type": "code",
   "execution_count": 2,
   "id": "57b9e174-2c4c-444a-9ea7-d0ab6f112162",
   "metadata": {},
   "outputs": [],
   "source": [
    "import uuid\n",
    "from ommx.artifact import Artifact, ArtifactBuilder\n",
    "from ommx.testing import SingleFeasibleLPGenerator, DataType"
   ]
  },
  {
   "cell_type": "code",
   "execution_count": 3,
   "id": "4be947b0-95c5-477b-8c7e-d2501c03a2d8",
   "metadata": {},
   "outputs": [],
   "source": [
    "generator = SingleFeasibleLPGenerator(3, DataType.INT)\n",
    "instance = generator.get_v1_instance()\n",
    "state = generator.get_v1_state()"
   ]
  },
  {
   "cell_type": "code",
   "execution_count": 4,
   "id": "00061527-a0ee-4b78-8727-8472c27cac7e",
   "metadata": {},
   "outputs": [],
   "source": [
    "builder = ArtifactBuilder.new(f\"ghcr.io/jij-inc/ommx/single_feasible_lp:{uuid.uuid4()}\")\n",
    "builder.add_instance(instance)\n",
    "artifact = builder.build()"
   ]
  },
  {
   "cell_type": "code",
   "execution_count": 5,
   "id": "a06ef2f5-595f-485a-9ca9-11923278123b",
   "metadata": {},
   "outputs": [
    {
     "name": "stderr",
     "output_type": "stream",
     "text": [
      "INFO:ommx.artifact:Pushing: ghcr.io/jij-inc/ommx/single_feasible_lp:75edb44f-82c2-4869-9695-0b98e48c5979\n",
      "INFO:ocipkg.distribution.client:POST https://ghcr.io/v2/jij-inc/ommx/single_feasible_lp/blobs/uploads/\n",
      "INFO:ocipkg.distribution.client:PUT https://ghcr.io/v2/jij-inc/ommx/single_feasible_lp/blobs/upload/ca328d27-de37-4f3c-a13f-578a98632d70\n",
      "INFO:ocipkg.distribution.client:POST https://ghcr.io/v2/jij-inc/ommx/single_feasible_lp/blobs/uploads/\n",
      "INFO:ocipkg.distribution.client:PUT https://ghcr.io/v2/jij-inc/ommx/single_feasible_lp/blobs/upload/b5fddbe8-b5b5-4564-9534-d803c3be30a9\n",
      "INFO:ocipkg.distribution.client:PUT https://ghcr.io/v2/jij-inc/ommx/single_feasible_lp/manifests/75edb44f-82c2-4869-9695-0b98e48c5979\n"
     ]
    }
   ],
   "source": [
    "artifact.push()"
   ]
  },
  {
   "cell_type": "code",
   "execution_count": null,
   "id": "d4dc2c60-445a-4336-bb30-c269a482586d",
   "metadata": {},
   "outputs": [],
   "source": []
  }
 ],
 "metadata": {
  "kernelspec": {
   "display_name": "Python 3 (ipykernel)",
   "language": "python",
   "name": "python3"
  },
  "language_info": {
   "codemirror_mode": {
    "name": "ipython",
    "version": 3
   },
   "file_extension": ".py",
   "mimetype": "text/x-python",
   "name": "python",
   "nbconvert_exporter": "python",
   "pygments_lexer": "ipython3",
   "version": "3.11.4"
  }
 },
 "nbformat": 4,
 "nbformat_minor": 5
}
