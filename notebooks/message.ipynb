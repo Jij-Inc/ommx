{
 "cells": [
  {
   "cell_type": "markdown",
   "id": "dbd76b4d-f6ad-4c34-a312-77961e70b4ad",
   "metadata": {},
   "source": [
    "# OMMX Message\n",
    "\n",
    "OMMX defines two data formats, OMMX Message and OMMX Artifact. This notebook is a tutorial for OMMX Message"
   ]
  },
  {
   "cell_type": "markdown",
   "id": "8f7a29d7-c89c-4ef1-9fd5-172e73321aaa",
   "metadata": {},
   "source": [
    "## Instance\n",
    "\n",
    "Instance is a "
   ]
  },
  {
   "cell_type": "code",
   "execution_count": null,
   "id": "13a4843d-dfc5-48ba-aabd-fc821e121a0d",
   "metadata": {},
   "outputs": [],
   "source": []
  },
  {
   "cell_type": "code",
   "execution_count": null,
   "id": "b1098b0f-39de-4ce2-83cd-a7305134e6b9",
   "metadata": {},
   "outputs": [],
   "source": []
  },
  {
   "cell_type": "markdown",
   "id": "2ef9f647-0f90-40b7-b075-9467c6cf3ba0",
   "metadata": {},
   "source": [
    "## Solution"
   ]
  },
  {
   "cell_type": "code",
   "execution_count": null,
   "id": "a7b1e309-25f9-4d2e-a285-05a9cdee545b",
   "metadata": {},
   "outputs": [],
   "source": []
  }
 ],
 "metadata": {
  "kernelspec": {
   "display_name": "Python 3 (ipykernel)",
   "language": "python",
   "name": "python3"
  },
  "language_info": {
   "codemirror_mode": {
    "name": "ipython",
    "version": 3
   },
   "file_extension": ".py",
   "mimetype": "text/x-python",
   "name": "python",
   "nbconvert_exporter": "python",
   "pygments_lexer": "ipython3",
   "version": "3.11.4"
  }
 },
 "nbformat": 4,
 "nbformat_minor": 5
}
