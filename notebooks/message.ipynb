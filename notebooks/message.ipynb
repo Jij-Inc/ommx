{
 "cells": [
  {
   "cell_type": "markdown",
   "id": "dbd76b4d-f6ad-4c34-a312-77961e70b4ad",
   "metadata": {},
   "source": [
    "# OMMX Message\n",
    "\n",
    "OMMX defines two main data formats:\n",
    "\n",
    "1. **OMMX Message**: Represents mathematical programming problems/instances\n",
    "2. **OMMX Artifact**: Represents other related artifacts like metadata.\n",
    "\n",
    "In this tutorial notebook, we'll focus primarily usage of OMMX Message. The design concept of OMMX message is discussed in [the design document](https://github.com/Jij-Inc/ommx/blob/main/MESSAGE.md). You can learn more about OMMX Artifact in the [design document](https://github.com/Jij-Inc/ommx/blob/main/ARTIFACT.md) and [Notebook](https://github.com/Jij-Inc/ommx/blob/main/notebooks/artifact.ipynb)"
   ]
  },
  {
   "cell_type": "markdown",
   "id": "e979c96e-9b87-49d3-a790-c3c39206e602",
   "metadata": {},
   "source": [
    "## Creating an OMMX Instance\n",
    "\n",
    "An `Instance` is the fundamental OMMX object representing a mathematical programming problem. Let's see how to create one for a simple problem.\n",
    "\n",
    "### Example: Knapsack Problem\n",
    "\n",
    "Consider the following Knapsack problem:\n",
    "\n",
    "$$\n",
    "\\begin{align*}\n",
    "& \\text{Maximize} & \\sum_{i=1}^n p_i x_i & \\\\\n",
    "&\\text{Subject to} & \\sum_{i=1}^n w_i x_i \\leq W & ,\\space x_i \\in \\{0, 1\\} \\quad (i = 1, \\ldots, n)\n",
    "\\end{align*}\n",
    "$$\n",
    "\n",
    "Here:\n",
    "- $p_i$ is the profit of item $i$ \n",
    "- $w_i$ is the weight of item $i$\n",
    "- $W$ is the knapsack capacity\n",
    "- $x_i$ are the binary decision variables (to be determined by solving the problem)\n",
    "\n",
    "To construct the `Instance`, we'll follow these steps:\n",
    "\n",
    "1. Define the decision variables\n",
    "2. Build the objective function \n",
    "3. Specify the constraints\n",
    "4. Create the `Instance`\n",
    "\n",
    "Let's walk through each step:"
   ]
  },
  {
   "cell_type": "code",
   "execution_count": 1,
   "id": "1d505e62-d196-4d47-b257-3248ccba85cd",
   "metadata": {},
   "outputs": [],
   "source": [
    "from ommx.v1 import Instance, DecisionVariable\n",
    "\n",
    "# Problem data\n",
    "p = [10, 13, 18, 31, 7, 15]  # Profits\n",
    "w = [11, 15, 20, 35, 10, 33] # Weights\n",
    "W = 47  # Knapsack capacity\n",
    "\n",
    "# Step 1: Define decision variables\n",
    "# x[i] is 1 if item i is selected, 0 otherwise\n",
    "x = [DecisionVariable.binary(i) for i in range(6)]\n",
    "\n",
    "# Step 2: Build objective function\n",
    "# Maximize total profit\n",
    "objective = sum(p[i] * x[i] for i in range(6))\n",
    "\n",
    "# Step 3: Specify constraints \n",
    "# Total weight must be <= knapsack capacity\n",
    "constraint = sum(w[i] * x[i] for i in range(6)) <= W\n",
    "\n",
    "# Step 4: Create the Instance\n",
    "instance = Instance.from_components(\n",
    "    decision_variables=x,\n",
    "    objective=objective,\n",
    "    constraints=[constraint],\n",
    "    sense=Instance.MAXIMIZE,\n",
    ")"
   ]
  },
  {
   "cell_type": "markdown",
   "id": "b8944011-3880-43d6-af67-3d603b684cd4",
   "metadata": {},
   "source": [
    "### Decision Variables\n",
    "\n",
    "In OMMX, each decision variable has a unique ID, specified when creating the `DecisionVariable` object. In the example above, the ID is simply the index `i` in the list comprehension.\n",
    "\n",
    "The `DecisionVariable` class represents the variable's ID and kind (continuous, binary, integer):"
   ]
  },
  {
   "cell_type": "code",
   "execution_count": 2,
   "id": "dc21c1bb-f4a4-4dfd-a989-e826e32628e7",
   "metadata": {},
   "outputs": [
    {
     "data": {
      "text/plain": [
       "DecisionVariable(raw=id: 1\n",
       "kind: KIND_BINARY\n",
       ")"
      ]
     },
     "execution_count": 2,
     "metadata": {},
     "output_type": "execute_result"
    }
   ],
   "source": [
    "x[1]"
   ]
  },
  {
   "cell_type": "markdown",
   "id": "daaa83a1-8862-4a04-a1d1-c3101b5ddde9",
   "metadata": {},
   "source": [
    "### Linear Functions\n",
    "\n",
    "The objective and constraints are represented as linear functions of the decision variables.\n",
    "\n",
    "Since the variable values are unknown until the problem is solved, OMMX uses a symbolic representation. A linear function like $2x_1 + 3x_2$ is encoded as a list of (variable ID, coefficient) pairs:"
   ]
  },
  {
   "cell_type": "code",
   "execution_count": 3,
   "id": "bbe6a8af-9f55-4594-ac77-2d12f172747f",
   "metadata": {},
   "outputs": [
    {
     "data": {
      "text/plain": [
       "Linear(raw=terms {\n",
       "  id: 1\n",
       "  coefficient: 2\n",
       "}\n",
       "terms {\n",
       "  id: 2\n",
       "  coefficient: 3\n",
       "}\n",
       ")"
      ]
     },
     "execution_count": 3,
     "metadata": {},
     "output_type": "execute_result"
    }
   ],
   "source": [
    "2 * x[1] + 3 * x[2]"
   ]
  },
  {
   "cell_type": "markdown",
   "id": "61328255-d2b5-42a6-bfbe-98217a484b45",
   "metadata": {},
   "source": [
    "The `DecisionVariable` class overloads `+` and `*` to allow building linear expressions easily.\n",
    "\n",
    "- For the objective, simply build the linear function to be maximized/minimized\n",
    "- For constraints, use comparison operators `<=`, `>=`, `==` on linear expressions"
   ]
  },
  {
   "cell_type": "code",
   "execution_count": 4,
   "id": "39762faa-cf06-4800-831a-5ca694a7d7cc",
   "metadata": {},
   "outputs": [
    {
     "data": {
      "text/plain": [
       "Constraint(raw=id: 1\n",
       "equality: EQUALITY_LESS_THAN_OR_EQUAL_TO_ZERO\n",
       "function {\n",
       "  linear {\n",
       "    terms {\n",
       "      id: 1\n",
       "      coefficient: 3\n",
       "    }\n",
       "    terms {\n",
       "      id: 3\n",
       "      coefficient: 4\n",
       "    }\n",
       "    constant: -10\n",
       "  }\n",
       "}\n",
       ")"
      ]
     },
     "execution_count": 4,
     "metadata": {},
     "output_type": "execute_result"
    }
   ],
   "source": [
    "3 * x[1] + 4 * x[3] <= 10"
   ]
  },
  {
   "cell_type": "markdown",
   "id": "553cbf81-4c6e-407e-afcd-856a545f670c",
   "metadata": {},
   "source": [
    "Constraints are automatically assigned unique IDs when created this way. You can also manually assign IDs - see the [Constraint API docs](https://jij-inc.github.io/ommx/python/ommx/autoapi/ommx/v1/constraint_pb2/index.html#ommx.v1.constraint_pb2.Constraint) for details.\n",
    "\n",
    "The `Instance` object collects all of this information - the variables, objective, and constraints - into a single problem specification."
   ]
  },
  {
   "cell_type": "code",
   "execution_count": 5,
   "id": "b3fdb4fb",
   "metadata": {},
   "outputs": [],
   "source": [
    "byte_array = instance.to_bytes()"
   ]
  },
  {
   "cell_type": "markdown",
   "id": "29d091a6",
   "metadata": {},
   "source": [
    "This `byte_array` is a binary representation of the `Instance` object based on the [OMMX Message schema](https://jij-inc.github.io/ommx/protobuf.html) defined by the [Protocol Buffers](https://protobuf.dev/). The `Instance` object can be deserialized from this binary representation by calling `Instance.from_bytes` method."
   ]
  },
  {
   "cell_type": "code",
   "execution_count": 6,
   "id": "2cfcff42",
   "metadata": {},
   "outputs": [],
   "source": [
    "instance = Instance.from_bytes(byte_array)"
   ]
  },
  {
   "cell_type": "markdown",
   "id": "89ef4a2e",
   "metadata": {},
   "source": [
    "The main advantage of Protocol Buffers is that it is language and platform independent. The `Instance` object can be serialized in Python and deserialized in other languages such as C++ or Rust and vice versa. This is useful when you want to create a problem in Python on your laptop, and solve it in C++ or Rust on a server. See [MESSAGE.md](https://github.com/Jij-Inc/ommx/blob/main/MESSAGE.md) for more details about entire design.\n",
    "\n",
    "Note that OMMX is not designed as a modeler library, and modeler API is very limited. The above example is just a demonstration of what data is stored in `Instance` object for better understanding of serialized data."
   ]
  },
  {
   "cell_type": "markdown",
   "id": "2ff91048",
   "metadata": {},
   "source": [
    "## Solve using Python-MIP\n",
    "\n",
    "OMMX project manages an adapter package `ommx-python-mip-adapter`, which provides a bridge between OMMX and Python-MIP. Python-MIP is a Python library for mathematical programming, which provides a high-level modeling API. The adapter package converts `Instance` object to Python-MIP model, and vice versa.\n",
    "\n",
    "Let's solve the above Knapsack instance using Python-MIP:"
   ]
  },
  {
   "cell_type": "code",
   "execution_count": 7,
   "id": "26da607f",
   "metadata": {},
   "outputs": [],
   "source": [
    "import ommx_python_mip_adapter as adapter\n",
    "\n",
    "result = adapter.solve(instance)"
   ]
  },
  {
   "cell_type": "markdown",
   "id": "e025692f",
   "metadata": {},
   "source": [
    "`result` is object of type `ommx.v1.Result` which contains `solution` field if solved. This may contain `infeasible` field if the problem is infeasible, i.e. the solver prove that all solution of the problem is infeasible, or `unbounded` field if the problem is unbounded."
   ]
  },
  {
   "cell_type": "code",
   "execution_count": 8,
   "id": "57713f32",
   "metadata": {},
   "outputs": [],
   "source": [
    "assert result.HasField(\"solution\")  # Above KnapSack problem has a solution\n",
    "solution = result.solution"
   ]
  },
  {
   "cell_type": "markdown",
   "id": "6b92c135",
   "metadata": {},
   "source": [
    "The main part of the solution is the values of the decision variables $x_i$. They are stored in `state` field:"
   ]
  },
  {
   "cell_type": "code",
   "execution_count": 9,
   "id": "1750459c",
   "metadata": {},
   "outputs": [
    {
     "data": {
      "text/plain": [
       "{3: 1.0, 2: 0.0, 0: 1.0, 1: 0.0, 5: 0.0, 4: 0.0}"
      ]
     },
     "execution_count": 9,
     "metadata": {},
     "output_type": "execute_result"
    }
   ],
   "source": [
    "solution.state.entries"
   ]
  },
  {
   "cell_type": "markdown",
   "id": "297a6a70",
   "metadata": {},
   "source": [
    "This says $x[0] = x[3] = 1$ and others are $0$. Then the profit is $p[0] + p[3] = 10 + 31 = 41$."
   ]
  },
  {
   "cell_type": "code",
   "execution_count": 10,
   "id": "0754f82f",
   "metadata": {},
   "outputs": [
    {
     "data": {
      "text/plain": [
       "41.0"
      ]
     },
     "execution_count": 10,
     "metadata": {},
     "output_type": "execute_result"
    }
   ],
   "source": [
    "solution.objective"
   ]
  },
  {
   "cell_type": "markdown",
   "id": "601b5629",
   "metadata": {},
   "source": [
    "OMMX normalizes inequality constraints into $f(x) \\leq 0$ form, i.e. the above constraint is normalized as follows:\n",
    "\n",
    "$$\n",
    "f(x) = \\sum_{i=1}^n w_i x_i - W \\leq 0\n",
    "$$\n",
    "\n",
    "Substituting $x$, its yields $f(x) = w[0] + w[3] - W = 11 + 35 - 47 = -1$. This is stored in `evaluated_value` field."
   ]
  },
  {
   "cell_type": "code",
   "execution_count": 11,
   "id": "1241cd61",
   "metadata": {},
   "outputs": [
    {
     "data": {
      "text/plain": [
       "-1.0"
      ]
     },
     "execution_count": 11,
     "metadata": {},
     "output_type": "execute_result"
    }
   ],
   "source": [
    "assert len(solution.evaluated_constraints) == 1  # There is only one constraint\n",
    "constraint = solution.evaluated_constraints[0]\n",
    "constraint.evaluated_value"
   ]
  }
 ],
 "metadata": {
  "kernelspec": {
   "display_name": "Python 3 (ipykernel)",
   "language": "python",
   "name": "python3"
  },
  "language_info": {
   "codemirror_mode": {
    "name": "ipython",
    "version": 3
   },
   "file_extension": ".py",
   "mimetype": "text/x-python",
   "name": "python",
   "nbconvert_exporter": "python",
   "pygments_lexer": "ipython3",
   "version": "3.11.4"
  }
 },
 "nbformat": 4,
 "nbformat_minor": 5
}
