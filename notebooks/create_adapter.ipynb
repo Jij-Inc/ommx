{
 "cells": [
  {
   "cell_type": "markdown",
   "id": "2ee00a52-2d8b-46a4-9967-bb09e3355632",
   "metadata": {},
   "source": [
    "# Create OMMX Adapters\n",
    "\n",
    "OMMX is designed to exchange instance between modelers and solvers. This means each modeler needs to export their model into an [ommx.v1.Instance] and each solver needs to load an [ommx.v1.Instance] to solve it. We hope existing modelers and solvers implement their own exporter and loader of [ommx.v1.Instance], but it is possible to implement external libraries to translate the modeler-specific model between [ommx.v1.Instance]. Such libraries are called OMMX \"Adapter\".\n",
    "\n",
    "[ommx-python-mip-adapeter](https://pypi.org/project/ommx-python-mip-adapter/) is an example of OMMX Adapter for [Python-MIP](https://www.python-mip.com/). This library translates the [Python-MIP's Model](https://python-mip.readthedocs.io/en/latest/classes.html#model) to [ommx.v1.Instance] and vice versa.\n",
    "\n",
    "This notebook shows how to create an OMMX Adapter for a modeler-specific model.\n",
    "\n",
    "[ommx.v1.Instance]: https://jij-inc.github.io/ommx/python/ommx/autoapi/ommx/v1/index.html#ommx.v1.Instance"
   ]
  },
  {
   "cell_type": "markdown",
   "id": "12ca9125",
   "metadata": {},
   "source": [
    "## Raw interface\n",
    "OMMX Python SDK provides a two level interface, raw interface and high-level interface.\n",
    "\n",
    "- The high-level interface provides a user-friendly interface for users who using OMMX-supported modelers and solvers.\n",
    "- The raw interface provides a low-level interface for users who want to implement their own OMMX Adapter. This exposes the interface to protocol buffer messages directly.\n",
    "\n",
    "This notebook uses the raw interface to create an OMMX Adapter."
   ]
  },
  {
   "cell_type": "code",
   "execution_count": 1,
   "id": "69c31b51-72f3-4f2a-b54c-c924066a4d85",
   "metadata": {},
   "outputs": [],
   "source": [
    "from ommx.artifact import Artifact"
   ]
  },
  {
   "cell_type": "code",
   "execution_count": 2,
   "id": "d013d422",
   "metadata": {},
   "outputs": [],
   "source": [
    "artifact = Artifact.load_archive(\"../data/random_lp_instance.ommx\")"
   ]
  },
  {
   "cell_type": "code",
   "execution_count": null,
   "id": "8c0427cb",
   "metadata": {},
   "outputs": [],
   "source": []
  }
 ],
 "metadata": {
  "kernelspec": {
   "display_name": "Python 3 (ipykernel)",
   "language": "python",
   "name": "python3"
  },
  "language_info": {
   "codemirror_mode": {
    "name": "ipython",
    "version": 3
   },
   "file_extension": ".py",
   "mimetype": "text/x-python",
   "name": "python",
   "nbconvert_exporter": "python",
   "pygments_lexer": "ipython3",
   "version": "3.11.4"
  }
 },
 "nbformat": 4,
 "nbformat_minor": 5
}
