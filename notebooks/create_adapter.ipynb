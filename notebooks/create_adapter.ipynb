{
 "cells": [
  {
   "cell_type": "markdown",
   "id": "2ee00a52-2d8b-46a4-9967-bb09e3355632",
   "metadata": {},
   "source": [
    "# Create OMMX Adapters\n",
    "\n",
    "OMMX is designed to exchange instance between modelers and solvers. This means each modeler needs to export their model into an [ommx.v1.Instance] and each solver needs to load an [ommx.v1.Instance] to solve it. We hope existing modelers and solvers implement their own exporter and loader of [ommx.v1.Instance], but it is possible to implement external libraries to translate the modeler-specific model between [ommx.v1.Instance]. Such libraries are called OMMX \"Adapter\".\n",
    "\n",
    "[ommx-python-mip-adapeter](https://pypi.org/project/ommx-python-mip-adapter/) is an example of OMMX Adapter for [Python-MIP](https://www.python-mip.com/). This library translates the [Python-MIP's Model](https://python-mip.readthedocs.io/en/latest/classes.html#model) to [ommx.v1.Instance] and vice versa.\n",
    "\n",
    "This notebook shows how to create an OMMX Adapter for a modeler-specific model.\n",
    "\n",
    "[ommx.v1.Instance]: https://jij-inc.github.io/ommx/python/ommx/autoapi/ommx/v1/index.html#ommx.v1.Instance"
   ]
  },
  {
   "cell_type": "code",
   "execution_count": 1,
   "id": "69c31b51-72f3-4f2a-b54c-c924066a4d85",
   "metadata": {},
   "outputs": [],
   "source": [
    "import ommx.v1\n",
    "from ommx.artifact import Artifact"
   ]
  },
  {
   "cell_type": "markdown",
   "id": "12ca9125",
   "metadata": {},
   "source": [
    "## Raw interface\n",
    "OMMX Python SDK provides a two level interface, raw interface and high-level interface.\n",
    "\n",
    "- The high-level interface provides a user-friendly interface for users who using OMMX-supported modelers and solvers.\n",
    "- The raw interface provides a low-level interface for users who want to implement their own OMMX Adapter. This exposes the interface to protocol buffer messages directly.\n",
    "\n",
    "This notebook uses the raw interface to create an OMMX Adapter. First, load an example instance of LP problem:\n",
    "\n",
    "$$\n",
    "\\begin{align*}\n",
    "\\text{minimize} \\quad & c x \\\\\n",
    "\\text{subject to} \\quad & A x = b\n",
    "\\end{align*}\n",
    "$$\n",
    "\n",
    "with randomly generated $c \\in \\mathbb{R}^5$, $b \\in \\mathbb{R}^7$ vectors, and a matrix $A: \\mathbb{R}^5 \\to \\mathbb{R}^7$."
   ]
  },
  {
   "cell_type": "code",
   "execution_count": 2,
   "id": "d013d422",
   "metadata": {},
   "outputs": [],
   "source": [
    "# Load the instance from the archive\n",
    "artifact = Artifact.load_archive(\"../data/random_lp_instance.ommx\")\n",
    "\n",
    "# High-level API\n",
    "instance = artifact.instance\n",
    "assert isinstance(instance, ommx.v1.Instance)\n",
    "\n",
    "# Raw API\n",
    "raw = instance.raw\n",
    "assert isinstance(raw, ommx.v1.instance_pb2.Instance)"
   ]
  },
  {
   "cell_type": "markdown",
   "id": "76e314f8",
   "metadata": {},
   "source": [
    "`raw` is of type `ommx.v1.instance_pb2.Instance` which is automatically generated from the protobuf definition files `*.proto`. This contains the `objective` function to be minimized, `constraints` to be satisfied, and `variables` to be optimized."
   ]
  },
  {
   "cell_type": "code",
   "execution_count": 3,
   "id": "9f02e53f",
   "metadata": {},
   "outputs": [],
   "source": [
    "assert isinstance(raw.objective, ommx.v1.function_pb2.Function)\n",
    "\n",
    "# Since OMMX can store linear, quadratic, and polynomial functions, we need to check the type of the objective\n",
    "# If the function is linear, it will have a linear field\n",
    "linear = raw.objective.linear\n",
    "assert isinstance(linear, ommx.v1.linear_pb2.Linear)\n",
    "\n",
    "# If the function is quadratic, it will have a quadratic field\n",
    "try:\n",
    "    quadratic = raw.objective.quadratic\n",
    "except AttributeError:\n",
    "    # If the function is not quadratic, the quadratic field will not exist\n",
    "    print(\"The objective is not quadratic\")"
   ]
  },
  {
   "cell_type": "markdown",
   "id": "a6be310a",
   "metadata": {},
   "source": [
    "The linear function is represented as a list of terms. A term, e.g. $3 x_4$, is represented as a coefficient `3.0` and the index decision variable `4`. It is stored in `Linear.terms`:"
   ]
  },
  {
   "cell_type": "code",
   "execution_count": 4,
   "id": "0a1c7758",
   "metadata": {},
   "outputs": [
    {
     "name": "stdout",
     "output_type": "stream",
     "text": [
      "term.id=0, term.coefficient=-0.9785827930112365\n",
      "term.id=1, term.coefficient=-0.03808169072638057\n",
      "term.id=2, term.coefficient=-0.5649347710821964\n",
      "term.id=3, term.coefficient=0.29050659849927296\n",
      "term.id=4, term.coefficient=-0.25876722492556814\n"
     ]
    }
   ],
   "source": [
    "for term in linear.terms:\n",
    "    print(f\"{term.id=}, {term.coefficient=}\")"
   ]
  },
  {
   "cell_type": "markdown",
   "id": "8fea22fa",
   "metadata": {},
   "source": [
    "Constraint of the problem $Ax = b$ is stored in `constraints` field. Be sure that the constraint is normalized to $f(x) = 0$  or $f(x) \\leq 0$ form. For the linear constraint $Ax = b$, it is represented as $f(x) = Ax - b = 0$."
   ]
  },
  {
   "cell_type": "code",
   "execution_count": 5,
   "id": "1cca7a1a",
   "metadata": {},
   "outputs": [],
   "source": [
    "# There are 7 constraints\n",
    "assert len(raw.constraints) == 7\n",
    "\n",
    "# Take first constraint as an example\n",
    "constraint = raw.constraints[0]\n",
    "assert isinstance(constraint, ommx.v1.constraint_pb2.Constraint)\n",
    "\n",
    "# Constraint is an equality constraint\n",
    "assert constraint.equality == ommx.v1.constraint_pb2.Equality.EQUALITY_EQUAL_TO_ZERO\n",
    "\n",
    "# f(x) = Ax - b\n",
    "f = constraint.function\n",
    "assert isinstance(f, ommx.v1.function_pb2.Function)"
   ]
  }
 ],
 "metadata": {
  "kernelspec": {
   "display_name": "Python 3 (ipykernel)",
   "language": "python",
   "name": "python3"
  },
  "language_info": {
   "codemirror_mode": {
    "name": "ipython",
    "version": 3
   },
   "file_extension": ".py",
   "mimetype": "text/x-python",
   "name": "python",
   "nbconvert_exporter": "python",
   "pygments_lexer": "ipython3",
   "version": "3.11.4"
  }
 },
 "nbformat": 4,
 "nbformat_minor": 5
}
