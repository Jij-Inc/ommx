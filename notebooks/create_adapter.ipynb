{
 "cells": [
  {
   "cell_type": "markdown",
   "id": "2ee00a52-2d8b-46a4-9967-bb09e3355632",
   "metadata": {},
   "source": [
    "# Create OMMX Adapters\n",
    "\n",
    "OMMX is designed to exchange instance between modelers and solvers. This means each modeler needs to export their model into an [ommx.v1.Instance] and each solver needs to load an [ommx.v1.Instance] to solve it. We hope existing modelers and solvers implement their own exporter and loader of [ommx.v1.Instance], but it is possible to implement external libraries to translate the modeler-specific model between [ommx.v1.Instance]. Such libraries are called OMMX \"Adapter\".\n",
    "\n",
    "[ommx-python-mip-adapeter](https://pypi.org/project/ommx-python-mip-adapter/) is an example of OMMX Adapter for [Python-MIP](https://www.python-mip.com/). This library translates the [Python-MIP's Model](https://python-mip.readthedocs.io/en/latest/classes.html#model) to [ommx.v1.Instance] and vice versa.\n",
    "\n",
    "This notebook shows how to create an OMMX Adapter for a modeler-specific model.\n",
    "\n",
    "[ommx.v1.Instance]: https://jij-inc.github.io/ommx/python/ommx/autoapi/ommx/v1/index.html#ommx.v1.Instance"
   ]
  },
  {
   "cell_type": "code",
   "execution_count": 1,
   "id": "69c31b51-72f3-4f2a-b54c-c924066a4d85",
   "metadata": {},
   "outputs": [],
   "source": [
    "import ommx.v1\n",
    "from ommx.artifact import Artifact"
   ]
  },
  {
   "cell_type": "markdown",
   "id": "12ca9125",
   "metadata": {},
   "source": [
    "## Raw interface\n",
    "OMMX Python SDK provides a two level interface, **Raw API** and **High-Level API**.\n",
    "\n",
    "- **High-Level API** provides a user-friendly interface for users who using OMMX-supported modelers and solvers.\n",
    "- **Raw API** provides a low-level interface for users who want to implement their own OMMX Adapter. This exposes the interface to protocol buffer messages directly.\n",
    "\n",
    "This notebook uses the raw interface to create an OMMX Adapter. First, load an example instance of LP problem:\n",
    "\n",
    "$$\n",
    "\\begin{align*}\n",
    "\\text{minimize} \\quad & c x \\\\\n",
    "\\text{subject to} \\quad & A x = b\n",
    "\\end{align*}\n",
    "$$\n",
    "\n",
    "with randomly generated $c \\in \\mathbb{R}^5$, $b \\in \\mathbb{R}^7$ vectors, and a matrix $A: \\mathbb{R}^5 \\to \\mathbb{R}^7$."
   ]
  },
  {
   "cell_type": "code",
   "execution_count": 2,
   "id": "d013d422",
   "metadata": {},
   "outputs": [],
   "source": [
    "# Load the instance from the archive\n",
    "artifact = Artifact.load_archive(\"../data/random_lp_instance.ommx\")\n",
    "\n",
    "# High-level API\n",
    "instance = artifact.instance\n",
    "assert isinstance(instance, ommx.v1.Instance)\n",
    "\n",
    "# Raw API\n",
    "raw = instance.raw\n",
    "assert isinstance(raw, ommx.v1.instance_pb2.Instance)"
   ]
  },
  {
   "cell_type": "markdown",
   "id": "76e314f8",
   "metadata": {},
   "source": [
    "`raw` is of type `ommx.v1.instance_pb2.Instance` which is automatically generated from the protobuf definition files `*.proto`. This contains the `objective` function to be minimized, `constraints` to be satisfied, and `variables` to be optimized."
   ]
  },
  {
   "cell_type": "code",
   "execution_count": 3,
   "id": "9f02e53f",
   "metadata": {},
   "outputs": [],
   "source": [
    "# Minimization problem\n",
    "assert raw.sense == ommx.v1.instance_pb2.Instance.SENSE_MINIMIZE\n",
    "\n",
    "assert isinstance(raw.objective, ommx.v1.function_pb2.Function)\n",
    "\n",
    "# Since OMMX can store linear, quadratic, and polynomial functions, we need to check the type of the objective.\n",
    "# It can be checked using the `HasField` method.\n",
    "assert raw.objective.HasField(\"linear\")\n",
    "\n",
    "# Function is not a quadratic\n",
    "assert not raw.objective.HasField(\"quadratic\")\n",
    "\n",
    "# If the function is linear, it will have a linear field\n",
    "linear = raw.objective.linear\n",
    "assert isinstance(linear, ommx.v1.linear_pb2.Linear)"
   ]
  },
  {
   "cell_type": "markdown",
   "id": "a6be310a",
   "metadata": {},
   "source": [
    "The linear function is represented as a list of terms. A term, e.g. $3 x_4$, is represented as a coefficient `3.0` and the index decision variable `4`. It is stored in `Linear.terms`:"
   ]
  },
  {
   "cell_type": "code",
   "execution_count": 4,
   "id": "0a1c7758",
   "metadata": {},
   "outputs": [
    {
     "name": "stdout",
     "output_type": "stream",
     "text": [
      "term.id=0, term.coefficient=-0.9785827930112365\n",
      "term.id=1, term.coefficient=-0.03808169072638057\n",
      "term.id=2, term.coefficient=-0.5649347710821964\n",
      "term.id=3, term.coefficient=0.29050659849927296\n",
      "term.id=4, term.coefficient=-0.25876722492556814\n"
     ]
    }
   ],
   "source": [
    "for term in linear.terms:\n",
    "    print(f\"{term.id=}, {term.coefficient=}\")"
   ]
  },
  {
   "cell_type": "markdown",
   "id": "8fea22fa",
   "metadata": {},
   "source": [
    "Constraint of the problem $Ax = b$ is stored in `constraints` field. Be sure that the constraint is normalized to $f(x) = 0$  or $f(x) \\leq 0$ form. For the linear constraint $Ax = b$, it is represented as $f(x) = Ax - b = 0$."
   ]
  },
  {
   "cell_type": "code",
   "execution_count": 5,
   "id": "1cca7a1a",
   "metadata": {},
   "outputs": [],
   "source": [
    "# There are 7 constraints\n",
    "assert len(raw.constraints) == 7\n",
    "\n",
    "# Take first constraint as an example\n",
    "constraint = raw.constraints[0]\n",
    "assert isinstance(constraint, ommx.v1.constraint_pb2.Constraint)\n",
    "\n",
    "# Constraint is an equality constraint\n",
    "assert constraint.equality == ommx.v1.constraint_pb2.Equality.EQUALITY_EQUAL_TO_ZERO\n",
    "\n",
    "# f(x) = Ax - b\n",
    "f = constraint.function\n",
    "assert isinstance(f, ommx.v1.function_pb2.Function)"
   ]
  },
  {
   "cell_type": "markdown",
   "id": "d3c13d96-2658-4e1d-bd2d-e2533f9a608c",
   "metadata": {},
   "source": [
    "Instance also contains metadata for decision variables, e.g. kind, name, and subscript:"
   ]
  },
  {
   "cell_type": "code",
   "execution_count": 6,
   "id": "43455a38-5caa-48c4-a16c-67b877360c50",
   "metadata": {},
   "outputs": [
    {
     "name": "stdout",
     "output_type": "stream",
     "text": [
      "var.name='x', var.subscripts=[0], var.bound.lower=0.0, var.bound.upper=inf\n",
      "var.name='x', var.subscripts=[1], var.bound.lower=0.0, var.bound.upper=inf\n",
      "var.name='x', var.subscripts=[2], var.bound.lower=0.0, var.bound.upper=inf\n",
      "var.name='x', var.subscripts=[3], var.bound.lower=0.0, var.bound.upper=inf\n",
      "var.name='x', var.subscripts=[4], var.bound.lower=0.0, var.bound.upper=inf\n"
     ]
    }
   ],
   "source": [
    "assert len(raw.decision_variables) == 5\n",
    "for var in raw.decision_variables:\n",
    "    # `x` is continuous variable\n",
    "    assert var.kind == ommx.v1.decision_variables_pb2.DecisionVariable.Kind.KIND_CONTINUOUS\n",
    "    \n",
    "    print(f\"{var.name=}, {var.subscripts=}, {var.bound.lower=}, {var.bound.upper=}\")"
   ]
  },
  {
   "cell_type": "markdown",
   "id": "01531c89-0589-4d93-a2a0-1cd48c671776",
   "metadata": {},
   "source": [
    "## Create Python-MIP's model from ommx.v1.Instance\n",
    "\n",
    "Let's create a Python-MIP's model using Raw API. First, create a Python-MIP model with objective sense:"
   ]
  },
  {
   "cell_type": "code",
   "execution_count": 7,
   "id": "b222501f-bc65-4f43-ba2e-5b4605dec804",
   "metadata": {},
   "outputs": [],
   "source": [
    "import mip\n",
    "\n",
    "def convert_sense(ommx_sense):\n",
    "    \"\"\" Translate OMMX sense to Python-MIP sense \"\"\"\n",
    "    if ommx_sense == ommx.v1.instance_pb2.Instance.SENSE_MINIMIZE:\n",
    "        return mip.MINIMIZE\n",
    "    elif ommx_sense == ommx.v1.instance_pb2.Instance.SENSE_MAXIMIZE:\n",
    "        return mip.MAXIMIZE\n",
    "    else:\n",
    "        raise ValueError(f\"Unknown sense: {ommx_sense}\")\n",
    "\n",
    "model = mip.Model(sense=convert_sense(raw.sense), solver_name=\"CBC\")"
   ]
  },
  {
   "cell_type": "markdown",
   "id": "4f5c8cc4",
   "metadata": {},
   "source": [
    "Register decision variables to this mode"
   ]
  },
  {
   "cell_type": "code",
   "execution_count": 8,
   "id": "29356de9-12cb-4b6c-a470-c32f675402cf",
   "metadata": {},
   "outputs": [],
   "source": [
    "def convert_kind(ommx_kind):\n",
    "    \"\"\" Translate OMMX's decision variable kind to Python-MIP's variable type \"\"\"\n",
    "    if ommx_kind == ommx.v1.decision_variables_pb2.DecisionVariable.Kind.KIND_CONTINUOUS:\n",
    "        return mip.CONTINUOUS\n",
    "    elif ommx_kind == ommx.v1.decision_variables_pb2.DecisionVariable.Kind.KIND_INTEGER:\n",
    "        return mip.INTEGER\n",
    "    elif ommx_kind == ommx.v1.decision_variables_pb2.DecisionVariable.Kind.KIND_BINARY:\n",
    "        return mip.BINARY\n",
    "    else:\n",
    "        raise ValueError(f\"Unknown kind: {ommx_kind}\")\n",
    "\n",
    "xs = {\n",
    "    var.id: model.add_var(\n",
    "        # Use OMMX's variable ID\n",
    "        name=str(var.id),\n",
    "        var_type=convert_kind(var.kind),\n",
    "        lb=var.bound.lower,\n",
    "        ub=var.bound.upper\n",
    "    )\n",
    "    for var in raw.decision_variables\n",
    "}"
   ]
  },
  {
   "cell_type": "code",
   "execution_count": 9,
   "id": "8bb9e36f",
   "metadata": {},
   "outputs": [],
   "source": [
    "model.objective = mip.xsum(term.coefficient * xs[term.id] for term in linear.terms)\n",
    "for constraint in raw.constraints:\n",
    "    f = constraint.function\n",
    "    if constraint.equality == ommx.v1.constraint_pb2.Equality.EQUALITY_EQUAL_TO_ZERO:\n",
    "        model += mip.xsum(term.coefficient * xs[term.id] for term in f.linear.terms) == 0\n",
    "    else:\n",
    "        model += mip.xsum(term.coefficient * xs[term.id] for term in f.linear.terms) <= 0"
   ]
  }
 ],
 "metadata": {
  "kernelspec": {
   "display_name": "Python 3 (ipykernel)",
   "language": "python",
   "name": "python3"
  },
  "language_info": {
   "codemirror_mode": {
    "name": "ipython",
    "version": 3
   },
   "file_extension": ".py",
   "mimetype": "text/x-python",
   "name": "python",
   "nbconvert_exporter": "python",
   "pygments_lexer": "ipython3",
   "version": "3.11.4"
  }
 },
 "nbformat": 4,
 "nbformat_minor": 5
}
