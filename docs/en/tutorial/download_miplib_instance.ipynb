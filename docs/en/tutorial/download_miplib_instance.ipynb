{
 "cells": [
  {
   "cell_type": "markdown",
   "metadata": {},
   "source": [
    "# Downloading a MIPLIB Instance\n",
    "\n",
    "The OMMX repository provides mixed-integer programming benchmark instances from MIPLIB 2017 in OMMX Artifact format.\n",
    "\n",
    "```{note}\n",
    "More details: The MIPLIB 2017 instances in OMMX Artifact format are hosted in the GitHub Container Registry for the OMMX repository ([link](https://github.com/Jij-Inc/ommx/pkgs/container/ommx%2Fmiplib2017)).\n",
    "\n",
    "Please see [this page](https://docs.github.com/ja/packages/working-with-a-github-packages-registry/working-with-the-container-registry) for information on GitHub Container Registry.\n",
    "```\n",
    "\n",
    "You can easily download these instances with the OMMX SDK, then directly use them as inputs to OMMX Adapters.\n",
    "For example, to solve the neos-1122047 instance from MIPLIB 2017 ([reference](https://miplib.zib.de/instance_details_neos-1122047.html)) with PySCIPOpt, you can:\n",
    "\n",
    "1. Download the neos-1122047 instance with `dataset.miplib2017` from the OMMX Python SDK.\n",
    "2. Solve with PySCIPOpt via the OMMX PySCIPOpt Adapter.\n",
    "\n",
    "Here is a sample Python code:"
   ]
  },
  {
   "cell_type": "code",
   "execution_count": 1,
   "metadata": {},
   "outputs": [],
   "source": [
    "# OMMX Python SDK\n",
    "from ommx import dataset\n",
    "# OMMX PySCIPOpt Adapter\n",
    "from ommx_pyscipopt_adapter import OMMXPySCIPOptAdapter\n",
    "\n",
    "# Step 1: Download the neos-1122047 instance from MIPLIB 2017\n",
    "instance = dataset.miplib2017(\"neos-1122047\")\n",
    "\n",
    "# Step 2: Solve with PySCIPOpt via the OMMX PySCIPOpt Adapter\n",
    "solution = OMMXPySCIPOptAdapter.solve(instance)"
   ]
  },
  {
   "cell_type": "markdown",
   "metadata": {},
   "source": [
    "This functionality makes it easy to run benchmark tests on multiple OMMX-compatible solvers using the same MIPLIB instances."
   ]
  },
  {
   "cell_type": "markdown",
   "metadata": {},
   "source": [
    "## Note about Annotations with the Instance\n",
    "\n",
    "The downloaded instance includes various annotations accessible via the `annotations` property:"
   ]
  },
  {
   "cell_type": "code",
   "execution_count": 2,
   "metadata": {},
   "outputs": [
    {
     "data": {
      "text/html": [
       "<div>\n",
       "<style scoped>\n",
       "    .dataframe tbody tr th:only-of-type {\n",
       "        vertical-align: middle;\n",
       "    }\n",
       "\n",
       "    .dataframe tbody tr th {\n",
       "        vertical-align: top;\n",
       "    }\n",
       "\n",
       "    .dataframe thead th {\n",
       "        text-align: right;\n",
       "    }\n",
       "</style>\n",
       "<table border=\"1\" class=\"dataframe\">\n",
       "  <thead>\n",
       "    <tr style=\"text-align: right;\">\n",
       "      <th></th>\n",
       "      <th>Value</th>\n",
       "    </tr>\n",
       "  </thead>\n",
       "  <tbody>\n",
       "    <tr>\n",
       "      <th>org.ommx.miplib.binaries</th>\n",
       "      <td>100</td>\n",
       "    </tr>\n",
       "    <tr>\n",
       "      <th>org.ommx.miplib.continuous</th>\n",
       "      <td>5000</td>\n",
       "    </tr>\n",
       "    <tr>\n",
       "      <th>org.ommx.miplib.group</th>\n",
       "      <td>neos-pseudoapplication-46</td>\n",
       "    </tr>\n",
       "    <tr>\n",
       "      <th>org.ommx.miplib.integers</th>\n",
       "      <td>0</td>\n",
       "    </tr>\n",
       "    <tr>\n",
       "      <th>org.ommx.miplib.non_zero</th>\n",
       "      <td>163640</td>\n",
       "    </tr>\n",
       "    <tr>\n",
       "      <th>org.ommx.miplib.objective</th>\n",
       "      <td>161</td>\n",
       "    </tr>\n",
       "    <tr>\n",
       "      <th>org.ommx.miplib.status</th>\n",
       "      <td>easy</td>\n",
       "    </tr>\n",
       "    <tr>\n",
       "      <th>org.ommx.miplib.tags</th>\n",
       "      <td>benchmark,benchmark_suitable,precedence,variab...</td>\n",
       "    </tr>\n",
       "    <tr>\n",
       "      <th>org.ommx.miplib.url</th>\n",
       "      <td>https://miplib.zib.de/instance_details_neos-11...</td>\n",
       "    </tr>\n",
       "    <tr>\n",
       "      <th>org.ommx.v1.instance.authors</th>\n",
       "      <td>NEOS Server Submission</td>\n",
       "    </tr>\n",
       "    <tr>\n",
       "      <th>org.ommx.v1.instance.constraints</th>\n",
       "      <td>57791</td>\n",
       "    </tr>\n",
       "    <tr>\n",
       "      <th>org.ommx.v1.instance.created</th>\n",
       "      <td>2025-07-25T15:47:50.383332+09:00</td>\n",
       "    </tr>\n",
       "    <tr>\n",
       "      <th>org.ommx.v1.instance.dataset</th>\n",
       "      <td>MIPLIB2017</td>\n",
       "    </tr>\n",
       "    <tr>\n",
       "      <th>org.ommx.v1.instance.license</th>\n",
       "      <td>CC-BY-SA-4.0</td>\n",
       "    </tr>\n",
       "    <tr>\n",
       "      <th>org.ommx.v1.instance.title</th>\n",
       "      <td>neos-1122047</td>\n",
       "    </tr>\n",
       "    <tr>\n",
       "      <th>org.ommx.v1.instance.variables</th>\n",
       "      <td>5100</td>\n",
       "    </tr>\n",
       "  </tbody>\n",
       "</table>\n",
       "</div>"
      ],
      "text/plain": [
       "                                                                              Value\n",
       "org.ommx.miplib.binaries                                                        100\n",
       "org.ommx.miplib.continuous                                                     5000\n",
       "org.ommx.miplib.group                                     neos-pseudoapplication-46\n",
       "org.ommx.miplib.integers                                                          0\n",
       "org.ommx.miplib.non_zero                                                     163640\n",
       "org.ommx.miplib.objective                                                       161\n",
       "org.ommx.miplib.status                                                         easy\n",
       "org.ommx.miplib.tags              benchmark,benchmark_suitable,precedence,variab...\n",
       "org.ommx.miplib.url               https://miplib.zib.de/instance_details_neos-11...\n",
       "org.ommx.v1.instance.authors                                 NEOS Server Submission\n",
       "org.ommx.v1.instance.constraints                                              57791\n",
       "org.ommx.v1.instance.created                       2025-07-25T15:47:50.383332+09:00\n",
       "org.ommx.v1.instance.dataset                                             MIPLIB2017\n",
       "org.ommx.v1.instance.license                                           CC-BY-SA-4.0\n",
       "org.ommx.v1.instance.title                                             neos-1122047\n",
       "org.ommx.v1.instance.variables                                                 5100"
      ]
     },
     "execution_count": 2,
     "metadata": {},
     "output_type": "execute_result"
    }
   ],
   "source": [
    "import pandas as pd\n",
    "# Display annotations in tabular form using pandas\n",
    "pd.DataFrame.from_dict(instance.annotations, orient=\"index\", columns=[\"Value\"]).sort_index()"
   ]
  },
  {
   "cell_type": "markdown",
   "metadata": {},
   "source": [
    "These instances have both dataset-level annotations and dataset-specific annotations.\n",
    "\n",
    "There are seven dataset-wide annotations with dedicated properties:\n",
    "\n",
    "| Annotation                                    | Property          | Description                                               |\n",
    "|----------------------------------------------|-------------------|-----------------------------------------------------------|\n",
    "| `org.ommx.v1.instance.authors`               | `authors`         | The authors of the instance                              |\n",
    "| `org.ommx.v1.instance.constraints`           | `num_constraints` | The number of constraint conditions in the instance      |\n",
    "| `org.ommx.v1.instance.created`               | `created`         | The date of the instance was saved as an OMMX Artifact   |\n",
    "| `org.ommx.v1.instance.dataset`               | `dataset`         | The name of the dataset to which this instance belongs   |\n",
    "| `org.ommx.v1.instance.license`               | `license`         | The license of this dataset                              |\n",
    "| `org.ommx.v1.instance.title`                 | `title`           | The name of the instance                                 |\n",
    "| `org.ommx.v1.instance.variables`             | `num_variables`   | The total number of decision variables in the instance   |\n",
    "\n",
    "MIPLIB-specific annotations are prefixed with `org.ommx.miplib.*`.\n",
    "\n",
    "For example, the optimal objective of the neos-1122047 instance is `26374`, which you can check with the key `org.ommx.miplib.objective`:\n"
   ]
  },
  {
   "cell_type": "code",
   "execution_count": 3,
   "metadata": {},
   "outputs": [
    {
     "data": {
      "text/plain": [
       "'161'"
      ]
     },
     "execution_count": 3,
     "metadata": {},
     "output_type": "execute_result"
    }
   ],
   "source": [
    "# Note that the values of annotations are all strings (str)!\n",
    "instance.annotations[\"org.ommx.miplib.objective\"]"
   ]
  },
  {
   "cell_type": "markdown",
   "metadata": {},
   "source": [
    "Thus, we can verify that the optimization result from the OMMX PySCIPOpt Adapter matches the expected optimal value."
   ]
  },
  {
   "cell_type": "code",
   "execution_count": 4,
   "metadata": {},
   "outputs": [],
   "source": [
    "import numpy as np\n",
    "\n",
    "best = float(instance.annotations[\"org.ommx.miplib.objective\"])\n",
    "assert np.isclose(solution.objective, best)"
   ]
  }
 ],
 "metadata": {
  "kernelspec": {
   "display_name": "ommx",
   "language": "python",
   "name": "python3"
  },
  "language_info": {
   "codemirror_mode": {
    "name": "ipython",
    "version": 3
   },
   "file_extension": ".py",
   "mimetype": "text/x-python",
   "name": "python",
   "nbconvert_exporter": "python",
   "pygments_lexer": "ipython3",
   "version": "3.9.23"
  }
 },
 "nbformat": 4,
 "nbformat_minor": 4
}
