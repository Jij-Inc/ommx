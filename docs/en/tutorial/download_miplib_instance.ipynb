{
 "cells": [
  {
   "cell_type": "markdown",
   "metadata": {},
   "source": [
    "# Downloading a MIPLIB Instance\n",
    "\n",
    "The OMMX repository provides mixed-integer programming benchmark instances from MIPLIB 2017 in OMMX Artifact format.\n",
    "\n",
    "```{note}\n",
    "More details: The MIPLIB 2017 instances in OMMX Artifact format are hosted in the GitHub Container Registry for the OMMX repository ([link](https://github.com/Jij-Inc/ommx/pkgs/container/ommx%2Fmiplib2017)).\n",
    "\n",
    "Please see [this page](https://docs.github.com/ja/packages/working-with-a-github-packages-registry/working-with-the-container-registry) for information on GitHub Container Registry.\n",
    "```\n",
    "\n",
    "You can easily download these instances with the OMMX SDK, then directly use them as inputs to OMMX Adapters.\n",
    "For example, to solve the air05 instance from MIPLIB 2017 ([reference](https://miplib.zib.de/instance_details_air05.html)) with PySCIPOpt, you can:\n",
    "\n",
    "1. Download the air05 instance with `dataset.miplib2017` from the OMMX Python SDK.\n",
    "2. Solve with PySCIPOpt via the OMMX PySCIPOpt Adapter.\n",
    "\n",
    "Here is a sample Python code:"
   ]
  },
  {
   "cell_type": "code",
   "execution_count": null,
   "metadata": {},
   "outputs": [],
   "source": [
    "# OMMX Python SDK\n",
    "from ommx import dataset\n",
    "# OMMX PySCIPOpt Adapter\n",
    "from ommx_pyscipopt_adapter import OMMXPySCIPOptAdapter\n",
    "\n",
    "# Step 1: Download the air05 instance from MIPLIB 2017\n",
    "instance = dataset.miplib2017(\"air05\")\n",
    "\n",
    "# Step 2: Solve with PySCIPOpt via the OMMX PySCIPOpt Adapter\n",
    "solution = OMMXPySCIPOptAdapter.solve(instance)"
   ]
  },
  {
   "cell_type": "markdown",
   "metadata": {},
   "source": [
    "This functionality makes it easy to run benchmark tests on multiple OMMX-compatible solvers using the same MIPLIB instances."
   ]
  },
  {
   "cell_type": "markdown",
   "metadata": {},
   "source": [
    "## Note about Annotations with the Instance\n",
    "\n",
    "The downloaded instance includes various annotations accessible via the `annotations` property:"
   ]
  },
  {
   "cell_type": "code",
   "execution_count": null,
   "metadata": {},
   "outputs": [],
   "source": [
    "import pandas as pd\n",
    "# Display annotations in tabular form using pandas\n",
    "pd.DataFrame.from_dict(instance.annotations, orient=\"index\", columns=[\"Value\"]).sort_index()"
   ]
  },
  {
   "cell_type": "markdown",
   "metadata": {},
   "source": [
    "These instances have both dataset-level annotations and dataset-specific annotations.\n",
    "\n",
    "There are seven dataset-wide annotations with dedicated properties:\n",
    "\n",
    "| Annotation                                    | Property          | Description                                               |\n",
    "|----------------------------------------------|-------------------|-----------------------------------------------------------|\n",
    "| `org.ommx.v1.instance.authors`               | `authors`         | The authors of the instance                              |\n",
    "| `org.ommx.v1.instance.constraints`           | `num_constraints` | The number of constraint conditions in the instance      |\n",
    "| `org.ommx.v1.instance.created`               | `created`         | The date of the instance was saved as an OMMX Artifact   |\n",
    "| `org.ommx.v1.instance.dataset`               | `dataset`         | The name of the dataset to which this instance belongs   |\n",
    "| `org.ommx.v1.instance.license`               | `license`         | The license of this dataset                              |\n",
    "| `org.ommx.v1.instance.title`                 | `title`           | The name of the instance                                 |\n",
    "| `org.ommx.v1.instance.variables`             | `num_variables`   | The total number of decision variables in the instance   |\n",
    "\n",
    "MIPLIB-specific annotations are prefixed with `org.ommx.miplib.*`.\n",
    "\n",
    "For example, the optimal objective of the air05 instance is `26374`, which you can check with the key `org.ommx.miplib.objective`:\n"
   ]
  },
  {
   "cell_type": "code",
   "execution_count": null,
   "metadata": {},
   "outputs": [],
   "source": [
    "# Note that the values of annotations are all strings (str)!\n",
    "assert instance.annotations[\"org.ommx.miplib.objective\"] == \"26374\""
   ]
  },
  {
   "cell_type": "markdown",
   "metadata": {},
   "source": [
    "Thus, we can verify that the optimization result from the OMMX PySCIPOpt Adapter matches the expected optimal value."
   ]
  },
  {
   "cell_type": "code",
   "execution_count": null,
   "metadata": {},
   "outputs": [],
   "source": [
    "import numpy as np\n",
    "\n",
    "best = float(instance.annotations[\"org.ommx.miplib.objective\"])\n",
    "assert np.isclose(solution.objective, best)"
   ]
  }
 ],
 "metadata": {
  "kernelspec": {
   "display_name": "Python 3 (ipykernel)",
   "language": "python",
   "name": "python3"
  },
  "language_info": {
   "codemirror_mode": {
    "name": "ipython",
    "version": 3
   },
   "file_extension": ".py",
   "mimetype": "text/x-python",
   "name": "python",
   "nbconvert_exporter": "python",
   "pygments_lexer": "ipython3",
   "version": "3.12.2"
  }
 },
 "nbformat": 4,
 "nbformat_minor": 4
}
