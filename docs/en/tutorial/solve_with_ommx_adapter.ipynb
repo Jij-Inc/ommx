{
 "cells": [
  {
   "cell_type": "markdown",
   "metadata": {},
   "source": [
    "# Solving Optimization Problems with OMMX Adapter\n",
    "\n",
    "OMMX provides OMMX Adapter software to enable interoperability with existing mathematical optimization tools. By using OMMX Adapter, you can convert optimization problems expressed in OMMX schemas into formats acceptable to other optimization tools, and convert the resulting data from those tools back into OMMX schemas.\n",
    "\n",
    "Here, we introduce how to solve a 0-1 Knapsack Problem via OMMX PySCIPOpt Adapter.\n",
    "\n",
    "## Installing the Required Libraries\n",
    "\n",
    "First, install OMMX PySCIPOpt Adapter with:\n",
    "\n",
    "```\n",
    "pip install ommx-pyscipopt-adapter\n",
    "```"
   ]
  },
  {
   "cell_type": "markdown",
   "metadata": {},
   "source": [
    "## Two Steps for Running the Optimization\n",
    "\n",
    "```{figure} ./assets/solve_with_ommx_adapter_01.png\n",
    ":alt: Flow for solving 0-1 Knapsack Problem via OMMX PySCIPOpt Adapter\n",
    "\n",
    "Flow for solving 0-1 Knapsack Problem with OMMX PySCIPOpt Adapter.\n",
    "```\n",
    "\n",
    "To solve the 0-1 Knapsack Problem through the OMMX PySCIPOpt Adapter, follow these two steps:\n",
    "\n",
    "1. Prepare the 0-1 Knapsack problem instance.\n",
    "2. Run the optimization via OMMX Adapter.\n",
    "\n",
    "In Step 1, we create an `ommx.v1.Instance` object defined in the OMMX Message Instance schema. There are several ways to generate this object, but in this guide, we'll illustrate how to write it directly using the OMMX Python SDK.\n",
    "\n",
    "```{tip}\n",
    "There are four ways to prepare an `ommx.v1.Instance` object:\n",
    "\n",
    "1. Write `ommx.v1.Instance` directly with the OMMX Python SDK.\n",
    "2. Convert an MPS file to `ommx.v1.Instance` using the OMMX Python SDK.\n",
    "3. Convert a problem instance from a different optimization tool into `ommx.v1.Instance` using an OMMX Adapter.\n",
    "4. Export `ommx.v1.Instance` from JijModeling.\n",
    "```\n",
    "\n",
    "In Step 2, we convert `ommx.v1.Instance` into a PySCIPOpt `Model` object and run optimization with SCIP. The result is obtained as an `ommx.v1.Solution` object defined by the OMMX Message Solution schema.\n",
    "\n",
    "### Step 1: Preparing a 0-1 Knapsack Problem Instance\n",
    "\n",
    "The 0-1 Knapsack problem is formulated as:\n",
    "\n",
    "$$\n",
    "\\begin{align*}\n",
    "\\mathrm{maximize} \\quad & \\sum_{i=0}^{N-1} v_i x_i \\\\\n",
    "\\mathrm{s.t.} \\quad & \\sum_{i=0}^{n-1} w_i x_i - W \\leq 0, \\\\\n",
    "& x_{i} \\in \\{ 0, 1\\} \n",
    "\\end{align*}\n",
    "$$"
   ]
  },
  {
   "cell_type": "markdown",
   "metadata": {},
   "source": [
    "Here, we set the following data as parameters for this mathematical model:"
   ]
  },
  {
   "cell_type": "code",
   "execution_count": 1,
   "metadata": {},
   "outputs": [],
   "source": [
    "# Data for 0-1 Knapsack Problem\n",
    "v = [10, 13, 18, 31, 7, 15]   # Values of each item\n",
    "w = [11, 25, 20, 35, 10, 33] # Weights of each item\n",
    "W = 47  # Capacity of the knapsack\n",
    "N = len(v)  # Total number of items"
   ]
  },
  {
   "cell_type": "markdown",
   "metadata": {},
   "source": [
    "Based on this mathematical model and data, the code for describing the problem instance using the OMMX Python SDK is as follows:"
   ]
  },
  {
   "cell_type": "code",
   "execution_count": 2,
   "metadata": {},
   "outputs": [],
   "source": [
    "from ommx.v1 import Instance, DecisionVariable\n",
    "\n",
    "# Define decision variables\n",
    "x = [\n",
    "    # Define binary variable x_i\n",
    "    DecisionVariable.binary(\n",
    "        # Specify the ID of the decision variable\n",
    "        id=i,\n",
    "        # Specify the name of the decision variable\n",
    "        name=\"x\",\n",
    "        # Specify the subscript of the decision variable\n",
    "        subscripts=[i],\n",
    "    )\n",
    "    # Prepare binary variables for the number of items\n",
    "    for i in range(N)\n",
    "]\n",
    "\n",
    "# Define the objective function\n",
    "objective = sum(v[i] * x[i] for i in range(N))\n",
    "\n",
    "# Define the constraint\n",
    "constraint = (sum(w[i] * x[i] for i in range(N)) <= W).add_name(\"Weight limit\")\n",
    "\n",
    "# Create an instance\n",
    "instance = Instance.from_components(\n",
    "    # Register all decision variables included in the instance\n",
    "    decision_variables=x,\n",
    "    # Register the objective function\n",
    "    objective=objective,\n",
    "    # Register all constraints\n",
    "    constraints=[constraint],\n",
    "    # Specify that it is a maximization problem\n",
    "    sense=Instance.MAXIMIZE,\n",
    ")"
   ]
  },
  {
   "cell_type": "markdown",
   "metadata": {},
   "source": [
    "### Step 2: Running Optimization with OMMX Adapter\n",
    "\n",
    "To optimize the instance prepared in Step 1, we run the optimization calculation via the OMMX PySCIPOpt Adapter as follows:"
   ]
  },
  {
   "cell_type": "code",
   "execution_count": 3,
   "metadata": {},
   "outputs": [],
   "source": [
    "from ommx_pyscipopt_adapter import OMMXPySCIPOptAdapter\n",
    "\n",
    "# Obtain an ommx.v1.Solution object through a PySCIPOpt model.\n",
    "solution = OMMXPySCIPOptAdapter.solve(instance)"
   ]
  },
  {
   "cell_type": "markdown",
   "metadata": {},
   "source": [
    "The variable `solution` here is an `ommx.v1.Solution` object that contains the results of the optimization calculation by SCIP."
   ]
  },
  {
   "cell_type": "markdown",
   "metadata": {},
   "source": [
    "## Analyzing the Results\n",
    "\n",
    "From the calculation results obtained in Step 2, we can check and analyze:\n",
    "\n",
    "- The optimal solution (the way to select items that maximizes the total value of items)\n",
    "- The optimal value (the highest total value of items)\n",
    "- The constraints (the margin of the total weight of items against the weight limit)\n",
    "\n",
    "To do this, we use the properties implemented in the `ommx.v1.Solution` class.\n",
    "\n",
    "### Analyzing the Optimal Solution\n",
    "\n",
    "The `decision_variables_df` property returns a `pandas.DataFrame` object containing information on each variable, such as ID, type, name, and value:\n"
   ]
  },
  {
   "cell_type": "code",
   "execution_count": 8,
   "metadata": {},
   "outputs": [
    {
     "data": {
      "text/html": [
       "<div>\n",
       "<style scoped>\n",
       "    .dataframe tbody tr th:only-of-type {\n",
       "        vertical-align: middle;\n",
       "    }\n",
       "\n",
       "    .dataframe tbody tr th {\n",
       "        vertical-align: top;\n",
       "    }\n",
       "\n",
       "    .dataframe thead th {\n",
       "        text-align: right;\n",
       "    }\n",
       "</style>\n",
       "<table border=\"1\" class=\"dataframe\">\n",
       "  <thead>\n",
       "    <tr style=\"text-align: right;\">\n",
       "      <th></th>\n",
       "      <th>kind</th>\n",
       "      <th>lower</th>\n",
       "      <th>upper</th>\n",
       "      <th>name</th>\n",
       "      <th>subscripts</th>\n",
       "      <th>description</th>\n",
       "      <th>substituted_value</th>\n",
       "      <th>value</th>\n",
       "    </tr>\n",
       "    <tr>\n",
       "      <th>id</th>\n",
       "      <th></th>\n",
       "      <th></th>\n",
       "      <th></th>\n",
       "      <th></th>\n",
       "      <th></th>\n",
       "      <th></th>\n",
       "      <th></th>\n",
       "      <th></th>\n",
       "    </tr>\n",
       "  </thead>\n",
       "  <tbody>\n",
       "    <tr>\n",
       "      <th>0</th>\n",
       "      <td>Binary</td>\n",
       "      <td>-0.0</td>\n",
       "      <td>1.0</td>\n",
       "      <td>x</td>\n",
       "      <td>[0]</td>\n",
       "      <td>&lt;NA&gt;</td>\n",
       "      <td>&lt;NA&gt;</td>\n",
       "      <td>1.0</td>\n",
       "    </tr>\n",
       "    <tr>\n",
       "      <th>1</th>\n",
       "      <td>Binary</td>\n",
       "      <td>-0.0</td>\n",
       "      <td>1.0</td>\n",
       "      <td>x</td>\n",
       "      <td>[1]</td>\n",
       "      <td>&lt;NA&gt;</td>\n",
       "      <td>&lt;NA&gt;</td>\n",
       "      <td>0.0</td>\n",
       "    </tr>\n",
       "    <tr>\n",
       "      <th>2</th>\n",
       "      <td>Binary</td>\n",
       "      <td>-0.0</td>\n",
       "      <td>1.0</td>\n",
       "      <td>x</td>\n",
       "      <td>[2]</td>\n",
       "      <td>&lt;NA&gt;</td>\n",
       "      <td>&lt;NA&gt;</td>\n",
       "      <td>0.0</td>\n",
       "    </tr>\n",
       "    <tr>\n",
       "      <th>3</th>\n",
       "      <td>Binary</td>\n",
       "      <td>-0.0</td>\n",
       "      <td>1.0</td>\n",
       "      <td>x</td>\n",
       "      <td>[3]</td>\n",
       "      <td>&lt;NA&gt;</td>\n",
       "      <td>&lt;NA&gt;</td>\n",
       "      <td>1.0</td>\n",
       "    </tr>\n",
       "    <tr>\n",
       "      <th>4</th>\n",
       "      <td>Binary</td>\n",
       "      <td>-0.0</td>\n",
       "      <td>1.0</td>\n",
       "      <td>x</td>\n",
       "      <td>[4]</td>\n",
       "      <td>&lt;NA&gt;</td>\n",
       "      <td>&lt;NA&gt;</td>\n",
       "      <td>0.0</td>\n",
       "    </tr>\n",
       "    <tr>\n",
       "      <th>5</th>\n",
       "      <td>Binary</td>\n",
       "      <td>-0.0</td>\n",
       "      <td>1.0</td>\n",
       "      <td>x</td>\n",
       "      <td>[5]</td>\n",
       "      <td>&lt;NA&gt;</td>\n",
       "      <td>&lt;NA&gt;</td>\n",
       "      <td>0.0</td>\n",
       "    </tr>\n",
       "  </tbody>\n",
       "</table>\n",
       "</div>"
      ],
      "text/plain": [
       "      kind  lower  upper name subscripts description substituted_value  value\n",
       "id                                                                           \n",
       "0   Binary   -0.0    1.0    x        [0]        <NA>              <NA>    1.0\n",
       "1   Binary   -0.0    1.0    x        [1]        <NA>              <NA>    0.0\n",
       "2   Binary   -0.0    1.0    x        [2]        <NA>              <NA>    0.0\n",
       "3   Binary   -0.0    1.0    x        [3]        <NA>              <NA>    1.0\n",
       "4   Binary   -0.0    1.0    x        [4]        <NA>              <NA>    0.0\n",
       "5   Binary   -0.0    1.0    x        [5]        <NA>              <NA>    0.0"
      ]
     },
     "execution_count": 8,
     "metadata": {},
     "output_type": "execute_result"
    }
   ],
   "source": [
    "solution.decision_variables_df"
   ]
  },
  {
   "cell_type": "markdown",
   "metadata": {},
   "source": [
    "Using this `pandas.DataFrame` object, you can easily create a table in pandas that shows, for example, \"whether to put items in the knapsack\":"
   ]
  },
  {
   "cell_type": "code",
   "execution_count": 9,
   "metadata": {},
   "outputs": [
    {
     "data": {
      "text/html": [
       "<div>\n",
       "<style scoped>\n",
       "    .dataframe tbody tr th:only-of-type {\n",
       "        vertical-align: middle;\n",
       "    }\n",
       "\n",
       "    .dataframe tbody tr th {\n",
       "        vertical-align: top;\n",
       "    }\n",
       "\n",
       "    .dataframe thead th {\n",
       "        text-align: right;\n",
       "    }\n",
       "</style>\n",
       "<table border=\"1\" class=\"dataframe\">\n",
       "  <thead>\n",
       "    <tr style=\"text-align: right;\">\n",
       "      <th></th>\n",
       "      <th>Item number</th>\n",
       "      <th>Include in knapsack?</th>\n",
       "    </tr>\n",
       "    <tr>\n",
       "      <th>id</th>\n",
       "      <th></th>\n",
       "      <th></th>\n",
       "    </tr>\n",
       "  </thead>\n",
       "  <tbody>\n",
       "    <tr>\n",
       "      <th>0</th>\n",
       "      <td>0</td>\n",
       "      <td>Include</td>\n",
       "    </tr>\n",
       "    <tr>\n",
       "      <th>1</th>\n",
       "      <td>1</td>\n",
       "      <td>Exclude</td>\n",
       "    </tr>\n",
       "    <tr>\n",
       "      <th>2</th>\n",
       "      <td>2</td>\n",
       "      <td>Exclude</td>\n",
       "    </tr>\n",
       "    <tr>\n",
       "      <th>3</th>\n",
       "      <td>3</td>\n",
       "      <td>Include</td>\n",
       "    </tr>\n",
       "    <tr>\n",
       "      <th>4</th>\n",
       "      <td>4</td>\n",
       "      <td>Exclude</td>\n",
       "    </tr>\n",
       "    <tr>\n",
       "      <th>5</th>\n",
       "      <td>5</td>\n",
       "      <td>Exclude</td>\n",
       "    </tr>\n",
       "  </tbody>\n",
       "</table>\n",
       "</div>"
      ],
      "text/plain": [
       "    Item number Include in knapsack?\n",
       "id                                  \n",
       "0             0              Include\n",
       "1             1              Exclude\n",
       "2             2              Exclude\n",
       "3             3              Include\n",
       "4             4              Exclude\n",
       "5             5              Exclude"
      ]
     },
     "execution_count": 9,
     "metadata": {},
     "output_type": "execute_result"
    }
   ],
   "source": [
    "import pandas as pd\n",
    "\n",
    "df = solution.decision_variables_df\n",
    "pd.DataFrame.from_dict(\n",
    "    {\n",
    "        \"Item number\": df.index,\n",
    "        \"Include in knapsack?\": df[\"value\"].apply(lambda x: \"Include\" if x == 1.0 else \"Exclude\"),\n",
    "    }\n",
    ")"
   ]
  },
  {
   "cell_type": "markdown",
   "metadata": {},
   "source": [
    "From this analysis result, we can see that choosing items 0 and 3 maximizes the total value while satisfying the knapsack's weight constraint.\n",
    "\n",
    "### Analyzing the Optimal Value\n",
    "\n",
    "The `objective` property stores the optimal value. In this case, it should be the sum of the values of items 0 and 3:"
   ]
  },
  {
   "cell_type": "code",
   "execution_count": 6,
   "metadata": {},
   "outputs": [],
   "source": [
    "import numpy as np\n",
    "# The expected value is the sum of the values of items 0 and 3\n",
    "expected = v[0] + v[3]\n",
    "assert np.isclose(solution.objective, expected)"
   ]
  },
  {
   "cell_type": "markdown",
   "metadata": {},
   "source": [
    "### Analyzing Constraints\n",
    "\n",
    "The `constraints_df` property returns a `pandas.DataFrame` object that includes details about each constraint's equality or inequality, its left-hand-side value (`\"value\"`), name, and more:"
   ]
  },
  {
   "cell_type": "code",
   "execution_count": 7,
   "metadata": {},
   "outputs": [
    {
     "data": {
      "text/html": [
       "<div>\n",
       "<style scoped>\n",
       "    .dataframe tbody tr th:only-of-type {\n",
       "        vertical-align: middle;\n",
       "    }\n",
       "\n",
       "    .dataframe tbody tr th {\n",
       "        vertical-align: top;\n",
       "    }\n",
       "\n",
       "    .dataframe thead th {\n",
       "        text-align: right;\n",
       "    }\n",
       "</style>\n",
       "<table border=\"1\" class=\"dataframe\">\n",
       "  <thead>\n",
       "    <tr style=\"text-align: right;\">\n",
       "      <th></th>\n",
       "      <th>equality</th>\n",
       "      <th>value</th>\n",
       "      <th>used_ids</th>\n",
       "      <th>name</th>\n",
       "      <th>subscripts</th>\n",
       "      <th>description</th>\n",
       "      <th>dual_variable</th>\n",
       "      <th>removed_reason</th>\n",
       "    </tr>\n",
       "    <tr>\n",
       "      <th>id</th>\n",
       "      <th></th>\n",
       "      <th></th>\n",
       "      <th></th>\n",
       "      <th></th>\n",
       "      <th></th>\n",
       "      <th></th>\n",
       "      <th></th>\n",
       "      <th></th>\n",
       "    </tr>\n",
       "  </thead>\n",
       "  <tbody>\n",
       "    <tr>\n",
       "      <th>0</th>\n",
       "      <td>&lt;=0</td>\n",
       "      <td>-1.0</td>\n",
       "      <td>{0, 1, 2, 3, 4, 5}</td>\n",
       "      <td>Weight limit</td>\n",
       "      <td>[]</td>\n",
       "      <td>&lt;NA&gt;</td>\n",
       "      <td>&lt;NA&gt;</td>\n",
       "      <td>&lt;NA&gt;</td>\n",
       "    </tr>\n",
       "  </tbody>\n",
       "</table>\n",
       "</div>"
      ],
      "text/plain": [
       "   equality  value            used_ids          name subscripts description  \\\n",
       "id                                                                            \n",
       "0       <=0   -1.0  {0, 1, 2, 3, 4, 5}  Weight limit         []        <NA>   \n",
       "\n",
       "   dual_variable removed_reason  \n",
       "id                               \n",
       "0           <NA>           <NA>  "
      ]
     },
     "execution_count": 7,
     "metadata": {},
     "output_type": "execute_result"
    }
   ],
   "source": [
    "solution.constraints_df"
   ]
  },
  {
   "cell_type": "markdown",
   "metadata": {},
   "source": [
    "Specifically, the `\"value\"` is helpful for understanding how much slack remains in each constraint. In this case, item 0 has weight $w_0 = 11$, item 3 has weight $w_3 = 35$, and the knapsack's capacity $W$ is $47$. Therefore, for the weight constraint \n",
    "\n",
    "$$\n",
    "\\begin{align*}\n",
    "\\sum_{i=0}^{n-1} w_i x_i - W \\leq 0\n",
    "\\end{align*}\n",
    "$$\n",
    "\n",
    "the left-hand side \"value\" is $-1$, indicating there is exactly $1$ unit of slack under the capacity."
   ]
  }
 ],
 "metadata": {
  "kernelspec": {
   "display_name": "ommx-update-books (3.9.23)",
   "language": "python",
   "name": "python3"
  },
  "language_info": {
   "codemirror_mode": {
    "name": "ipython",
    "version": 3
   },
   "file_extension": ".py",
   "mimetype": "text/x-python",
   "name": "python",
   "nbconvert_exporter": "python",
   "pygments_lexer": "ipython3",
   "version": "3.9.23"
  }
 },
 "nbformat": 4,
 "nbformat_minor": 4
}
