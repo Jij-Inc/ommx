{
 "cells": [
  {
   "cell_type": "markdown",
   "metadata": {},
   "source": [
    "# Solving Optimization Problems with Multiple Adapters\n",
    "\n",
    "OMMX Adapters have a standardized API, which allows us to solve the same problem using different solvers and compare the results. Let's first consider a simple knapsack problem as an example:\n",
    "\n",
    "$$\n",
    "\\begin{align*}\n",
    "\\mathrm{maximize} \\quad & \\sum_{i=0}^{N-1} v_i x_i \\\\\n",
    "\\mathrm{s.t.} \\quad & \\sum_{i=0}^{n-1} w_i x_i - W \\leq 0, \\\\\n",
    "& x_{i} \\in \\{ 0, 1\\} \n",
    "\\end{align*}\n",
    "$$\n"
   ]
  },
  {
   "cell_type": "code",
   "execution_count": null,
   "metadata": {},
   "outputs": [],
   "source": [
    "from ommx.v1 import Instance, DecisionVariable\n",
    "\n",
    "v = [10, 13, 18, 31, 7, 15]\n",
    "w = [11, 25, 20, 35, 10, 33]\n",
    "W = 47\n",
    "N = len(v)\n",
    "\n",
    "x = [\n",
    "    DecisionVariable.binary(\n",
    "        id=i,\n",
    "        name=\"x\",\n",
    "        subscripts=[i],\n",
    "    )\n",
    "    for i in range(N)\n",
    "]\n",
    "instance = Instance.from_components(\n",
    "    decision_variables=x,\n",
    "    objective=sum(v[i] * x[i] for i in range(N)),\n",
    "    constraints=[sum(w[i] * x[i] for i in range(N)) - W <= 0],\n",
    "    sense=Instance.MAXIMIZE,\n",
    ")"
   ]
  },
  {
   "cell_type": "markdown",
   "metadata": {},
   "source": [
    "## Solving the Problem with Multiple Solvers\n",
    "\n",
    "Let's use the following open-source adapters that are developed alongside the OMMX SDK:\n",
    "\n",
    "| Package name | PyPI | Backend |\n",
    "|:--- |:--- |:--- |\n",
    "| `ommx-python-mip-adapter` | [![ommx-python-mip-adapter](https://img.shields.io/pypi/v/ommx-python-mip-adapter)](https://pypi.org/project/ommx-python-mip-adapter/) | [CBC](https://github.com/coin-or/Cbc) via [Python-MIP](https://github.com/coin-or/python-mip) |\n",
    "| `ommx-pyscipopt-adapter` | [![ommx-pyscipopt-adapter](https://img.shields.io/pypi/v/ommx-pyscipopt-adapter)](https://pypi.org/project/ommx-pyscipopt-adapter/) | [SCIP](https://github.com/scipopt/scip) via [PySCIPOpt](https://github.com/scipopt/PySCIPOpt) |\n",
    "| `ommx-highs-adapter` | [![ommx-highs-adapter](https://img.shields.io/pypi/v/ommx-highs-adapter)](https://pypi.org/project/ommx-highs-adapter/) | [HiGHS](https://github.com/ERGO-Code/HiGHS) |\n",
    "\n",
    "There are other adapters available as well:\n",
    "\n",
    "TODO: Add amplify and gurobi adapters\n",
    "\n",
    "In the following code, we'll use Gurobi, Highs, Python-MIP (CBC), and SCIP as solvers. Thanks to the standardized interface provided by the OMMX Solver Adapter implementation guide, we can write code like this:"
   ]
  },
  {
   "cell_type": "code",
   "execution_count": null,
   "metadata": {},
   "outputs": [],
   "source": [
    "from ommx_python_mip_adapter import OMMXPythonMIPAdapter\n",
    "from ommx_pyscipopt_adapter  import OMMXPySCIPOptAdapter\n",
    "from ommx_highs_adapter      import OMMXHighsAdapter\n",
    "\n",
    "# List of adapters to use\n",
    "adapters = {\n",
    "    \"highs\": OMMXHighsAdapter,\n",
    "    \"cbc\": OMMXPythonMIPAdapter,\n",
    "    \"scip\": OMMXPySCIPOptAdapter,\n",
    "}\n",
    "\n",
    "# Solve the problem using each adapter\n",
    "solutions = {\n",
    "    name: adapter.solve(instance) for name, adapter in adapters.items()\n",
    "}"
   ]
  },
  {
   "cell_type": "markdown",
   "metadata": {},
   "source": [
    "## Comparing the Results\n",
    "\n",
    "This knapsack problem is simple, so all solvers find the optimal solution."
   ]
  },
  {
   "cell_type": "code",
   "execution_count": null,
   "metadata": {},
   "outputs": [],
   "source": [
    "from matplotlib import pyplot as plt\n",
    "\n",
    "marks = {\n",
    "    \"highs\": \"o\",\n",
    "    \"cbc\": \"x\",\n",
    "    \"scip\": \"+\",\n",
    "}\n",
    "\n",
    "for name, solution in solutions.items():\n",
    "    x = solution.extract_decision_variables(\"x\")\n",
    "    subscripts = [key[0] for key in x.keys()]\n",
    "    plt.plot(subscripts, x.values(), marks[name], label=name)\n",
    "\n",
    "plt.legend()"
   ]
  },
  {
   "cell_type": "markdown",
   "metadata": {},
   "source": [
    "When analyzing results, it can be useful to combine the `decision_variables` DataFrames vertically."
   ]
  },
  {
   "cell_type": "code",
   "execution_count": null,
   "metadata": {},
   "outputs": [],
   "source": [
    "import pandas\n",
    "\n",
    "decision_variables = pandas.concat([\n",
    "    solution.decision_variables.assign(solver=solver)\n",
    "    for solver, solution in solutions.items()\n",
    "])\n",
    "decision_variables"
   ]
  }
 ],
 "metadata": {
  "kernelspec": {
   "display_name": ".venv",
   "language": "python",
   "name": "python3"
  },
  "language_info": {
   "codemirror_mode": {
    "name": "ipython",
    "version": 3
   },
   "file_extension": ".py",
   "mimetype": "text/x-python",
   "name": "python",
   "nbconvert_exporter": "python",
   "pygments_lexer": "ipython3",
   "version": "3.10.12"
  }
 },
 "nbformat": 4,
 "nbformat_minor": 2
}
