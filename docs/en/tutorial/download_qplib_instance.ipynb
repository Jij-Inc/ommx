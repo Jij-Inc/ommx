{
 "cells": [
  {
   "cell_type": "markdown",
   "metadata": {},
   "source": [
    "# Downloading a QPLIB Instance\n",
    "\n",
    "The OMMX repository provides quadratic programming benchmark instances from QPLIB in OMMX Artifact format.\n",
    "\n",
    "```{note}\n",
    "More details: The QPLIB instances in OMMX Artifact format are hosted in the GitHub Container Registry for the OMMX repository ([link](https://github.com/Jij-Inc/ommx/pkgs/container/ommx%2Fqplib)).\n",
    "\n",
    "QPLIB is a library of quadratic programming instances. For more information about QPLIB, see the [QPLIB website](http://qplib.zib.de/).\n",
    "\n",
    "Please see [this page](https://docs.github.com/ja/packages/working-with-a-github-packages-registry/working-with-the-container-registry) for information on GitHub Container Registry.\n",
    "```\n",
    "\n",
    "You can easily download these instances with the OMMX SDK, then directly use them as inputs to OMMX Adapters.\n",
    "For example, to solve the QPLIB_0018 instance ([reference](http://qplib.zib.de/QPLIB_0018.html)) with PySCIPOpt, you can:\n",
    "\n",
    "1. Download the 0018 instance with `dataset.qplib` from the OMMX Python SDK.\n",
    "2. Solve with PySCIPOpt via the OMMX PySCIPOpt Adapter.\n",
    "\n",
    "Here is a sample Python code:"
   ]
  },
  {
   "cell_type": "code",
   "execution_count": null,
   "metadata": {},
   "outputs": [],
   "source": [
    "# OMMX Python SDK\n",
    "from ommx import dataset\n",
    "# OMMX PySCIPOpt Adapter\n",
    "from ommx_pyscipopt_adapter import OMMXPySCIPOptAdapter\n",
    "\n",
    "# Step 1: Download the 0018 instance from QPLIB\n",
    "instance = dataset.qplib(\"0018\")\n",
    "\n",
    "# Step 2: Solve with PySCIPOpt via the OMMX PySCIPOpt Adapter\n",
    "solution = OMMXPySCIPOptAdapter.solve(instance)"
   ]
  },
  {
   "cell_type": "markdown",
   "metadata": {},
   "source": [
    "This makes it easy to benchmark quadratic programming solvers using the same QPLIB instances."
   ]
  },
  {
   "cell_type": "markdown",
   "metadata": {},
   "source": [
    "## Note about Annotations with the Instance\n",
    "\n",
    "The downloaded instance includes various annotations accessible via the `annotations` property:"
   ]
  },
  {
   "cell_type": "code",
   "execution_count": null,
   "metadata": {},
   "outputs": [],
   "source": [
    "import pandas as pd\n",
    "# Display annotations in tabular form using pandas\n",
    "pd.DataFrame.from_dict(instance.annotations, orient=\"index\", columns=[\"Value\"]).sort_index()"
   ]
  },
  {
   "cell_type": "markdown",
   "metadata": {},
   "source": [
    "These instances have both dataset-level annotations and dataset-specific annotations.\n",
    "\n",
    "There are seven dataset-wide annotations with dedicated properties:\n",
    "\n",
    "| Annotation                                    | Property          | Description                                               |\n",
    "|----------------------------------------------|-------------------|-----------------------------------------------------------|\n",
    "| `org.ommx.v1.instance.authors`               | `authors`         | The authors of the instance                              |\n",
    "| `org.ommx.v1.instance.constraints`           | `num_constraints` | The number of constraint conditions in the instance      |\n",
    "| `org.ommx.v1.instance.created`               | `created`         | The date of the instance was saved as an OMMX Artifact   |\n",
    "| `org.ommx.v1.instance.dataset`               | `dataset`         | The name of the dataset to which this instance belongs   |\n",
    "| `org.ommx.v1.instance.license`               | `license`         | The license of this dataset                              |\n",
    "| `org.ommx.v1.instance.title`                 | `title`           | The name of the instance                                 |\n",
    "| `org.ommx.v1.instance.variables`             | `num_variables`   | The total number of decision variables in the instance   |\n",
    "\n",
    "## QPLIB Annotations\n",
    "\n",
    "QPLIB instances include comprehensive annotations that describe the mathematical properties of quadratic programming problems. These annotations are based on the official QPLIB specification and are prefixed with `org.ommx.qplib.*`.\n",
    "\n",
    "For detailed information about all available QPLIB annotations and their meanings, please refer to the [official QPLIB documentation](https://qplib.zib.de/doc.html).\n",
    "\n",
    "For example, you can check the problem type and objective curvature of the QPLIB instance:"
   ]
  },
  {
   "cell_type": "code",
   "execution_count": null,
   "metadata": {},
   "outputs": [],
   "source": [
    "# QPLIB-specific annotations\n",
    "print(f\"Problem type: {instance.annotations['org.ommx.qplib.probtype']}\")\n",
    "print(f\"Objective type: {instance.annotations['org.ommx.qplib.objtype']}\")\n",
    "print(f\"Objective curvature: {instance.annotations['org.ommx.qplib.objcurvature']}\")\n",
    "print(f\"Number of variables: {instance.annotations['org.ommx.qplib.nvars']}\")\n",
    "print(f\"Number of constraints: {instance.annotations['org.ommx.qplib.ncons']}\")"
   ]
  }
 ],
 "metadata": {
  "kernelspec": {
   "display_name": "Python 3 (ipykernel)",
   "language": "python",
   "name": "python3"
  },
  "language_info": {
   "codemirror_mode": {
    "name": "ipython",
    "version": 3
   },
   "file_extension": ".py",
   "mimetype": "text/x-python",
   "name": "python",
   "nbconvert_exporter": "python",
   "pygments_lexer": "ipython3",
   "version": "3.12.2"
  }
 },
 "nbformat": 4,
 "nbformat_minor": 4
}