{
 "cells": [
  {
   "cell_type": "markdown",
   "metadata": {},
   "source": [
    "# Sharing Various Types of Data in an OMMX Artifact\n",
    "\n",
    "In mathematical optimization workflows, it is important to generate and manage a variety of data. Properly handling these data ensures reproducible computational results and allows teams to share information efficiently.\n",
    "\n",
    "OMMX provides a straightforward and efficient way to manage different data types. Specifically, it defines a data format called an OMMX Artifact, which lets you store, organize, and share various optimization data through the OMMX SDK."
   ]
  },
  {
   "cell_type": "markdown",
   "metadata": {},
   "source": [
    "## Preparation: Data to Share\n",
    "\n",
    "First, let's prepare the data we want to share. We will create an `ommx.v1.Instance` representing the 0-1 knapsack problem and solve it using SCIP. We will also share the results of our optimization analysis. Details are omitted for brevity."
   ]
  },
  {
   "cell_type": "code",
   "execution_count": 1,
   "metadata": {
    "tags": [
     "hide-input"
    ]
   },
   "outputs": [
    {
     "name": "stderr",
     "output_type": "stream",
     "text": [
      "/Users/termoshtt/github.com/Jij-Inc/ommx/python/ommx-pyscipopt-adapter/ommx_pyscipopt_adapter/adapter.py:30: UserWarning: linked SCIP 9.02 is not recommended for this version of PySCIPOpt - use version 9.2.1\n",
      "  self.model = pyscipopt.Model()\n"
     ]
    }
   ],
   "source": [
    "from ommx.v1 import Instance, DecisionVariable, Constraint\n",
    "from ommx_pyscipopt_adapter.adapter import OMMXPySCIPOptAdapter\n",
    "import pandas as pd\n",
    "\n",
    "# Prepare data for the 0-1 knapsack problem\n",
    "data = {\n",
    "    # Values of each item\n",
    "    \"v\": [10, 13, 18, 31, 7, 15],\n",
    "    # Weights of each item\n",
    "    \"w\": [11, 15, 20, 35, 10, 33],\n",
    "    # Knapsack capacity\n",
    "    \"W\": 47,\n",
    "    # Total number of items\n",
    "    \"N\": 6,\n",
    "}\n",
    "\n",
    "# Define decision variables\n",
    "x = [\n",
    "    # Define binary variable x_i\n",
    "    DecisionVariable.binary(\n",
    "        # Specify the ID of the decision variable\n",
    "        id=i,\n",
    "        # Specify the name of the decision variable\n",
    "        name=\"x\",\n",
    "        # Specify the subscript of the decision variable\n",
    "        subscripts=[i],\n",
    "    )\n",
    "    # Prepare num_items binary variables\n",
    "    for i in range(data[\"N\"])\n",
    "]\n",
    "\n",
    "# Define the objective function\n",
    "objective = sum(data[\"v\"][i] * x[i] for i in range(data[\"N\"]))\n",
    "\n",
    "# Define constraints\n",
    "constraint = Constraint(\n",
    "    # Name of the constraint\n",
    "    name = \"Weight Limit\",\n",
    "    # Specify the left-hand side of the constraint\n",
    "    function=sum(data[\"w\"][i] * x[i] for i in range(data[\"N\"])) - data[\"W\"],\n",
    "    # Specify equality constraint (==0) or inequality constraint (<=0)\n",
    "    equality=Constraint.LESS_THAN_OR_EQUAL_TO_ZERO,\n",
    ")\n",
    "\n",
    "# Create an instance\n",
    "instance = Instance.from_components(\n",
    "    # Register all decision variables included in the instance\n",
    "    decision_variables=x,\n",
    "    # Register the objective function\n",
    "    objective=objective,\n",
    "    # Register all constraints\n",
    "    constraints=[constraint],\n",
    "    # Specify that it is a maximization problem\n",
    "    sense=Instance.MAXIMIZE,\n",
    ")\n",
    "\n",
    "# Solve with SCIP\n",
    "solution = OMMXPySCIPOptAdapter.solve(instance)\n",
    "\n",
    "# Analyze the optimal solution\n",
    "df_vars = solution.decision_variables\n",
    "df = pd.DataFrame.from_dict(\n",
    "    {\n",
    "        \"Item Number\": df_vars.index,\n",
    "        \"Put in Knapsack?\": df_vars[\"value\"].apply(lambda x: \"Yes\" if x == 1.0 else \"No\"),\n",
    "    }\n",
    ")"
   ]
  },
  {
   "cell_type": "code",
   "execution_count": 2,
   "metadata": {
    "tags": [
     "remove-cell"
    ]
   },
   "outputs": [
    {
     "data": {
      "application/papermill.record/text/plain": "Instance(raw=decision_variables {\n  kind: KIND_BINARY\n  bound {\n    upper: 1\n  }\n  name: \"x\"\n  subscripts: 0\n}\ndecision_variables {\n  id: 1\n  kind: KIND_BINARY\n  bound {\n    upper: 1\n  }\n  name: \"x\"\n  subscripts: 1\n}\ndecision_variables {\n  id: 2\n  kind: KIND_BINARY\n  bound {\n    upper: 1\n  }\n  name: \"x\"\n  subscripts: 2\n}\ndecision_variables {\n  id: 3\n  kind: KIND_BINARY\n  bound {\n    upper: 1\n  }\n  name: \"x\"\n  subscripts: 3\n}\ndecision_variables {\n  id: 4\n  kind: KIND_BINARY\n  bound {\n    upper: 1\n  }\n  name: \"x\"\n  subscripts: 4\n}\ndecision_variables {\n  id: 5\n  kind: KIND_BINARY\n  bound {\n    upper: 1\n  }\n  name: \"x\"\n  subscripts: 5\n}\nobjective {\n  linear {\n    terms {\n      coefficient: 10\n    }\n    terms {\n      id: 1\n      coefficient: 13\n    }\n    terms {\n      id: 2\n      coefficient: 18\n    }\n    terms {\n      id: 3\n      coefficient: 31\n    }\n    terms {\n      id: 4\n      coefficient: 7\n    }\n    terms {\n      id: 5\n      coefficient: 15\n    }\n  }\n}\nconstraints {\n  equality: EQUALITY_LESS_THAN_OR_EQUAL_TO_ZERO\n  function {\n    linear {\n      terms {\n        coefficient: 11\n      }\n      terms {\n        id: 1\n        coefficient: 15\n      }\n      terms {\n        id: 2\n        coefficient: 20\n      }\n      terms {\n        id: 3\n        coefficient: 35\n      }\n      terms {\n        id: 4\n        coefficient: 10\n      }\n      terms {\n        id: 5\n        coefficient: 33\n      }\n      constant: -47\n    }\n  }\n  name: \"Weight Limit\"\n}\nsense: SENSE_MAXIMIZE\n, annotations={})"
     },
     "metadata": {
      "scrapbook": {
       "mime_prefix": "application/papermill.record/",
       "name": "instance"
      }
     },
     "output_type": "display_data"
    },
    {
     "data": {
      "application/papermill.record/text/plain": "Solution(raw=state {\n  entries {\n    key: 0\n    value: 1\n  }\n  entries {\n    key: 1\n    value: 1\n  }\n  entries {\n    key: 2\n    value: 1\n  }\n  entries {\n    key: 3\n    value: 0\n  }\n  entries {\n    key: 4\n    value: 0\n  }\n  entries {\n    key: 5\n    value: 0\n  }\n}\nobjective: 41\ndecision_variables {\n  kind: KIND_BINARY\n  bound {\n    upper: 1\n  }\n  name: \"x\"\n  subscripts: 0\n}\ndecision_variables {\n  id: 1\n  kind: KIND_BINARY\n  bound {\n    upper: 1\n  }\n  name: \"x\"\n  subscripts: 1\n}\ndecision_variables {\n  id: 2\n  kind: KIND_BINARY\n  bound {\n    upper: 1\n  }\n  name: \"x\"\n  subscripts: 2\n}\ndecision_variables {\n  id: 3\n  kind: KIND_BINARY\n  bound {\n    upper: 1\n  }\n  name: \"x\"\n  subscripts: 3\n}\ndecision_variables {\n  id: 4\n  kind: KIND_BINARY\n  bound {\n    upper: 1\n  }\n  name: \"x\"\n  subscripts: 4\n}\ndecision_variables {\n  id: 5\n  kind: KIND_BINARY\n  bound {\n    upper: 1\n  }\n  name: \"x\"\n  subscripts: 5\n}\nevaluated_constraints {\n  equality: EQUALITY_LESS_THAN_OR_EQUAL_TO_ZERO\n  evaluated_value: -1\n  used_decision_variable_ids: 0\n  used_decision_variable_ids: 1\n  used_decision_variable_ids: 2\n  used_decision_variable_ids: 3\n  used_decision_variable_ids: 4\n  used_decision_variable_ids: 5\n  name: \"Weight Limit\"\n}\nfeasible: true\noptimality: OPTIMALITY_OPTIMAL\nfeasible_relaxed: true\n, annotations={})"
     },
     "metadata": {
      "scrapbook": {
       "mime_prefix": "application/papermill.record/",
       "name": "solution"
      }
     },
     "output_type": "display_data"
    },
    {
     "data": {
      "application/papermill.record/text/plain": "{'v': [10, 13, 18, 31, 7, 15], 'w': [11, 15, 20, 35, 10, 33], 'W': 47, 'N': 6}"
     },
     "metadata": {
      "scrapbook": {
       "mime_prefix": "application/papermill.record/",
       "name": "data"
      }
     },
     "output_type": "display_data"
    },
    {
     "data": {
      "application/papermill.record/text/html": "<div>\n<style scoped>\n    .dataframe tbody tr th:only-of-type {\n        vertical-align: middle;\n    }\n\n    .dataframe tbody tr th {\n        vertical-align: top;\n    }\n\n    .dataframe thead th {\n        text-align: right;\n    }\n</style>\n<table border=\"1\" class=\"dataframe\">\n  <thead>\n    <tr style=\"text-align: right;\">\n      <th></th>\n      <th>Item Number</th>\n      <th>Put in Knapsack?</th>\n    </tr>\n    <tr>\n      <th>id</th>\n      <th></th>\n      <th></th>\n    </tr>\n  </thead>\n  <tbody>\n    <tr>\n      <th>0</th>\n      <td>0</td>\n      <td>Yes</td>\n    </tr>\n    <tr>\n      <th>1</th>\n      <td>1</td>\n      <td>Yes</td>\n    </tr>\n    <tr>\n      <th>2</th>\n      <td>2</td>\n      <td>Yes</td>\n    </tr>\n    <tr>\n      <th>3</th>\n      <td>3</td>\n      <td>No</td>\n    </tr>\n    <tr>\n      <th>4</th>\n      <td>4</td>\n      <td>No</td>\n    </tr>\n    <tr>\n      <th>5</th>\n      <td>5</td>\n      <td>No</td>\n    </tr>\n  </tbody>\n</table>\n</div>",
      "application/papermill.record/text/plain": "    Item Number Put in Knapsack?\nid                              \n0             0              Yes\n1             1              Yes\n2             2              Yes\n3             3               No\n4             4               No\n5             5               No"
     },
     "metadata": {
      "scrapbook": {
       "mime_prefix": "application/papermill.record/",
       "name": "df"
      }
     },
     "output_type": "display_data"
    }
   ],
   "source": [
    "from myst_nb import glue\n",
    "\n",
    "glue(\"instance\", instance, display=False)\n",
    "glue(\"solution\", solution, display=False)\n",
    "glue(\"data\", data, display=False)\n",
    "glue(\"df\", df, display=False)"
   ]
  },
  {
   "cell_type": "markdown",
   "metadata": {},
   "source": [
    "```{list-table}\n",
    ":header-rows: 1\n",
    ":widths: 5 30 10\n",
    "\n",
    "* - Variable Name\n",
    "  - Description\n",
    "  - Value\n",
    "* - `instance`\n",
    "  - `ommx.v1.Instance` object representing the 0-1 knapsack problem\n",
    "  - ````{toggle}\n",
    "    ```{glue:} instance\n",
    "    ```\n",
    "    ````\n",
    "* - `solution`\n",
    "  - `ommx.v1.Solution` object containing the results of solving the 0-1 knapsack problem with SCIP\n",
    "  - ````{toggle}\n",
    "    ```{glue:} solution\n",
    "    ```\n",
    "    ````\n",
    "* - `data`\n",
    "  - Input data for the 0-1 knapsack problem\n",
    "  - ```{glue:} data\n",
    "    ```\n",
    "* - `df`\n",
    "  - `pandas.DataFrame` object representing the optimal solution of the 0-1 knapsack problem\n",
    "  - {glue:}`df`\n",
    "```"
   ]
  },
  {
   "cell_type": "markdown",
   "metadata": {},
   "source": [
    "## Creating an OMMX Artifact as a File\n",
    "\n",
    "OMMX Artifacts can be managed as files or by assigning them container-like names. Here, we'll show how to save the data as a file. Using the OMMX SDK, we'll store the data in a new file called `my_instance.ommx`. First, we need an `ArtifactBuilder`."
   ]
  },
  {
   "cell_type": "code",
   "execution_count": 3,
   "metadata": {
    "tags": [
     "remove-output"
    ]
   },
   "outputs": [],
   "source": [
    "import os\n",
    "from ommx.artifact import ArtifactBuilder\n",
    "\n",
    "# Specify the name of the OMMX Artifact file\n",
    "filename = \"my_instance.ommx\"\n",
    "\n",
    "# If the file already exists, remove it\n",
    "if os.path.exists(filename):\n",
    "    os.remove(filename)\n",
    "\n",
    "# 1. Create a builder to create the OMMX Artifact file\n",
    "builder = ArtifactBuilder.new_archive_unnamed(filename)"
   ]
  },
  {
   "cell_type": "markdown",
   "metadata": {},
   "source": [
    "[`ArtifactBuilder`](https://jij-inc.github.io/ommx/python/ommx/autoapi/ommx/artifact/index.html#ommx.artifact.ArtifactBuilder) has several constructors, allowing you to choose whether to manage it by name like a container or as an archive file. If you use a container registry to push and pull like a container, a name is required, but if you use an archive file, a name is not necessary. Here, we use `ArtifactBuilder.new_archive_unnamed` to manage it as an archive file.\n",
    "\n",
    "| Constructor | Description |\n",
    "| --- | --- |\n",
    "| [`ArtifactBuilder.new`](https://jij-inc.github.io/ommx/python/ommx/autoapi/ommx/artifact/index.html#ommx.artifact.ArtifactBuilder.new) | Manage by name like a container |\n",
    "| [`ArtifactBuilder.new_archive`](https://jij-inc.github.io/ommx/python/ommx/autoapi/ommx/artifact/index.html#ommx.artifact.ArtifactBuilder.new_archive) | Manage as both an archive file and a container |\n",
    "| [`ArtifactBuilder.new_archive_unnamed`](https://jij-inc.github.io/ommx/python/ommx/autoapi/ommx/artifact/index.html#ommx.artifact.ArtifactBuilder.new_archive_unnamed) | Manage as an archive file |\n",
    "| [`ArtifactBuilder.for_github`](https://jij-inc.github.io/ommx/python/ommx/autoapi/ommx/artifact/index.html#ommx.artifact.ArtifactBuilder.for_github) | Determine the container name according to the GitHub Container Registry |\n",
    "\n",
    "Regardless of the initialization method, you can save `ommx.v1.Instance` and other data in the same way. Let's add the data prepared above."
   ]
  },
  {
   "cell_type": "code",
   "execution_count": 4,
   "metadata": {},
   "outputs": [],
   "source": [
    "# Add ommx.v1.Instance object\n",
    "desc_instance = builder.add_instance(instance)\n",
    "\n",
    "# Add ommx.v1.Solution object\n",
    "desc_solution = builder.add_solution(solution)\n",
    "\n",
    "# Add pandas.DataFrame object\n",
    "desc_df = builder.add_dataframe(df, title=\"Optimal Solution of Knapsack Problem\")\n",
    "\n",
    "# Add an object that can be converted to JSON\n",
    "desc_json = builder.add_json(data, title=\"Data of Knapsack Problem\")"
   ]
  },
  {
   "cell_type": "markdown",
   "metadata": {},
   "source": [
    "In OMMX Artifacts, data is stored in layers, each with a dedicated media type. Functions like `add_instance` automatically set these media types and add layers. These functions return a `Description` object with information about each created layer."
   ]
  },
  {
   "cell_type": "code",
   "execution_count": 5,
   "metadata": {},
   "outputs": [
    {
     "data": {
      "text/plain": [
       "{'mediaType': 'application/json',\n",
       " 'digest': 'sha256:6cbfaaa7f97e84d8b46da95b81cf4d5158df3a9bd439f8c60be26adaa16ab3cf',\n",
       " 'size': 78,\n",
       " 'annotations': {'org.ommx.user.title': 'Data of Knapsack Problem'}}"
      ]
     },
     "execution_count": 5,
     "metadata": {},
     "output_type": "execute_result"
    }
   ],
   "source": [
    "desc_json.to_dict()"
   ]
  },
  {
   "cell_type": "markdown",
   "metadata": {},
   "source": [
    "The part added as `title=\"...\"` in `add_json` is saved as an annotation of the layer. OMMX Artifact is a data format for humans, so this is basically information for humans to read. The `ArtifactBuilder.add_*` functions all accept optional keyword arguments and automatically convert them to the `org.ommx.user.` namespace.\n",
    "\n",
    "Finally, call `build` to save it to a file."
   ]
  },
  {
   "cell_type": "code",
   "execution_count": 6,
   "metadata": {},
   "outputs": [],
   "source": [
    "# 3. Create the OMMX Artifact file\n",
    "artifact = builder.build()"
   ]
  },
  {
   "cell_type": "markdown",
   "metadata": {},
   "source": [
    "This `artifact` is the same as the one that will be explained in the next section, which is the one you just saved. Let's check if the file has been created:"
   ]
  },
  {
   "cell_type": "code",
   "execution_count": 7,
   "metadata": {},
   "outputs": [
    {
     "name": "stdout",
     "output_type": "stream",
     "text": [
      "-rw-r--r--  1 termoshtt  staff  11264 Feb 12 21:13 my_instance.ommx\n"
     ]
    }
   ],
   "source": [
    "! ls -l $filename"
   ]
  },
  {
   "cell_type": "markdown",
   "metadata": {},
   "source": [
    "Now you can share this `my_instance.ommx` with others using the usual file sharing methods."
   ]
  },
  {
   "cell_type": "markdown",
   "metadata": {},
   "source": [
    "## Read OMMX Artifact file\n",
    "\n",
    "Next, let's read the OMMX Artifact we saved. When loading an OMMX Artifact in archive format, use [`Artifact.load_archive`](https://jij-inc.github.io/ommx/python/ommx/autoapi/ommx/artifact/index.html#ommx.artifact.Artifact.load_archive)."
   ]
  },
  {
   "cell_type": "code",
   "execution_count": 8,
   "metadata": {},
   "outputs": [],
   "source": [
    "from ommx.artifact import Artifact\n",
    "\n",
    "# Load the OMMX Artifact file locally\n",
    "artifact = Artifact.load_archive(filename)"
   ]
  },
  {
   "cell_type": "markdown",
   "metadata": {},
   "source": [
    "OMMX Artifacts store data in layers, with a manifest (catalog) that details their contents. You can check the `Descriptor` of each layer, including its Media Type and annotations, without reading the entire archive."
   ]
  },
  {
   "cell_type": "code",
   "execution_count": 9,
   "metadata": {},
   "outputs": [
    {
     "data": {
      "text/html": [
       "<div>\n",
       "<style scoped>\n",
       "    .dataframe tbody tr th:only-of-type {\n",
       "        vertical-align: middle;\n",
       "    }\n",
       "\n",
       "    .dataframe tbody tr th {\n",
       "        vertical-align: top;\n",
       "    }\n",
       "\n",
       "    .dataframe thead th {\n",
       "        text-align: right;\n",
       "    }\n",
       "</style>\n",
       "<table border=\"1\" class=\"dataframe\">\n",
       "  <thead>\n",
       "    <tr style=\"text-align: right;\">\n",
       "      <th></th>\n",
       "      <th>Media Type</th>\n",
       "      <th>Size (Bytes)</th>\n",
       "      <th>org.ommx.user.title</th>\n",
       "    </tr>\n",
       "  </thead>\n",
       "  <tbody>\n",
       "    <tr>\n",
       "      <th>0</th>\n",
       "      <td>application/org.ommx.v1.instance</td>\n",
       "      <td>325</td>\n",
       "      <td>NaN</td>\n",
       "    </tr>\n",
       "    <tr>\n",
       "      <th>1</th>\n",
       "      <td>application/org.ommx.v1.solution</td>\n",
       "      <td>266</td>\n",
       "      <td>NaN</td>\n",
       "    </tr>\n",
       "    <tr>\n",
       "      <th>2</th>\n",
       "      <td>application/vnd.apache.parquet</td>\n",
       "      <td>2595</td>\n",
       "      <td>Optimal Solution of Knapsack Problem</td>\n",
       "    </tr>\n",
       "    <tr>\n",
       "      <th>3</th>\n",
       "      <td>application/json</td>\n",
       "      <td>78</td>\n",
       "      <td>Data of Knapsack Problem</td>\n",
       "    </tr>\n",
       "  </tbody>\n",
       "</table>\n",
       "</div>"
      ],
      "text/plain": [
       "                         Media Type  Size (Bytes)  \\\n",
       "0  application/org.ommx.v1.instance           325   \n",
       "1  application/org.ommx.v1.solution           266   \n",
       "2    application/vnd.apache.parquet          2595   \n",
       "3                  application/json            78   \n",
       "\n",
       "                    org.ommx.user.title  \n",
       "0                                   NaN  \n",
       "1                                   NaN  \n",
       "2  Optimal Solution of Knapsack Problem  \n",
       "3              Data of Knapsack Problem  "
      ]
     },
     "execution_count": 9,
     "metadata": {},
     "output_type": "execute_result"
    }
   ],
   "source": [
    "import pandas as pd\n",
    "\n",
    "# Convert to pandas.DataFrame for better readability\n",
    "pd.DataFrame({\n",
    "    \"Media Type\": desc.media_type,\n",
    "    \"Size (Bytes)\": desc.size\n",
    "  } | desc.annotations\n",
    "  for desc in artifact.layers\n",
    ")"
   ]
  },
  {
   "cell_type": "markdown",
   "metadata": {},
   "source": [
    "For instance, to retrieve the JSON in layer 3, use [`Artifact.get_json`](https://jij-inc.github.io/ommx/python/ommx/autoapi/ommx/artifact/index.html#ommx.artifact.Artifact.get_json). This function confirms that the Media Type is `application/json` and reinstates the bytes into a Python object."
   ]
  },
  {
   "cell_type": "code",
   "execution_count": 10,
   "metadata": {},
   "outputs": [
    {
     "data": {
      "text/plain": [
       "{'v': [10, 13, 18, 31, 7, 15], 'w': [11, 15, 20, 35, 10, 33], 'W': 47, 'N': 6}"
      ]
     },
     "execution_count": 10,
     "metadata": {},
     "output_type": "execute_result"
    }
   ],
   "source": [
    "artifact.get_json(artifact.layers[3])"
   ]
  },
  {
   "cell_type": "code",
   "execution_count": 11,
   "metadata": {
    "tags": [
     "remove-cell"
    ]
   },
   "outputs": [],
   "source": [
    "# Remove the created OMMX Artifact file to clean up\n",
    "! rm $filename"
   ]
  }
 ],
 "metadata": {
  "kernelspec": {
   "display_name": ".venv",
   "language": "python",
   "name": "python3"
  },
  "language_info": {
   "codemirror_mode": {
    "name": "ipython",
    "version": 3
   },
   "file_extension": ".py",
   "mimetype": "text/x-python",
   "name": "python",
   "nbconvert_exporter": "python",
   "pygments_lexer": "ipython3",
   "version": "3.12.8"
  }
 },
 "nbformat": 4,
 "nbformat_minor": 2
}
