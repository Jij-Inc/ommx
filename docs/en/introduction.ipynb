{
 "cells": [
  {
   "cell_type": "markdown",
   "metadata": {},
   "source": [
    "# What is OMMX?\n",
    "\n",
    "OMMX (Open Mathematical prograMming eXchange; Ommx) is an open data format and an SDK designed to enable data exchange between software and among people in practical mathematical optimization processes.\n",
    "\n",
    "In a typical workflow of mathematical optimization, multiple members or teams collaborate. For example, one team is responsible for implementing a program to solve optimization problems, while another team plans strategies based on data analysis. As a result, data exchange frequently occurs between various participants.\n",
    "\n",
    "Moreover, various software tools, not just mathematical optimization software but also general data analysis tools, are used at different workflow stages, leading to frequent data exchanges between different software.\n",
    "\n",
    "Additionally, it is necessary to manage the metadata associated with the data. For instance, creation date, creator, software version used, details of the applied algorithm, and parameter settings. Properly managing this information is essential for ensuring traceability, reproducibility, and accuracy in mathematical optimization, which often requires trial and error and repeated model modifications.\n",
    "\n",
    "```{figure} ./assets/introduction_01.png\n",
    ":alt: Overview of a mathematical optimization workflow\n",
    "\n",
    "A typical workflow of mathematical optimization.\n",
    "```\n",
    "\n",
    "In this way, data exchange and management are extremely important in a mathematical optimization workflow. OMMX addresses these issues by providing seamless data exchange between software and among people, thereby improving workflow efficiency and accuracy.\n",
    "\n",
    "## Elements that make up OMMX\n",
    "\n",
    "OMMX consists of the following four components:\n",
    "\n",
    "- OMMX Message\n",
    "    \n",
    "    A data format for exchanging data between software\n",
    "    \n",
    "- OMMX Artifact\n",
    "    \n",
    "    A package format for exchanging data among people\n",
    "    \n",
    "- OMMX SDK\n",
    "    \n",
    "    A multi-language software development environment for handling OMMX Message and OMMX Artifact\n",
    "    \n",
    "- OMMX Adapter\n",
    "    \n",
    "    Software that enables interoperability between mathematical optimization software and OMMX\n",
    "    \n",
    "\n",
    "OMMX provides the OMMX Adapter to enable unified data exchange among multiple mathematical optimization software. The OMMX Adapter links existing mathematical optimization software with OMMX, making its input and output formats conform to OMMX Message. This allows OMMX users to simply create OMMX Message using the OMMX SDK and access data across multiple software in a unified way.\n",
    "\n",
    "```{figure} ./assets/introduction_02.png\n",
    ":alt: Diagram illustrating the relationship between OMMX Message and OMMX Adapter\n",
    ":width: 70%\n",
    "\n",
    "Data exchange between software enabled by OMMX.\n",
    "```\n",
    "\n",
    "OMMX also provides the OMMX Artifact for data exchange among people. The OMMX Artifact is an OCI Artifact–compliant container-based package format that includes OMMX Message and related metadata. This allows OMMX users to create OMMX Artifacts using the OMMX SDK and efficiently manage and share data by leveraging standard container infrastructures.\n",
    "\n",
    "```{figure} ./assets/introduction_03.png\n",
    ":alt: Diagram illustrating the relationship between OMMX Message and OMMX Artifact\n",
    "\n",
    "Data exchange among people enabled by OMMX.\n",
    "```"
   ]
  }
 ],
 "metadata": {
  "kernelspec": {
   "display_name": "Python 3 (ipykernel)",
   "language": "python",
   "name": "python3"
  },
  "language_info": {
   "codemirror_mode": {
    "name": "ipython",
    "version": 3
   },
   "file_extension": ".py",
   "mimetype": "text/x-python",
   "name": "python",
   "nbconvert_exporter": "python",
   "pygments_lexer": "ipython3",
   "version": "3.10.6"
  }
 },
 "nbformat": 4,
 "nbformat_minor": 4
}
