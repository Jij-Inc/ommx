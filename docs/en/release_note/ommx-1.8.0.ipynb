{
 "cells": [
  {
   "cell_type": "markdown",
   "id": "ab2afcec-e78a-4d4e-8215-91d777e9e5fb",
   "metadata": {},
   "source": [
    "# OMMX Python SDK 1.8.0\n",
    "\n",
    "[![Static Badge](https://img.shields.io/badge/GitHub_Release-Python_SDK_1.8.0-blue?logo=github)](https://github.com/Jij-Inc/ommx/releases/tag/python-1.8.0)\n",
    "\n",
    "Please refer to the GitHub Release for individual changes.\n",
    "\n",
    "⚠️ Includes breaking changes due to the addition of `SolverAdapter`.\n",
    "\n",
    "Summary\n",
    "--------\n",
    "- Added a new `SolverAdapter` abstract base class to serve as a common interface for adapters to different solvers.\n",
    "- `ommx-python-mip-adapter` and `ommx-pyscipopt-adapter` have been changed to use `SolverAdapter` according to the [adapter implementation guide](https://jij-inc.github.io/ommx/en/ommx_ecosystem/solver_adapter_guide.html)\n",
    "  - ⚠️ This is a breaking change. Code using these adapters will need to be updated.\n",
    "  - Other adapters will be updated in future versions. "
   ]
  },
  {
   "cell_type": "markdown",
   "id": "6a0020e4-ae57-4676-997a-05a3128150ab",
   "metadata": {},
   "source": [
    "# Solver Adapter \n",
    "\n",
    "The introduction of the `SolverAdapter` base class aims to make the API for different adapters more consistent. `ommx-python-mip-adapter` and `ommx-pyscipopt-adapter` now use the `SolverAdapter` base class.\n",
    "\n",
    "Here is an example of the new Adapter interface to simply solve an OMMX instance."
   ]
  },
  {
   "cell_type": "code",
   "execution_count": 1,
   "id": "370dabc4-8650-4a96-9223-46005c9b93c7",
   "metadata": {},
   "outputs": [
    {
     "data": {
      "text/plain": [
       "42.0"
      ]
     },
     "execution_count": 1,
     "metadata": {},
     "output_type": "execute_result"
    }
   ],
   "source": [
    "from ommx.v1 import Instance, DecisionVariable\n",
    "from ommx_python_mip_adapter import OMMXPythonMIPAdapter\n",
    "\n",
    "p = [10, 13, 18, 32, 7, 15]\n",
    "w = [11, 15, 20, 35, 10, 33]\n",
    "x = [DecisionVariable.binary(i) for i in range(6)]\n",
    "instance = Instance.from_components(\n",
    "    decision_variables=x,\n",
    "    objective=sum(p[i] * x[i] for i in range(6)),\n",
    "    constraints=[sum(w[i] * x[i] for i in range(6)) <= 47],\n",
    "    sense=Instance.MAXIMIZE,\n",
    ")\n",
    "\n",
    "solution = OMMXPythonMIPAdapter.solve(instance)\n",
    "solution.objective"
   ]
  },
  {
   "cell_type": "markdown",
   "id": "c127f380-1f40-4c0b-a162-ad15f8fa4e27",
   "metadata": {},
   "source": [
    "With the new update, the process looks the same as the above when using the `OMMXPySCIPOptAdapter` class instead.\n",
    "\n",
    "To replace the usage of `instance_to_model()` functions, you can instantiating an adapter and using `solver_input`. You can then apply any solver-specific parameters before optimizing manually, then calling `decode()` to obtain the OMMX solution."
   ]
  },
  {
   "cell_type": "code",
   "execution_count": 2,
   "id": "b39c06a8-4640-42dc-a624-d667eb7751e5",
   "metadata": {},
   "outputs": [
    {
     "data": {
      "text/plain": [
       "42.0"
      ]
     },
     "execution_count": 2,
     "metadata": {},
     "output_type": "execute_result"
    }
   ],
   "source": [
    "adapter = OMMXPythonMIPAdapter(instance)\n",
    "model = adapter.solver_input # in OMMXPythonMIPAdapter's case, this is a `mip.Model` object\n",
    "# modify model parameters here\n",
    "model.optimize() \n",
    "solution = adapter.decode(model)\n",
    "solution.objective"
   ]
  }
 ],
 "metadata": {
  "kernelspec": {
   "display_name": "Python 3 (ipykernel)",
   "language": "python",
   "name": "python3"
  },
  "language_info": {
   "codemirror_mode": {
    "name": "ipython",
    "version": 3
   },
   "file_extension": ".py",
   "mimetype": "text/x-python",
   "name": "python",
   "nbconvert_exporter": "python",
   "pygments_lexer": "ipython3",
   "version": "3.12.2"
  }
 },
 "nbformat": 4,
 "nbformat_minor": 5
}
