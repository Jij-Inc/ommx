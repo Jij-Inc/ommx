{
    "cells": [
        {
            "cell_type": "markdown",
            "metadata": {},
            "source": [
                "# OMMX Python SDK 1.9.0"
            ]
        },
        {
            "cell_type": "markdown",
            "metadata": {},
            "source": [
                "This release significantly enhances the conversion functionality from `ommx.v1.Instance` to QUBO, with added support for **inequality constraints** and **integer variables**. Additionally, a new Driver API `to_qubo` has been introduced to simplify the QUBO conversion process."
            ]
        },
        {
            "cell_type": "markdown",
            "metadata": {},
            "source": [
                "## ✨ New Features"
            ]
        },
        {
            "cell_type": "markdown",
            "metadata": {},
            "source": [
                "### Integer variable log-encoding ([#363](https://github.com/Jij-Inc/ommx/pull/363), [#260](https://github.com/Jij-Inc/ommx/pull/260))\n",
                "\n",
                "Integer variables $x$ are encoded using binary variables $b_i$ as follows:\n",
                "\n",
                "$$\n",
                "x = \\sum_{i=0}^{m-2} 2^l b_i + (u - l - 2^{m-1} + 1) b_{m-1} + l\n",
                "$$\n",
                "\n",
                "This allows optimization problems with integer variables to be handled by QUBO solvers that can only deal with binary variables.\n",
                "\n",
                "While QUBO solvers return only binary variables, `Instance.evaluate` or `evaluate_samples` automatically restore these integer variables and return them as `ommx.v1.Solution` or `ommx.v1.SampleSet`."
            ]
        },
        {
            "cell_type": "code",
            "execution_count": 1,
            "metadata": {},
            "outputs": [
                {
                    "name": "stdout",
                    "output_type": "stream",
                    "text": [
                        "Objective function before conversion: Function(x0 + x1 + x2)\n",
                        "\n",
                        "Objective function after conversion: Function(x1 + x3 + 2*x4 + x5 + 2*x6)\n",
                        "\n",
                        "Decision variable list:\n",
                        "       kind  lower  upper             name subscripts\n",
                        "id                                                   \n",
                        "0   integer    0.0    3.0                x        [0]\n",
                        "1   integer    0.0    3.0                x        [1]\n",
                        "2   integer    0.0    3.0                x        [2]\n",
                        "3    binary    0.0    1.0  ommx.log_encode     [0, 0]\n",
                        "4    binary    0.0    1.0  ommx.log_encode     [0, 1]\n",
                        "5    binary    0.0    1.0  ommx.log_encode     [2, 0]\n",
                        "6    binary    0.0    1.0  ommx.log_encode     [2, 1]\n",
                        "\n",
                        "Integer variable restoration:\n",
                        "{(0,): 2.0, (1,): 2.0, (2,): 0.0}\n"
                    ]
                }
            ],
            "source": [
                "# Example of integer variable log encoding\n",
                "from ommx.v1 import Instance, DecisionVariable\n",
                "\n",
                "# Define a problem with three integer variables\n",
                "x = [\n",
                "    DecisionVariable.integer(i, lower=0, upper=3, name=\"x\", subscripts=[i])\n",
                "    for i in range(3)\n",
                "]\n",
                "instance = Instance.from_components(\n",
                "    decision_variables=x,\n",
                "    objective=sum(x),\n",
                "    constraints=[],\n",
                "    sense=Instance.MAXIMIZE,\n",
                ")\n",
                "print(\"Objective function before conversion:\", instance.objective)\n",
                "\n",
                "# Log encode only x0 and x2\n",
                "instance.log_encode({0, 2})\n",
                "print(\"\\nObjective function after conversion:\", instance.objective)\n",
                "\n",
                "# Check the generated binary variables\n",
                "print(\"\\nDecision variable list:\")\n",
                "print(instance.decision_variables[[\"kind\", \"lower\", \"upper\", \"name\", \"subscripts\"]])\n",
                "\n",
                "# Restore integer variables from binary variables\n",
                "print(\"\\nInteger variable restoration:\")\n",
                "solution = instance.evaluate({\n",
                "    1: 2,          # x1 = 2\n",
                "    3: 0, 4: 1,    # x0 = x3 + 2*x4 = 0 + 2*1 = 2\n",
                "    5: 0, 6: 0     # x2 = x5 + 2*x6 = 0 + 2*0 = 0\n",
                "})\n",
                "print(solution.extract_decision_variables(\"x\"))"
            ]
        },
        {
            "cell_type": "markdown",
            "metadata": {},
            "source": [
                "### Support for inequality constraints\n",
                "\n",
                "Two methods have been implemented to convert problems with inequality constraints $ f(x) \\leq 0 $ to QUBO:"
            ]
        },
        {
            "cell_type": "markdown",
            "metadata": {},
            "source": [
                "#### Conversion to equality constraints using integer slack variables ([#366](https://github.com/Jij-Inc/ommx/pull/366))\n",
                "\n",
                "In this method, the coefficients of the inequality constraint are first represented as rational numbers, and then multiplied by an appropriate rational number $a > 0$ to convert all coefficients of $a f(x)$ to integers. Next, an integer slack variable $s$ is introduced to transform the inequality constraint into an equality constraint $ f(x) + s/a = 0$. The converted equality constraint is then added to the QUBO objective function as a penalty term using existing techniques.\n",
                "\n",
                "This method can always be applied, but if there are non-divisible coefficients in the polynomial, `a` may become very large, and consequently, the range of `s` may also expand, potentially making it impractical. Therefore, the API allows users to input the upper limit for the range of `s`. The `to_qubo` function described later uses this method by default."
            ]
        },
        {
            "cell_type": "code",
            "execution_count": 2,
            "metadata": {},
            "outputs": [
                {
                    "name": "stdout",
                    "output_type": "stream",
                    "text": [
                        "Constraint before conversion: Constraint(Function(x0 + 2*x1 - 5) <= 0)\n",
                        "\n",
                        "Constraint after conversion: Constraint(Function(x0 + 2*x1 + x3 - 5) == 0)\n",
                        "\n",
                        "Decision variable list:\n",
                        "       kind  lower  upper        name subscripts\n",
                        "id                                              \n",
                        "0   integer    0.0    3.0           x        [0]\n",
                        "1   integer    0.0    3.0           x        [1]\n",
                        "2   integer    0.0    3.0           x        [2]\n",
                        "3   integer    0.0    5.0  ommx.slack        [0]\n"
                    ]
                }
            ],
            "source": [
                "# Example of converting inequality constraints to equality constraints\n",
                "from ommx.v1 import Instance, DecisionVariable\n",
                "\n",
                "# Problem with inequality constraint x0 + 2*x1 <= 5\n",
                "x = [\n",
                "    DecisionVariable.integer(i, lower=0, upper=3, name=\"x\", subscripts=[i])\n",
                "    for i in range(3)\n",
                "]\n",
                "instance = Instance.from_components(\n",
                "    decision_variables=x,\n",
                "    objective=sum(x),\n",
                "    constraints=[\n",
                "        (x[0] + 2*x[1] <= 5).set_id(0)   # Set constraint ID\n",
                "    ],\n",
                "    sense=Instance.MAXIMIZE,\n",
                ")\n",
                "print(\"Constraint before conversion:\", instance.get_constraints()[0])\n",
                "\n",
                "# Convert inequality constraint to equality constraint\n",
                "instance.convert_inequality_to_equality_with_integer_slack(\n",
                "    constraint_id=0,\n",
                "    max_integer_range=32\n",
                ")\n",
                "print(\"\\nConstraint after conversion:\", instance.get_constraints()[0])\n",
                "\n",
                "# Check the added slack variable\n",
                "print(\"\\nDecision variable list:\")\n",
                "print(instance.decision_variables[[\"kind\", \"lower\", \"upper\", \"name\", \"subscripts\"]])"
            ]
        },
        {
            "cell_type": "markdown",
            "metadata": {},
            "source": [
                "#### Adding integer slack variables to inequality constraints ([#369](https://github.com/Jij-Inc/ommx/pull/369), [#368](https://github.com/Jij-Inc/ommx/pull/368))\n",
                "\n",
                "When the above method cannot be applied, an alternative approach is used where integer slack variables $s$ are added to inequality constraints in the form $f(x) + b s \\leq 0$. When converting to QUBO, these are added as penalty terms in the form $|f(x) + b s|^2$. Compared to simply adding $|f(x)|^2$, this approach prevents unfairly favoring $f(x) = 0$.\n",
                "\n",
                "Additionally, `Instance.penalty_method` and `uniform_penalty_method` now accept inequality constraints, handling them in the same way as equality constraints by simply adding them as $|f(x)|^2$."
            ]
        },
        {
            "cell_type": "code",
            "execution_count": 3,
            "metadata": {},
            "outputs": [
                {
                    "name": "stdout",
                    "output_type": "stream",
                    "text": [
                        "Constraint before conversion: Constraint(Function(x0 + 2*x1 - 4) <= 0)\n",
                        "\n",
                        "Slack variable coefficient: 2.0\n",
                        "Constraint after conversion: Constraint(Function(x0 + 2*x1 + 2*x3 - 4) <= 0)\n",
                        "\n",
                        "Decision variable list:\n",
                        "       kind  lower  upper        name subscripts\n",
                        "id                                              \n",
                        "0   integer    0.0    3.0           x        [0]\n",
                        "1   integer    0.0    3.0           x        [1]\n",
                        "2   integer    0.0    3.0           x        [2]\n",
                        "3   integer    0.0    2.0  ommx.slack        [0]\n"
                    ]
                }
            ],
            "source": [
                "# Example of adding slack variables to inequality constraints\n",
                "from ommx.v1 import Instance, DecisionVariable\n",
                "\n",
                "# Problem with inequality constraint x0 + 2*x1 <= 4\n",
                "x = [\n",
                "    DecisionVariable.integer(i, lower=0, upper=3, name=\"x\", subscripts=[i])\n",
                "    for i in range(3)\n",
                "]\n",
                "instance = Instance.from_components(\n",
                "    decision_variables=x,\n",
                "    objective=sum(x),\n",
                "    constraints=[\n",
                "        (x[0] + 2*x[1] <= 4).set_id(0)   # Set constraint ID\n",
                "    ],\n",
                "    sense=Instance.MAXIMIZE,\n",
                ")\n",
                "print(\"Constraint before conversion:\", instance.get_constraints()[0])\n",
                "\n",
                "# Add slack variable to inequality constraint\n",
                "b = instance.add_integer_slack_to_inequality(\n",
                "    constraint_id=0,\n",
                "    slack_upper_bound=2\n",
                ")\n",
                "print(f\"\\nSlack variable coefficient: {b}\")\n",
                "print(\"Constraint after conversion:\", instance.get_constraints()[0])\n",
                "\n",
                "# Check the added slack variable\n",
                "print(\"\\nDecision variable list:\")\n",
                "print(instance.decision_variables[[\"kind\", \"lower\", \"upper\", \"name\", \"subscripts\"]])"
            ]
        },
        {
            "cell_type": "markdown",
            "metadata": {},
            "source": [
                "### Addition of QUBO conversion Driver API `to_qubo` ([#370](https://github.com/Jij-Inc/ommx/pull/370))\n",
                "\n",
                "A Driver API `to_qubo` has been added that performs a series of operations required for converting from `ommx.v1.Instance` to QUBO (integer variable conversion, inequality constraint conversion, penalty term addition, etc.) in one go. This allows users to obtain QUBO easily without having to be aware of complex conversion steps.\n",
                "\n",
                "The `to_qubo` function internally executes the following steps in the appropriate order:\n",
                "1. Convert constraints and objective functions containing integer variables to binary variable representations (e.g., Log Encoding)\n",
                "2. Convert inequality constraints to equality constraints (default) or to a form suitable for the Penalty Method\n",
                "3. Convert equality constraints and objective functions to QUBO format\n",
                "4. Generate an `interpret` function to map QUBO solutions back to the original problem variables\n",
                "\n",
                "Note that when calling `instance.to_qubo`, the `instance` will be modified."
            ]
        },
        {
            "cell_type": "code",
            "execution_count": 4,
            "metadata": {},
            "outputs": [
                {
                    "name": "stdout",
                    "output_type": "stream",
                    "text": [
                        "Original problem:\n",
                        "Objective function: Function(x0 + x1)\n",
                        "Constraint: Constraint(Function(x0 + 2*x1 - 3) <= 0)\n",
                        "Variables: ['x[0]', 'x[1]']\n",
                        "\n",
                        "After QUBO conversion:\n",
                        "Offset: 9.0\n",
                        "Number of QUBO terms: 21\n",
                        "\n",
                        "Some QUBO terms:\n",
                        "Q[3,3] = -6.0\n",
                        "Q[3,4] = 2.0\n",
                        "Q[3,5] = 4.0\n",
                        "Q[3,6] = 4.0\n",
                        "Q[3,7] = 2.0\n",
                        "\n",
                        "Variables after conversion:\n",
                        "       kind             name subscripts\n",
                        "id                                     \n",
                        "0   integer                x        [0]\n",
                        "1   integer                x        [1]\n",
                        "2   integer       ommx.slack        [0]\n",
                        "3    binary  ommx.log_encode     [0, 0]\n",
                        "4    binary  ommx.log_encode     [0, 1]\n",
                        "5    binary  ommx.log_encode     [1, 0]\n",
                        "6    binary  ommx.log_encode     [1, 1]\n",
                        "7    binary  ommx.log_encode     [2, 0]\n",
                        "8    binary  ommx.log_encode     [2, 1]\n",
                        "\n",
                        "Constraints after conversion:\n",
                        "Remaining constraints: []\n",
                        "Removed constraints: [RemovedConstraint(Function(x3 + x4 + 2*x5 + 2*x6 + x7 + 2*x8 - 3) == 0, reason=uniform_penalty_method)]\n"
                    ]
                }
            ],
            "source": [
                "# Example of using the to_qubo Driver API\n",
                "from ommx.v1 import Instance, DecisionVariable\n",
                "\n",
                "# Problem with integer variables and inequality constraint\n",
                "x = [DecisionVariable.integer(i, lower=0, upper=2, name=\"x\", subscripts=[i]) for i in range(2)]\n",
                "instance = Instance.from_components(\n",
                "    decision_variables=x,\n",
                "    objective=sum(x),\n",
                "    constraints=[(x[0] + 2*x[1] <= 3).set_id(0)],\n",
                "    sense=Instance.MAXIMIZE,\n",
                ")\n",
                "\n",
                "print(\"Original problem:\")\n",
                "print(f\"Objective function: {instance.objective}\")\n",
                "print(f\"Constraint: {instance.get_constraints()[0]}\")\n",
                "print(f\"Variables: {[f'{v.name}{v.subscripts}' for v in instance.get_decision_variables()]}\")\n",
                "\n",
                "# Convert to QUBO\n",
                "qubo, offset = instance.to_qubo()\n",
                "\n",
                "print(\"\\nAfter QUBO conversion:\")\n",
                "print(f\"Offset: {offset}\")\n",
                "print(f\"Number of QUBO terms: {len(qubo)}\")\n",
                "\n",
                "# Show only a few terms due to the large number\n",
                "print(\"\\nSome QUBO terms:\")\n",
                "items = list(qubo.items())[:5]\n",
                "for (i, j), coeff in items:\n",
                "    print(f\"Q[{i},{j}] = {coeff}\")\n",
                "\n",
                "# Check the converted variables\n",
                "print(\"\\nVariables after conversion:\")\n",
                "print(instance.decision_variables[[\"kind\", \"name\", \"subscripts\"]])\n",
                "\n",
                "# Confirm that constraints have been removed\n",
                "print(\"\\nConstraints after conversion:\")\n",
                "print(f\"Remaining constraints: {instance.get_constraints()}\")\n",
                "print(f\"Removed constraints: {instance.get_removed_constraints()}\")"
            ]
        },
        {
            "cell_type": "markdown",
            "metadata": {},
            "source": [
                "## 🐛 Bug Fixes\n",
                "\n",
                "## 🛠️ Other Changes and Improvements\n",
                "\n",
                "## 💬 Feedback\n",
                "\n",
                "With these new features, ommx becomes a powerful tool for converting a wider range of optimization problems to QUBO format and solving them with various QUBO solvers. Try out `ommx` 1.9.0!\n",
                "\n",
                "Please submit any feedback or bug reports to [GitHub Issues](https://github.com/Jij-Inc/ommx/issues)."
            ]
        }
    ],
    "metadata": {
        "kernelspec": {
            "display_name": ".venv",
            "language": "python",
            "name": "python3"
        },
        "language_info": {
            "codemirror_mode": {
                "name": "ipython",
                "version": 3
            },
            "file_extension": ".py",
            "mimetype": "text/x-python",
            "name": "python",
            "nbconvert_exporter": "python",
            "pygments_lexer": "ipython3",
            "version": "3.9.21"
        }
    },
    "nbformat": 4,
    "nbformat_minor": 4
}
