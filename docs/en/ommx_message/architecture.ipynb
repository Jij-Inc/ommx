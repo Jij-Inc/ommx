{
 "cells": [
  {
   "cell_type": "markdown",
   "metadata": {},
   "source": [
    "OMMX Message Design\n",
    "=============\n",
    "\n",
    "[![doc](https://img.shields.io/badge/Protocol-Documentation-blue)](https://jij-inc.github.io/ommx/protobuf.html)\n",
    "\n",
    "## Why OMMX Message based on Protocol Buffers? Why not [JSON](https://www.json.org/json-en.html), [CBOR](https://cbor.io/), or [HDF5](https://www.hdfgroup.org/solutions/hdf5/)?\n",
    "\n",
    ":zap: We need to define a data schema for messages exchanged between applications, services, and databases that make up OROps.\n",
    "\n",
    "We have to discuss the following points to answer the question.\n",
    "\n",
    "- Where OMMX is used?\n",
    "- Why schema is required?\n",
    "- Text-based or Binary-based?\n",
    "- Why Protocol Buffers?\n",
    "\n",
    "Note that this is a **better** selection, not the **best** selection. We have to keep considering these points and change the selection if necessary.\n",
    "\n",
    "### Where OMMX is used?\n",
    "Mathematical programming has been a subject of study in academic fields for a considerable period of time, and numerous software tools have been developed to improve problem-solving capability. However, these tools are basically designed for use in a research process. When we attempt to use these invaluable tools in a real-world business process, we refer to it as \"OROps\" (OR = operations research); like \"MLOps\" in the machine-learning field, we have to face many problems. The most significant problem is the lack of interoperability between tools. We have to convert data between tools, and it is a time-consuming and error-prone process. OMMX is designed to solve this problem.\n",
    "\n",
    "### Why schema is required?\n",
    "Unlike the research process, where few researchers use and create few tools, in OROps, many developers use and create many tools. The interoperability between tools becomes a significant issue due to this point. It is possible for humans to manage input and output data stored in general-purpose data formats like JSON or HDF5 for a few tools, but it is hard for many tools. Thus, we have to introduce machine-readable schema.\n",
    "\n",
    "### Text-based or Binary-based?\n",
    "TBW\n",
    "\n",
    "### Why Protocol Buffers?\n",
    "TBW\n",
    "\n",
    "## Compatibility\n",
    "\n",
    "- OMMX defines a protocol buffers schema with version like `v1`, `v2`, etc. `v1` schema has a namesapce `ommx.v1`.\n",
    "- Schemas in `ommx.v1` will be compatible after [ommx.v1 schema release](https://github.com/Jij-Inc/ommx/milestone/3). Note that the schema can be changed incompatible way until this release.\n",
    "- `v2` schema with namespace `ommx.v2` will start developing if we need to change the schema in incompatible way after `ommx.v1` release. Compatible changes will be made in `v1` schema also after its release. We never create namespaces like `ommx.v1_1`."
   ]
  }
 ],
 "metadata": {
  "kernelspec": {
   "display_name": "Python 3 (ipykernel)",
   "language": "python",
   "name": "python3"
  },
  "language_info": {
   "codemirror_mode": {
    "name": "ipython",
    "version": 3
   },
   "file_extension": ".py",
   "mimetype": "text/x-python",
   "name": "python",
   "nbconvert_exporter": "python",
   "pygments_lexer": "ipython3",
   "version": "3.10.6"
  }
 },
 "nbformat": 4,
 "nbformat_minor": 4
}
