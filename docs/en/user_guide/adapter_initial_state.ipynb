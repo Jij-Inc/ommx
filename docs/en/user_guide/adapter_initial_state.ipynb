{
 "cells": [
  {
   "cell_type": "markdown",
   "metadata": {},
   "source": [
    "# How to Use the Initial Solution with OMMX Adapters\n",
    "\n",
    "Some OMMX Adapters support providing initial solutions when executing optimization calculations.\n",
    "Here, we'll introduce this feature using OMMXPySCIPOptAdapter as an example. By providing an initial solution, the solver does not need to construct an initial feasible solution by itself, which can sometimes improve the performance of optimization calculations.\n",
    "\n",
    "## How to Provide an Initial Solution\n",
    "\n",
    "The initial solution (`initial_state`) that can be provided is of type `ToState`, which can accept both `ommx.v1.State` and `Mapping[int, float]`.\n",
    "\n",
    "We'll demonstrate how to provide an initial solution using the following instance:"
   ]
  },
  {
   "cell_type": "code",
   "execution_count": null,
   "metadata": {},
   "outputs": [],
   "source": [
    "from ommx.v1 import Instance, DecisionVariable\n",
    "from ommx.v1.solution_pb2 import State\n",
    "\n",
    "x = DecisionVariable.integer(1, lower=0, upper=5)\n",
    "y = DecisionVariable.integer(2, lower=0, upper=5)\n",
    "\n",
    "ommx_instance = Instance.from_components(\n",
    "    decision_variables=[x, y],\n",
    "    objective=x - y,\n",
    "    constraints=[x + y <= 5],\n",
    "    sense=Instance.MAXIMIZE,\n",
    ")"
   ]
  },
  {
   "cell_type": "markdown",
   "metadata": {},
   "source": [
    "Example of initial solution using `ommx.v1.State`"
   ]
  },
  {
   "cell_type": "code",
   "execution_count": null,
   "metadata": {},
   "outputs": [],
   "source": [
    "initial_state = State(\n",
    "    entries={\n",
    "        1: 3.0,\n",
    "        2: 2.0,\n",
    "    }\n",
    ")"
   ]
  },
  {
   "cell_type": "markdown",
   "metadata": {},
   "source": [
    "Example of initial solution using `Mapping[int, float]`"
   ]
  },
  {
   "cell_type": "code",
   "execution_count": null,
   "metadata": {},
   "outputs": [],
   "source": [
    "initial_state = {\n",
    "    1: 3.0,\n",
    "    2: 2.0,\n",
    "}"
   ]
  },
  {
   "cell_type": "markdown",
   "metadata": {},
   "source": [
    "As shown below, you can run the optimization with an initial solution by providing `initial_state` as an argument to the solve function:"
   ]
  },
  {
   "cell_type": "code",
   "execution_count": null,
   "metadata": {},
   "outputs": [],
   "source": [
    "from ommx_pyscipopt_adapter import OMMXPySCIPOptAdapter\n",
    "\n",
    "solution = OMMXPySCIPOptAdapter.solve(\n",
    "    ommx_instance=ommx_instance,\n",
    "    initial_state=initial_state,\n",
    ")"
   ]
  },
  {
   "cell_type": "markdown",
   "metadata": {},
   "source": [
    "If you need to tune the solver, you can directly use the OMMXPySCIPOptAdapter class to set solver parameters. In this case, you can also provide `initial_state` as an argument as shown below:"
   ]
  },
  {
   "cell_type": "code",
   "execution_count": null,
   "metadata": {},
   "outputs": [],
   "source": [
    "from ommx_pyscipopt_adapter import OMMXPySCIPOptAdapter\n",
    "\n",
    "adapter = OMMXPySCIPOptAdapter(\n",
    "    ommx_instance=ommx_instance,\n",
    "    initial_state=initial_state,\n",
    ")"
   ]
  },
  {
   "cell_type": "markdown",
   "metadata": {},
   "source": [
    "## Example Comparison With and Without Initial Solution\n",
    "\n",
    "Using the `neos-1171448` instance from MIPLIB, let's compare the performance differences with and without an initial solution.\n",
    "For the initial solution, we'll use a feasible solution (not an optimal one) created by another solver."
   ]
  },
  {
   "cell_type": "code",
   "execution_count": null,
   "metadata": {},
   "outputs": [],
   "source": [
    "from ommx_pyscipopt_adapter import OMMXPySCIPOptAdapter\n",
    "import jijmodeling as jm\n",
    "\n",
    "# Load the instance\n",
    "problem, instance_data = jm.dataset.Miplib().load('neos-1171448')\n",
    "interpreter = jm.Interpreter(instance_data)\n",
    "ommx_instance = interpreter.eval_problem(problem)"
   ]
  },
  {
   "cell_type": "markdown",
   "metadata": {},
   "source": [
    "### Without an initial solution"
   ]
  },
  {
   "cell_type": "code",
   "execution_count": null,
   "metadata": {},
   "outputs": [],
   "source": [
    "solution = OMMXPySCIPOptAdapter.solve(\n",
    "    ommx_instance=ommx_instance,\n",
    ")"
   ]
  },
  {
   "cell_type": "markdown",
   "metadata": {},
   "source": [
    "Execution time for the above solve function: about 61 seconds (varies depending on environment)\n",
    "\n",
    "### With an initial solution\n",
    "\n",
    "For this tutorial, we'll use the following initial solution obtained from another solver:"
   ]
  },
  {
   "cell_type": "code",
   "execution_count": null,
   "metadata": {},
   "outputs": [],
   "source": [
    "initial_state = {2962: 0.0, 703: 0.0, 2427: 0.0, 221: 0.0, 3438: 0.0, 3479: 0.0, 4783: 0.0, 1672: 0.0, 1756: 0.0, 2585: 1.0, 3509: 0.0, 4234: 0.0, 507: 0.0, 301: 0.0, 3817: 0.0, 2830: 0.0, 3492: 0.0, 2407: 0.0, 557: 0.0, 3215: 0.0, 4630: 1.0, 3037: 0.0, 205: 0.0, 3290: 1.0, 3430: 0.0, 4700: 0.0, 2979: 0.0, 2046: 0.0, 811: 0.0, 1873: 0.0, 1218: 0.0, 2332: 0.0, 1227: 0.0, 1013: 0.0, 1765: 0.0, 1243: 0.0, 1163: 0.0, 4171: 0.0, 3263: 0.0, 2537: 0.0, 7: 0.0, 2002: 0.0, 3629: 0.0, 677: 0.0, 3014: 0.0, 4805: 0.0, 824: 0.0, 2311: 0.0, 4655: 0.0, 4843: 0.0, 2070: 1.0, 1075: 0.0, 4544: 0.0, 3121: 0.0, 836: 0.0, 1913: 0.0, 1110: 0.0, 368: 0.0, 3342: 0.0, 3084: 0.0, 639: 0.0, 4081: 1.0, 931: 0.0, 21: 0.0, 1933: 0.0, 95: 0.0, 1989: 0.0, 3842: 0.0, 198: 0.0, 291: 0.0, 76: 0.0, 2086: 0.0, 1489: 0.0, 1448: 0.0, 4299: 0.0, 4747: 1.0, 2139: 0.0, 3220: 0.0, 1700: 0.0, 2230: 0.0, 3127: 0.0, 3240: 0.0, 450: 0.0, 3593: 0.0, 3910: 0.0, 61: 0.0, 4703: 0.0, 1031: 0.0, 1918: 0.0, 2051: 0.0, 2035: 0.0, 821: 0.0, 34: 0.0, 493: 0.0, 4857: 0.0, 2413: 0.0, 136: 1.0, 1575: 0.0, 3639: 0.0, 3870: 0.0, 4814: 0.0, 1189: 0.0, 20: 0.0, 701: 0.0, 3400: 1.0, 3443: 0.0, 246: 0.0, 1390: 0.0, 418: 0.0, 967: 0.0, 458: 0.0, 1455: 0.0, 452: 0.0, 637: 0.0, 1750: 0.0, 1363: 0.0, 275: 0.0, 3735: 1.0, 2240: 0.0, 3875: 0.0, 1316: 0.0, 1233: 0.0, 1413: 0.0, 2569: 0.0, 153: 0.0, 858: 0.0, 3906: 0.0, 3149: 0.0, 3485: 0.0, 975: 0.0, 943: 0.0, 1009: 0.0, 3526: 0.0, 3026: 0.0, 949: 0.0, 1054: 0.0, 1159: 0.0, 1203: 0.0, 2788: 0.0, 3137: 1.0, 2776: 0.0, 2791: 0.0, 299: 0.0, 4410: 0.0, 2847: 0.0, 2205: 0.0, 2501: 1.0, 1685: 0.0, 3934: 0.0, 808: 0.0, 1706: 0.0, 1963: 0.0, 1028: 0.0, 646: 0.0, 1267: 0.0, 2604: 0.0, 3857: 0.0, 4774: 0.0, 4282: 0.0, 4618: 0.0, 1836: 0.0, 456: 0.0, 3262: 0.0, 4642: 0.0, 1922: 0.0, 4442: 1.0, 4290: 0.0, 2307: 0.0, 2050: 0.0, 4792: 0.0, 1707: 0.0, 1212: 0.0, 430: 0.0, 1883: 0.0, 3102: 0.0, 4358: 1.0, 4893: 0.0, 1030: 0.0, 1811: 0.0, 1593: 0.0, 1741: 0.0, 82: 0.0, 2949: 0.0, 2401: 0.0, 2419: 0.0, 4695: 0.0, 1234: 2.0, 3569: 0.0, 2607: 0.0, 1238: 0.0, 1647: 3.0, 3835: 0.0, 2459: 0.0, 2715: 0.0, 1910: 0.0, 2703: 0.0, 785: 0.0, 2567: 1.0, 4079: 0.0, 3810: 0.0, 4738: 0.0, 633: 3.0, 1964: 0.0, 481: 0.0, 4151: 0.0, 1608: 0.0, 4889: 0.0, 3056: 0.0, 1174: 0.0, 3407: 1.0, 2862: 0.0, 4761: 0.0, 2559: 0.0, 603: 0.0, 1589: 0.0, 3755: 0.0, 3229: 1.0, 3359: 0.0, 3361: 0.0, 2408: 0.0, 823: 0.0, 1885: 0.0, 602: 0.0, 1973: 0.0, 3475: 0.0, 2991: 0.0, 215: 0.0, 2285: 0.0, 4629: 0.0, 3722: 0.0, 4214: 0.0, 2574: 0.0, 517: 0.0, 2345: 0.0, 412: 0.0, 2237: 0.0, 3902: 1.0, 4656: 0.0, 2886: 0.0, 4278: 0.0, 3164: 0.0, 3082: 0.0, 1516: 0.0, 2544: 0.0, 4202: 0.0, 2446: 0.0, 4223: 0.0, 2700: 0.0, 1066: 0.0, 4751: 0.0, 707: 0.0, 315: 2.0, 3587: 0.0, 2478: 0.0, 462: 0.0, 1034: 0.0, 3612: 0.0, 411: 0.0, 454: 0.0, 1724: 0.0, 4438: 0.0, 2225: 0.0, 2471: 0.0, 2923: 0.0, 46: 0.0, 3729: 0.0, 4881: 1.0, 2382: 0.0, 4111: 0.0, 1235: 0.0, 4567: 0.0, 1798: 0.0, 1527: 0.0, 2487: 0.0, 3776: 0.0, 3417: 0.0, 669: 0.0, 3995: 0.0, 835: 0.0, 1298: 0.0, 4153: 0.0, 761: 0.0, 4036: 0.0, 1415: 0.0, 4053: 0.0, 3097: 0.0, 3888: 0.0, 1226: 0.0, 4796: 0.0, 3419: 0.0, 258: 0.0, 3104: 0.0, 1548: 0.0, 1734: 0.0, 754: 0.0, 969: 0.0, 4122: 0.0, 141: 0.0, 3072: 0.0, 973: 0.0, 444: 0.0, 1474: 0.0, 630: 0.0, 1279: 0.0, 3650: 0.0, 4467: 0.0, 4197: 0.0, 4594: 1.0, 69: 0.0, 4372: 0.0, 2402: 3.0, 4199: 0.0, 3843: 0.0, 217: 0.0, 1648: 0.0, 2344: 0.0, 4236: 0.0, 2822: 1.0, 2359: 0.0, 2498: 0.0, 1579: 0.0, 2261: 0.0, 4270: 0.0, 1779: 0.0, 2324: 0.0, 3861: 0.0, 1715: 0.0, 1931: 0.0, 1743: 0.0, 3903: 0.0, 1275: 0.0, 3830: 0.0, 3812: 0.0, 119: 3.0, 2201: 0.0, 795: 0.0, 1893: 0.0, 4409: 0.0, 4297: 0.0, 286: 0.0, 4892: 0.0, 533: 0.0, 194: 0.0, 1369: 0.0, 3704: 0.0, 3385: 0.0, 760: 0.0, 2052: 0.0, 965: 0.0, 2749: 0.0, 2877: 0.0, 2269: 0.0, 4533: 1.0, 2182: 0.0, 1981: 0.0, 4097: 0.0, 2063: 0.0, 3923: 0.0, 4396: 0.0, 776: 0.0, 308: 0.0, 2327: 0.0, 2640: 0.0, 1062: 0.0, 4840: 0.0, 3375: 0.0, 2894: 0.0, 1697: 0.0, 3248: 0.0, 168: 0.0, 3396: 0.0, 3435: 0.0, 4320: 1.0, 4210: 1.0, 688: 0.0, 490: 0.0, 4331: 0.0, 506: 0.0, 1224: 0.0, 152: 0.0, 3967: 0.0, 4106: 0.0, 4574: 1.0, 3900: 0.0, 1788: 0.0, 2941: 0.0, 1032: 0.0, 3689: 0.0, 743: 0.0, 4872: 0.0, 1040: 0.0, 3252: 0.0, 4652: 0.0, 2820: 0.0, 165: 0.0, 696: 0.0, 2414: 0.0, 3643: 0.0, 2884: 0.0, 214: 0.0, 386: 0.0, 538: 0.0, 4469: 0.0, 3424: 0.0, 4175: 1.0, 710: 0.0, 2475: 0.0, 3464: 1.0, 3768: 0.0, 3807: 0.0, 515: 0.0, 1454: 3.0, 1424: 0.0, 3202: 0.0, 2379: 0.0, 979: 0.0, 2028: 0.0, 4576: 0.0, 2599: 0.0, 4884: 0.0, 982: 0.0, 3548: 0.0, 2747: 0.0, 3281: 0.0, 4823: 0.0, 167: 0.0, 537: 0.0, 686: 0.0, 2404: 0.0, 280: 0.0, 293: 0.0, 3181: 0.0, 4851: 0.0, 1370: 0.0, 1285: 0.0, 3231: 0.0, 997: 0.0, 237: 0.0, 2236: 0.0, 2807: 1.0, 3562: 0.0, 1416: 0.0, 4260: 0.0, 3027: 0.0, 1587: 0.0, 485: 0.0, 1384: 0.0, 974: 0.0, 2227: 0.0, 3567: 0.0, 750: 1.0, 3976: 0.0, 2428: 0.0, 548: 0.0, 4444: 0.0, 1573: 0.0, 787: 0.0, 3390: 0.0, 3622: 0.0, 2378: 0.0, 3171: 0.0, 3769: 0.0, 3715: 0.0, 4244: 0.0, 1763: 2.0, 3304: 0.0, 4391: 0.0, 4189: 0.0, 3720: 0.0, 2698: 0.0, 626: 0.0, 4706: 1.0, 1916: 0.0, 3439: 0.0, 4364: 0.0, 3927: 0.0, 2642: 0.0, 1004: 0.0, 379: 0.0, 651: 0.0, 4826: 0.0, 2972: 0.0, 4745: 0.0, 1232: 0.0, 1465: 0.0, 2284: 0.0, 1946: 0.0, 1541: 0.0, 862: 0.0, 2093: 0.0, 8: 0.0, 3586: 0.0, 4010: 0.0, 499: 0.0, 4573: 0.0, 1754: 0.0, 613: 0.0, 3811: 0.0, 4825: 0.0, 477: 0.0, 993: 0.0, 3463: 0.0, 1772: 0.0, 2786: 0.0, 3362: 0.0, 2238: 0.0, 2447: 3.0, 4848: 0.0, 3472: 0.0, 4540: 0.0, 4598: 0.0, 129: 0.0, 4683: 0.0, 356: 0.0, 455: 0.0, 4664: 0.0, 1170: 0.0, 3716: 0.0, 2926: 0.0, 4831: 0.0, 1600: 0.0, 643: 0.0, 2080: 0.0, 4732: 0.0, 468: 0.0, 1452: 0.0, 614: 0.0, 4591: 0.0, 3739: 0.0, 1381: 0.0, 2423: 0.0, 4121: 1.0, 1694: 0.0, 3854: 1.0, 2013: 0.0, 4595: 0.0, 3794: 0.0, 3798: 0.0, 4160: 0.0, 4205: 1.0}"
   ]
  },
  {
   "cell_type": "markdown",
   "metadata": {},
   "source": [
    "Execute a solve operation by providing the `initial_state`:"
   ]
  },
  {
   "cell_type": "code",
   "execution_count": null,
   "metadata": {},
   "outputs": [],
   "source": [
    "solution = OMMXPySCIPOptAdapter.solve(\n",
    "    ommx_instance=ommx_instance,\n",
    "    initial_state=initial_state,\n",
    ")"
   ]
  },
  {
   "cell_type": "markdown",
   "metadata": {},
   "source": [
    "Execution time for the above solve function: about 15 seconds (varies depending on environment)\n",
    "\n",
    "In this example, providing an initial solution reduced the optimization calculation time.\n",
    "\n",
    "Note that providing an initial solution does not always improve performance - it may have no effect or even make performance worse in some cases. Trial and error is required to determine if it helps, but in effective cases, significant performance improvement can be expected."
   ]
  }
 ],
 "metadata": {
  "kernelspec": {
   "display_name": "Python 3 (ipykernel)",
   "language": "python",
   "name": "python3"
  },
  "language_info": {
   "codemirror_mode": {
    "name": "ipython",
    "version": 3
   },
   "file_extension": ".py",
   "mimetype": "text/x-python",
   "name": "python",
   "nbconvert_exporter": "python",
   "pygments_lexer": "ipython3",
   "version": "3.11.10"
  }
 },
 "nbformat": 4,
 "nbformat_minor": 4
}
