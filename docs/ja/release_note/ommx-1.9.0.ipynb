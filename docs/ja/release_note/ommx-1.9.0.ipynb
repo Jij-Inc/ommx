{
    "cells": [
        {
            "cell_type": "markdown",
            "metadata": {},
            "source": [
                "# OMMX Python SDK 1.9.0"
            ]
        },
        {
            "cell_type": "markdown",
            "metadata": {},
            "source": [
                "このリリースでは、`ommx.v1.Instance` からQUBOへの変換機能が大幅に強化され、**不等式制約**と**整数変数**のサポートが追加されました。また、QUBO変換プロセスを簡単にするための新しいDriver API `to_qubo` が導入されました。"
            ]
        },
        {
            "cell_type": "markdown",
            "metadata": {},
            "source": [
                "## ✨ 新機能"
            ]
        },
        {
            "cell_type": "markdown",
            "metadata": {},
            "source": [
                "### 整数変数のlog-encoding ([#363](https://github.com/Jij-Inc/ommx/pull/363), [#260](https://github.com/Jij-Inc/ommx/pull/260))\n",
                "\n",
                "整数変数 $x$ を、バイナリ変数 $b_i$ を用いて次のようにエンコードします。\n",
                "\n",
                "$$\n",
                "x = \\sum_{i=0}^{m-2} 2^i b_i + (u - l - 2^{m-1} + 1) b_{m-1} + l\n",
                "$$\n",
                "\n",
                "これにより、整数変数を直接扱えないQUBOソルバーでも整数を使った最適化問題を扱うことができるようになります。\n",
                "\n",
                "またQUBOソルバーなどはバイナリ変数だけを返してくるはずですが、`Instance.evaluate` や `evaluate_samples` が自動的にこの整数変数を復元して `ommx.v1.Solution` や `ommx.v1.SampleSet` として返します。"
            ]
        },
        {
            "cell_type": "code",
            "execution_count": 5,
            "metadata": {},
            "outputs": [
                {
                    "name": "stdout",
                    "output_type": "stream",
                    "text": [
                        "変換前の目的関数: Function(x0 + x1 + x2)\n",
                        "\n",
                        "変換後の目的関数: Function(x1 + x3 + 2*x4 + x5 + 2*x6)\n",
                        "\n",
                        "決定変数一覧:\n",
                        "       kind  lower  upper             name subscripts\n",
                        "id                                                   \n",
                        "0   integer    0.0    3.0                x        [0]\n",
                        "1   integer    0.0    3.0                x        [1]\n",
                        "2   integer    0.0    3.0                x        [2]\n",
                        "3    binary    0.0    1.0  ommx.log_encode     [0, 0]\n",
                        "4    binary    0.0    1.0  ommx.log_encode     [0, 1]\n",
                        "5    binary    0.0    1.0  ommx.log_encode     [2, 0]\n",
                        "6    binary    0.0    1.0  ommx.log_encode     [2, 1]\n",
                        "\n",
                        "整数変数の復元:\n",
                        "{(0,): 2.0, (1,): 2.0, (2,): 0.0}\n"
                    ]
                }
            ],
            "source": [
                "# 整数変数のログエンコーディング例\n",
                "from ommx.v1 import Instance, DecisionVariable\n",
                "\n",
                "# 3つの整数変数を持つ問題を定義\n",
                "x = [\n",
                "    DecisionVariable.integer(i, lower=0, upper=3, name=\"x\", subscripts=[i])\n",
                "    for i in range(3)\n",
                "]\n",
                "instance = Instance.from_components(\n",
                "    decision_variables=x,\n",
                "    objective=sum(x),\n",
                "    constraints=[],\n",
                "    sense=Instance.MAXIMIZE,\n",
                ")\n",
                "print(\"変換前の目的関数:\", instance.objective)\n",
                "\n",
                "# x0とx2のみをログエンコード\n",
                "instance.log_encode({0, 2})\n",
                "print(\"\\n変換後の目的関数:\", instance.objective)\n",
                "\n",
                "# 生成されたバイナリ変数を確認\n",
                "print(\"\\n決定変数一覧:\")\n",
                "print(instance.decision_variables[[\"kind\", \"lower\", \"upper\", \"name\", \"subscripts\"]])\n",
                "\n",
                "# バイナリ変数から整数変数の復元\n",
                "print(\"\\n整数変数の復元:\")\n",
                "solution = instance.evaluate({\n",
                "    1: 2,          # x1 = 2\n",
                "    3: 0, 4: 1,    # x0 = x3 + 2*x4 = 0 + 2*1 = 2\n",
                "    5: 0, 6: 0     # x2 = x5 + 2*x6 = 0 + 2*0 = 0\n",
                "})\n",
                "print(solution.extract_decision_variables(\"x\"))"
            ]
        },
        {
            "cell_type": "markdown",
            "metadata": {},
            "source": [
                "### 不等式制約のサポート\n",
                "\n",
                "不等式制約 $ f(x) \\leq 0 $ を含む問題をQUBOに変換するために、以下の二つの方法が実装されました。"
            ]
        },
        {
            "cell_type": "markdown",
            "metadata": {},
            "source": [
                "#### 整数スラック変数による等式制約化 ([#366](https://github.com/Jij-Inc/ommx/pull/366))\n",
                "\n",
                "この方法では、まず不等式制約の係数を有理数で表現し、適切な有理数 $a > 0$ を全体にかけることで $a f(x)$ の係数を全て整数に変換します。その後、整数のスラック変数 $s$ を導入することで、不等式制約を等式制約 $ f(x) + s/a = 0$ に変換します。変換された等式制約は、既存の手法を用いてペナルティ項としてQUBOの目的関数に追加されます。\n",
                "\n",
                "この方法は常に適用できますが、多項式の係数の間に割り切れないものがある場合は `a` が非常に大きくなり、合わせて `s` の範囲も広がるため実用的ではなくなる可能性があります。なので `s` の範囲の上限をユーザーが入力するAPIになっています。後述する `to_qubo` ではこの方法がデフォルトで適用されます。"
            ]
        },
        {
            "cell_type": "code",
            "execution_count": 2,
            "metadata": {},
            "outputs": [
                {
                    "name": "stdout",
                    "output_type": "stream",
                    "text": [
                        "変換前の制約: Constraint(Function(x0 + 2*x1 - 5) <= 0)\n",
                        "\n",
                        "変換後の制約: Constraint(Function(x0 + 2*x1 + x3 - 5) == 0)\n",
                        "\n",
                        "決定変数一覧:\n",
                        "       kind  lower  upper        name subscripts\n",
                        "id                                              \n",
                        "0   integer    0.0    3.0           x        [0]\n",
                        "1   integer    0.0    3.0           x        [1]\n",
                        "2   integer    0.0    3.0           x        [2]\n",
                        "3   integer    0.0    5.0  ommx.slack        [0]\n"
                    ]
                }
            ],
            "source": [
                "# 不等式制約の等式制約への変換例\n",
                "from ommx.v1 import Instance, DecisionVariable\n",
                "\n",
                "# 不等式制約 x0 + 2*x1 <= 5 を持つ問題\n",
                "x = [\n",
                "    DecisionVariable.integer(i, lower=0, upper=3, name=\"x\", subscripts=[i])\n",
                "    for i in range(3)\n",
                "]\n",
                "instance = Instance.from_components(\n",
                "    decision_variables=x,\n",
                "    objective=sum(x),\n",
                "    constraints=[\n",
                "        (x[0] + 2*x[1] <= 5).set_id(0)   # 制約IDを設定\n",
                "    ],\n",
                "    sense=Instance.MAXIMIZE,\n",
                ")\n",
                "print(\"変換前の制約:\", instance.get_constraints()[0])\n",
                "\n",
                "# 不等式制約を等式制約に変換\n",
                "instance.convert_inequality_to_equality_with_integer_slack(\n",
                "    constraint_id=0,\n",
                "    max_integer_range=32\n",
                ")\n",
                "print(\"\\n変換後の制約:\", instance.get_constraints()[0])\n",
                "\n",
                "# 追加されたスラック変数を確認\n",
                "print(\"\\n決定変数一覧:\")\n",
                "print(instance.decision_variables[[\"kind\", \"lower\", \"upper\", \"name\", \"subscripts\"]])"
            ]
        },
        {
            "cell_type": "markdown",
            "metadata": {},
            "source": [
                "#### 不等式制約のまま整数スラック変数を追加する ([#369](https://github.com/Jij-Inc/ommx/pull/369), [#368](https://github.com/Jij-Inc/ommx/pull/368))\n",
                "\n",
                "上述の方法が適用できない場合、等式制約にすることを諦めて不等式制約のまま整数slack変数 $s$ を $f(x) + b s \\leq 0$ の形で追加し、QUBOにするときはこれを等式制約のように $|f(x) + b s|^2$ の形でペナルティとして追加します。単に $|f(x)|^2$ として追加する場合に比べて、これにより不当に $f(x) = 0$ が優遇されることなくなります。\n",
                "\n",
                "合わせて `Instance.penalty_method` や `uniform_penalty_method` が不等式を受け取るようになり、等式制約と同じように単に $|f(x)|^2$ として追加するようになりました。"
            ]
        },
        {
            "cell_type": "code",
            "execution_count": 3,
            "metadata": {},
            "outputs": [
                {
                    "name": "stdout",
                    "output_type": "stream",
                    "text": [
                        "変換前の制約: Constraint(Function(x0 + 2*x1 - 4) <= 0)\n",
                        "\n",
                        "スラック変数の係数: 2.0\n",
                        "変換後の制約: Constraint(Function(x0 + 2*x1 + 2*x3 - 4) <= 0)\n",
                        "\n",
                        "決定変数一覧:\n",
                        "       kind  lower  upper        name subscripts\n",
                        "id                                              \n",
                        "0   integer    0.0    3.0           x        [0]\n",
                        "1   integer    0.0    3.0           x        [1]\n",
                        "2   integer    0.0    3.0           x        [2]\n",
                        "3   integer    0.0    2.0  ommx.slack        [0]\n"
                    ]
                }
            ],
            "source": [
                "# 不等式制約へのスラック変数追加例\n",
                "from ommx.v1 import Instance, DecisionVariable\n",
                "\n",
                "# 不等式制約 x0 + 2*x1 <= 4 を持つ問題\n",
                "x = [\n",
                "    DecisionVariable.integer(i, lower=0, upper=3, name=\"x\", subscripts=[i])\n",
                "    for i in range(3)\n",
                "]\n",
                "instance = Instance.from_components(\n",
                "    decision_variables=x,\n",
                "    objective=sum(x),\n",
                "    constraints=[\n",
                "        (x[0] + 2*x[1] <= 4).set_id(0)   # 制約IDを設定\n",
                "    ],\n",
                "    sense=Instance.MAXIMIZE,\n",
                ")\n",
                "print(\"変換前の制約:\", instance.get_constraints()[0])\n",
                "\n",
                "# 不等式制約にスラック変数を追加\n",
                "b = instance.add_integer_slack_to_inequality(\n",
                "    constraint_id=0,\n",
                "    slack_upper_bound=2\n",
                ")\n",
                "print(f\"\\nスラック変数の係数: {b}\")\n",
                "print(\"変換後の制約:\", instance.get_constraints()[0])\n",
                "\n",
                "# 追加されたスラック変数を確認\n",
                "print(\"\\n決定変数一覧:\")\n",
                "print(instance.decision_variables[[\"kind\", \"lower\", \"upper\", \"name\", \"subscripts\"]])"
            ]
        },
        {
            "cell_type": "markdown",
            "metadata": {},
            "source": [
                "### QUBO変換 Driver API `to_qubo` の追加 ([#370](https://github.com/Jij-Inc/ommx/pull/370))\n",
                "\n",
                "`ommx.v1.Instance` からQUBOへの変換に必要な一連の操作（整数変数変換、不等式制約変換、ペナルティ項追加など）をまとめて実行する Driver API `to_qubo` が追加されました。これにより、ユーザーは複雑な変換ステップを意識することなく、簡単にQUBOを得ることができます。\n",
                "\n",
                "`to_qubo` 関数は、内部で以下のステップを適切な順序で実行します:\n",
                "1. 整数変数を含む制約や目的関数をバイナリ変数表現に変換 (Log Encodingなど)\n",
                "2. 不等式制約を等式制約に変換 (デフォルト) または Penalty Method 用の形式に変換\n",
                "3. 等式制約や目的関数をQUBO形式に変換\n",
                "4. QUBOの解を元の問題の変数にマッピングするための `interpret` 関数を生成\n",
                "\n",
                "なお `instance.to_qubo` として呼び出した時 `instance` は変更されることに注意してください。"
            ]
        },
        {
            "cell_type": "code",
            "execution_count": 4,
            "metadata": {},
            "outputs": [
                {
                    "name": "stdout",
                    "output_type": "stream",
                    "text": [
                        "元の問題:\n",
                        "目的関数: Function(x0 + x1)\n",
                        "制約: Constraint(Function(x0 + 2*x1 - 3) <= 0)\n",
                        "変数: ['x[0]', 'x[1]']\n",
                        "\n",
                        "QUBO変換後:\n",
                        "オフセット: 9.0\n",
                        "QUBOの項数: 21\n",
                        "\n",
                        "QUBOの一部の項:\n",
                        "Q[3,3] = -6.0\n",
                        "Q[3,4] = 2.0\n",
                        "Q[3,5] = 4.0\n",
                        "Q[3,6] = 4.0\n",
                        "Q[3,7] = 2.0\n",
                        "\n",
                        "変換後の変数:\n",
                        "       kind             name subscripts\n",
                        "id                                     \n",
                        "0   integer                x        [0]\n",
                        "1   integer                x        [1]\n",
                        "2   integer       ommx.slack        [0]\n",
                        "3    binary  ommx.log_encode     [0, 0]\n",
                        "4    binary  ommx.log_encode     [0, 1]\n",
                        "5    binary  ommx.log_encode     [1, 0]\n",
                        "6    binary  ommx.log_encode     [1, 1]\n",
                        "7    binary  ommx.log_encode     [2, 0]\n",
                        "8    binary  ommx.log_encode     [2, 1]\n",
                        "\n",
                        "変換後の制約:\n",
                        "残った制約: []\n",
                        "削除された制約: [RemovedConstraint(Function(x3 + x4 + 2*x5 + 2*x6 + x7 + 2*x8 - 3) == 0, reason=uniform_penalty_method)]\n"
                    ]
                }
            ],
            "source": [
                "# to_qubo Driver API の使用例\n",
                "from ommx.v1 import Instance, DecisionVariable\n",
                "\n",
                "# 整数変数と不等式制約を含む問題\n",
                "x = [DecisionVariable.integer(i, lower=0, upper=2, name=\"x\", subscripts=[i]) for i in range(2)]\n",
                "instance = Instance.from_components(\n",
                "    decision_variables=x,\n",
                "    objective=sum(x),\n",
                "    constraints=[(x[0] + 2*x[1] <= 3).set_id(0)],\n",
                "    sense=Instance.MAXIMIZE,\n",
                ")\n",
                "\n",
                "print(\"元の問題:\")\n",
                "print(f\"目的関数: {instance.objective}\")\n",
                "print(f\"制約: {instance.get_constraints()[0]}\")\n",
                "print(f\"変数: {[f'{v.name}{v.subscripts}' for v in instance.get_decision_variables()]}\")\n",
                "\n",
                "# QUBOに変換\n",
                "qubo, offset = instance.to_qubo()\n",
                "\n",
                "print(\"\\nQUBO変換後:\")\n",
                "print(f\"オフセット: {offset}\")\n",
                "print(f\"QUBOの項数: {len(qubo)}\")\n",
                "\n",
                "# 項数が多いため一部のみ表示\n",
                "print(\"\\nQUBOの一部の項:\")\n",
                "items = list(qubo.items())[:5]\n",
                "for (i, j), coeff in items:\n",
                "    print(f\"Q[{i},{j}] = {coeff}\")\n",
                "\n",
                "# 変換後の変数を確認\n",
                "print(\"\\n変換後の変数:\")\n",
                "print(instance.decision_variables[[\"kind\", \"name\", \"subscripts\"]])\n",
                "\n",
                "# 制約が削除されたことを確認\n",
                "print(\"\\n変換後の制約:\")\n",
                "print(f\"残った制約: {instance.get_constraints()}\")\n",
                "print(f\"削除された制約: {instance.get_removed_constraints()}\")"
            ]
        },
        {
            "cell_type": "markdown",
            "metadata": {},
            "source": [
                "\n",
                "## 🐛 バグ修正\n",
                "\n",
                "## 🛠️ その他の変更・改善\n",
                "\n",
                "## 💬 フィードバック\n",
                "これらの新機能により、ommxはより広範な最適化問題をQUBO形式に変換し、様々なQUBOソルバーで解くための強力なツールとなります。ぜひ `ommx` 1.9.0 をお試しください！\n",
                "\n",
                "フィードバックやバグ報告は、[GitHub Issues](https://github.com/Jij-Inc/ommx/issues) までお寄せください。"
            ]
        }
    ],
    "metadata": {
        "kernelspec": {
            "display_name": ".venv",
            "language": "python",
            "name": "python3"
        },
        "language_info": {
            "codemirror_mode": {
                "name": "ipython",
                "version": 3
            },
            "file_extension": ".py",
            "mimetype": "text/x-python",
            "name": "python",
            "nbconvert_exporter": "python",
            "pygments_lexer": "ipython3",
            "version": "3.9.21"
        }
    },
    "nbformat": 4,
    "nbformat_minor": 4
}
