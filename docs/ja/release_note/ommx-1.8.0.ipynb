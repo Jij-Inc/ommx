{
 "cells": [
  {
   "cell_type": "markdown",
   "id": "ab2afcec-e78a-4d4e-8215-91d777e9e5fb",
   "metadata": {},
   "source": [
    "# OMMX Python SDK 1.8.0\n",
    "\n",
    "[![Static Badge](https://img.shields.io/badge/GitHub_Release-Python_SDK_1.8.0-blue?logo=github)](https://github.com/Jij-Inc/ommx/releases/tag/python-1.8.0)\n",
    "\n",
    "個々の変更についてはGitHub Releaseを参照してください。\n",
    "\n",
    "⚠️ `SolverAdapter`の追加による破壊的変更が含まれています。\n",
    "\n",
    "Summary\n",
    "--------\n",
    "- ソルバー用の共通インターフェイスとして、新しく`SolverAdapter`基底クラスが追加されました base class to serve as a common interface for adapters to different solvers.\n",
    "- `ommx-python-mip-adapter`と`ommx-pyscipopt-adapter`は　[Adapter実装ガイド](https://jij-inc.github.io/ommx/ja/ommx_ecosystem/solver_adapter_guide.html)に基づいて、`SolverAdapter`を使うように更新されました。\n",
    "  - ⚠️　破壊的変更です。このadapterを使用しているコードは更新が必要となります。\n",
    "  - 他のadapterは今後更新予定"
   ]
  },
  {
   "cell_type": "markdown",
   "id": "6a0020e4-ae57-4676-997a-05a3128150ab",
   "metadata": {},
   "source": [
    "# Solver Adapter \n",
    "\n",
    "`SolverAdapter`は各adapterのAPIの一貫性を高めるために追加された抽象基底クラスです。`ommx-python-mip-adapter`と`ommx-pyscipopt-adapter`は`SolverAdapter`を使うように修正されました。\n",
    "\n",
    "新しいAdapterインターフェイスで簡単な解き方の例を見てみましょう。"
   ]
  },
  {
   "cell_type": "code",
   "execution_count": null,
   "id": "370dabc4-8650-4a96-9223-46005c9b93c7",
   "metadata": {},
   "outputs": [
    {
     "data": {
      "text/plain": [
       "42.0"
      ]
     },
     "execution_count": 1,
     "metadata": {},
     "output_type": "execute_result"
    }
   ],
   "source": [
    "from ommx.v1 import Instance, DecisionVariable\n",
    "from ommx_pyscipopt_adapter import OMMXPySCIPOptAdapter\n",
    "\n",
    "p = [10, 13, 18, 32, 7, 15]\n",
    "w = [11, 15, 20, 35, 10, 33]\n",
    "x = [DecisionVariable.binary(i) for i in range(6)]\n",
    "instance = Instance.from_components(\n",
    "    decision_variables=x,\n",
    "    objective=sum(p[i] * x[i] for i in range(6)),\n",
    "    constraints=[sum(w[i] * x[i] for i in range(6)) <= 47],\n",
    "    sense=Instance.MAXIMIZE,\n",
    ")\n",
    "\n",
    "solution = OMMXPySCIPOptAdapter.solve(instance)\n",
    "solution.objective"
   ]
  },
  {
   "cell_type": "markdown",
   "id": "c127f380-1f40-4c0b-a162-ad15f8fa4e27",
   "metadata": {},
   "source": [
    "このリリースによって、`OMMXPythonMIPAdapter`クラスを使った場合でも上記と同じ書き方ができるようになりました。\n",
    "\n",
    "以前の`instance_to_model()`を使ったコードを書き換える場合は, Adapterのインスタンスを作って`solver_input`を利用できます。 ソルバーのパラメータ変更などして、手動でを最適化を行ってから、`decode()`でOMMXの`Solution`を取得できます。"
   ]
  },
  {
   "cell_type": "code",
   "execution_count": null,
   "id": "b39c06a8-4640-42dc-a624-d667eb7751e5",
   "metadata": {},
   "outputs": [
    {
     "data": {
      "text/plain": [
       "42.0"
      ]
     },
     "execution_count": 2,
     "metadata": {},
     "output_type": "execute_result"
    }
   ],
   "source": [
    "adapter = OMMXPySCIPOptAdapter(instance)\n",
    "model = adapter.solver_input # OMMXPythonMIPAdapter場合、これは`pyscipopt.Model`です\n",
    "# パラメータの変更\n",
    "model.optimize() \n",
    "solution = adapter.decode(model)\n",
    "solution.objective"
   ]
  }
 ],
 "metadata": {
  "kernelspec": {
   "display_name": "Python 3 (ipykernel)",
   "language": "python",
   "name": "python3"
  },
  "language_info": {
   "codemirror_mode": {
    "name": "ipython",
    "version": 3
   },
   "file_extension": ".py",
   "mimetype": "text/x-python",
   "name": "python",
   "nbconvert_exporter": "python",
   "pygments_lexer": "ipython3",
   "version": "3.12.2"
  }
 },
 "nbformat": 4,
 "nbformat_minor": 5
}
