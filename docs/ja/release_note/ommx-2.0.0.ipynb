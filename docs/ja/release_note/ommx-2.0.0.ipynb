{
 "cells": [
  {
   "cell_type": "markdown",
   "id": "ad44e887",
   "metadata": {},
   "source": [
    "# OMMX Python SDK 2.0.0\n",
    "\n",
    "2024/7/10の [OMMX Python SDK 1.0.0](https://github.com/Jij-Inc/ommx/releases/tag/python-1.0.0) リリースから約1年ぶりのメジャーバージョンのリリースです。このバージョンでは大幅な性能向上に加え、破壊的な変更を含むAPIの改善、さらに新がが機能の追加が行われています。\n",
    "\n",
    "```{note}\n",
    "OMMXではSDKのバージョンとデータフォーマットのバージョンは独立しています。新しいSDKでも既存のデータは全て読み込むことができます。\n",
    "```"
   ]
  },
  {
   "cell_type": "markdown",
   "id": "edc741f8",
   "metadata": {},
   "source": [
    "## 性能向上\n",
    "\n",
    "OMMX Python SDKには従来より数理モデルを作成するための簡易的なモデラーが含まれていますが、これらは元々デバッグ用の機能であったため性能があまりよくありませんでした。"
   ]
  },
  {
   "cell_type": "markdown",
   "id": "969cd071",
   "metadata": {},
   "source": []
  }
 ],
 "metadata": {
  "language_info": {
   "name": "python"
  }
 },
 "nbformat": 4,
 "nbformat_minor": 5
}
