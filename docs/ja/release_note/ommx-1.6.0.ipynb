{
 "cells": [
  {
   "cell_type": "markdown",
   "metadata": {},
   "source": [
    "# OMMX Python SDK 1.6.0\n",
    "\n",
    "[![Static Badge](https://img.shields.io/badge/GitHub_Release-Python_SDK_1.6.0-blue?logo=github)](https://github.com/Jij-Inc/ommx/releases/tag/python-1.6.0)\n",
    "\n",
    "概要\n",
    "--------\n",
    "\n",
    "- OMMXはQUBOをサポートし始めました。\n",
    "  - 新しいアダプターパッケージ [ommx-openjij-adapter](https://pypi.org/project/ommx-openjij-adapter/) が追加されました。\n",
    "  - 新しい [チュートリアルページ](https://jij-inc.github.io/ommx/en/tutorial/tsp_sampling_with_openjij_adapter.html) をご覧ください。\n",
    "  - `ommx.v1.Instance` をQUBO形式に変換するためのいくつかのAPIが追加されました。上記のチュートリアルをご覧ください。\n",
    "- Python 3.8のサポートはEOLのため終了しました。"
   ]
  }
 ],
 "metadata": {
  "kernelspec": {
   "display_name": ".venv",
   "language": "python",
   "name": "python3"
  },
  "language_info": {
   "codemirror_mode": {
    "name": "ipython",
    "version": 3
   },
   "file_extension": ".py",
   "mimetype": "text/x-python",
   "name": "python",
   "nbconvert_exporter": "python",
   "pygments_lexer": "ipython3",
   "version": "3.12.8"
  }
 },
 "nbformat": 4,
 "nbformat_minor": 2
}
