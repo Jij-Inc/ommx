{
 "cells": [
  {
   "cell_type": "markdown",
   "metadata": {},
   "source": [
    "OMMX Message Design\n",
    "====================\n",
    "\n",
    "OMMX Messageはソフトウェア間でのデータの交換を行うためのデータ形式です。\n",
    "\n",
    "スキーマの必要性\n",
    "-------------\n",
    "\n"
   ]
  }
 ],
 "metadata": {
  "language_info": {
   "name": "python"
  }
 },
 "nbformat": 4,
 "nbformat_minor": 2
}
