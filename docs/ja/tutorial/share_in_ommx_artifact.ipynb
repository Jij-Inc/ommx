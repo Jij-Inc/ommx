{
 "cells": [
  {
   "cell_type": "markdown",
   "metadata": {},
   "source": [
    "# 様々なデータをOMMX Artifact形式で共有する\n",
    "\n",
    "数理最適化のワークフローでは、多様なデータの生成と管理が不可欠です。これらのデータを適切に管理することで、計算結果の再現性が確保され、チーム内での効率的な共有が可能になります。\n",
    "\n",
    "OMMXは、これらの多様なデータを効率的かつシンプルに管理する仕組みを提供します。具体的には、OMMX Artifactというデータ形式を定義し、最適化計算に関連する多様なデータの保存・管理・共有をOMMX SDKによって可能にします。"
   ]
  },
  {
   "cell_type": "markdown",
   "metadata": {},
   "source": [
    "## 事前準備：共有するデータ"
   ]
  },
  {
   "cell_type": "code",
   "execution_count": 1,
   "metadata": {
    "tags": [
     "hide-input"
    ]
   },
   "outputs": [
    {
     "name": "stderr",
     "output_type": "stream",
     "text": [
      "/Users/termoshtt/github.com/Jij-Inc/ommx/python/ommx-pyscipopt-adapter/ommx_pyscipopt_adapter/adapter.py:30: UserWarning: linked SCIP 9.02 is not recommended for this version of PySCIPOpt - use version 9.2.1\n",
      "  self.model = pyscipopt.Model()\n"
     ]
    }
   ],
   "source": [
    "from ommx.v1 import Instance, DecisionVariable, Constraint\n",
    "from ommx_pyscipopt_adapter.adapter import OMMXPySCIPOptAdapter\n",
    "import pandas as pd\n",
    "\n",
    "# 0-1ナップサック問題のデータを用意する\n",
    "data = {\n",
    "    # 各アイテムの価値\n",
    "    \"v\": [10, 13, 18, 31, 7, 15],\n",
    "    # 各アイテムの重さ\n",
    "    \"w\": [11, 15, 20, 35, 10, 33],\n",
    "    # ナップサックの耐荷重\n",
    "    \"W\": 47,\n",
    "    # アイテムの総数\n",
    "    \"N\": 6,\n",
    "}\n",
    "\n",
    "# 決定変数を定義する\n",
    "x = [\n",
    "    # バイナリ変数 x_i を定義する\n",
    "    DecisionVariable.binary(\n",
    "        # 決定変数のIDを指定する\n",
    "        id=i,\n",
    "        # 決定変数の名前を指定する\n",
    "        name=\"x\",\n",
    "        # 決定変数の添え字を指定する\n",
    "        subscripts=[i],\n",
    "    )\n",
    "    # バイナリ変数を num_items 個だけ用意する\n",
    "    for i in range(data[\"N\"])\n",
    "]\n",
    "\n",
    "# 目的関数を定義する\n",
    "objective = sum(data[\"v\"][i] * x[i] for i in range(data[\"N\"]))\n",
    "\n",
    "# 制約条件を定義する\n",
    "constraint = Constraint(\n",
    "    # 制約条件の名前\n",
    "    name = \"重量制限\",\n",
    "    # 制約式の左辺を指定する\n",
    "    function=sum(data[\"w\"][i] * x[i] for i in range(data[\"N\"])) - data[\"W\"],\n",
    "    # 等式制約 (==0) or 不等式制約 (<=0) を指定する\n",
    "    equality=Constraint.LESS_THAN_OR_EQUAL_TO_ZERO,\n",
    ")\n",
    "\n",
    "# インスタンスを作成する\n",
    "instance = Instance.from_components(\n",
    "    # インスタンスに含まれる全ての決定変数を登録する\n",
    "    decision_variables=x,\n",
    "    # 目的関数を登録する\n",
    "    objective=objective,\n",
    "    # 全ての制約条件を登録する\n",
    "    constraints=[constraint],\n",
    "    # 最大化問題であることを指定する\n",
    "    sense=Instance.MAXIMIZE,\n",
    ")\n",
    "\n",
    "# SCIPで解く\n",
    "solution = OMMXPySCIPOptAdapter.solve(instance)\n",
    "\n",
    "# 最適解の分析をする\n",
    "df_vars = solution.decision_variables\n",
    "df = pd.DataFrame.from_dict(\n",
    "    {\n",
    "        \"アイテムの番号\": df_vars.index,\n",
    "        \"ナップサックに入れるか？\": df_vars[\"value\"].apply(lambda x: \"入れる\" if x == 1.0 else \"入れない\"),\n",
    "    }\n",
    ")"
   ]
  },
  {
   "cell_type": "code",
   "execution_count": 2,
   "metadata": {
    "tags": [
     "remove-cell"
    ]
   },
   "outputs": [
    {
     "data": {
      "application/papermill.record/text/plain": "Instance(raw=decision_variables {\n  kind: KIND_BINARY\n  bound {\n    upper: 1\n  }\n  name: \"x\"\n  subscripts: 0\n}\ndecision_variables {\n  id: 1\n  kind: KIND_BINARY\n  bound {\n    upper: 1\n  }\n  name: \"x\"\n  subscripts: 1\n}\ndecision_variables {\n  id: 2\n  kind: KIND_BINARY\n  bound {\n    upper: 1\n  }\n  name: \"x\"\n  subscripts: 2\n}\ndecision_variables {\n  id: 3\n  kind: KIND_BINARY\n  bound {\n    upper: 1\n  }\n  name: \"x\"\n  subscripts: 3\n}\ndecision_variables {\n  id: 4\n  kind: KIND_BINARY\n  bound {\n    upper: 1\n  }\n  name: \"x\"\n  subscripts: 4\n}\ndecision_variables {\n  id: 5\n  kind: KIND_BINARY\n  bound {\n    upper: 1\n  }\n  name: \"x\"\n  subscripts: 5\n}\nobjective {\n  linear {\n    terms {\n      coefficient: 10\n    }\n    terms {\n      id: 1\n      coefficient: 13\n    }\n    terms {\n      id: 2\n      coefficient: 18\n    }\n    terms {\n      id: 3\n      coefficient: 31\n    }\n    terms {\n      id: 4\n      coefficient: 7\n    }\n    terms {\n      id: 5\n      coefficient: 15\n    }\n  }\n}\nconstraints {\n  equality: EQUALITY_LESS_THAN_OR_EQUAL_TO_ZERO\n  function {\n    linear {\n      terms {\n        coefficient: 11\n      }\n      terms {\n        id: 1\n        coefficient: 15\n      }\n      terms {\n        id: 2\n        coefficient: 20\n      }\n      terms {\n        id: 3\n        coefficient: 35\n      }\n      terms {\n        id: 4\n        coefficient: 10\n      }\n      terms {\n        id: 5\n        coefficient: 33\n      }\n      constant: -47\n    }\n  }\n  name: \"重量制限\"\n}\nsense: SENSE_MAXIMIZE\n, annotations={})"
     },
     "metadata": {
      "scrapbook": {
       "mime_prefix": "application/papermill.record/",
       "name": "instance"
      }
     },
     "output_type": "display_data"
    },
    {
     "data": {
      "application/papermill.record/text/plain": "Solution(raw=state {\n  entries {\n    key: 0\n    value: 1\n  }\n  entries {\n    key: 1\n    value: 1\n  }\n  entries {\n    key: 2\n    value: 1\n  }\n  entries {\n    key: 3\n    value: 0\n  }\n  entries {\n    key: 4\n    value: 0\n  }\n  entries {\n    key: 5\n    value: 0\n  }\n}\nobjective: 41\ndecision_variables {\n  kind: KIND_BINARY\n  bound {\n    upper: 1\n  }\n  name: \"x\"\n  subscripts: 0\n}\ndecision_variables {\n  id: 1\n  kind: KIND_BINARY\n  bound {\n    upper: 1\n  }\n  name: \"x\"\n  subscripts: 1\n}\ndecision_variables {\n  id: 2\n  kind: KIND_BINARY\n  bound {\n    upper: 1\n  }\n  name: \"x\"\n  subscripts: 2\n}\ndecision_variables {\n  id: 3\n  kind: KIND_BINARY\n  bound {\n    upper: 1\n  }\n  name: \"x\"\n  subscripts: 3\n}\ndecision_variables {\n  id: 4\n  kind: KIND_BINARY\n  bound {\n    upper: 1\n  }\n  name: \"x\"\n  subscripts: 4\n}\ndecision_variables {\n  id: 5\n  kind: KIND_BINARY\n  bound {\n    upper: 1\n  }\n  name: \"x\"\n  subscripts: 5\n}\nevaluated_constraints {\n  equality: EQUALITY_LESS_THAN_OR_EQUAL_TO_ZERO\n  evaluated_value: -1\n  used_decision_variable_ids: 0\n  used_decision_variable_ids: 1\n  used_decision_variable_ids: 2\n  used_decision_variable_ids: 3\n  used_decision_variable_ids: 4\n  used_decision_variable_ids: 5\n  name: \"重量制限\"\n}\nfeasible: true\noptimality: OPTIMALITY_OPTIMAL\nfeasible_relaxed: true\n, annotations={})"
     },
     "metadata": {
      "scrapbook": {
       "mime_prefix": "application/papermill.record/",
       "name": "solution"
      }
     },
     "output_type": "display_data"
    },
    {
     "data": {
      "application/papermill.record/text/plain": "{'v': [10, 13, 18, 31, 7, 15], 'w': [11, 15, 20, 35, 10, 33], 'W': 47, 'N': 6}"
     },
     "metadata": {
      "scrapbook": {
       "mime_prefix": "application/papermill.record/",
       "name": "data"
      }
     },
     "output_type": "display_data"
    },
    {
     "data": {
      "application/papermill.record/text/html": "<div>\n<style scoped>\n    .dataframe tbody tr th:only-of-type {\n        vertical-align: middle;\n    }\n\n    .dataframe tbody tr th {\n        vertical-align: top;\n    }\n\n    .dataframe thead th {\n        text-align: right;\n    }\n</style>\n<table border=\"1\" class=\"dataframe\">\n  <thead>\n    <tr style=\"text-align: right;\">\n      <th></th>\n      <th>アイテムの番号</th>\n      <th>ナップサックに入れるか？</th>\n    </tr>\n    <tr>\n      <th>id</th>\n      <th></th>\n      <th></th>\n    </tr>\n  </thead>\n  <tbody>\n    <tr>\n      <th>0</th>\n      <td>0</td>\n      <td>入れる</td>\n    </tr>\n    <tr>\n      <th>1</th>\n      <td>1</td>\n      <td>入れる</td>\n    </tr>\n    <tr>\n      <th>2</th>\n      <td>2</td>\n      <td>入れる</td>\n    </tr>\n    <tr>\n      <th>3</th>\n      <td>3</td>\n      <td>入れない</td>\n    </tr>\n    <tr>\n      <th>4</th>\n      <td>4</td>\n      <td>入れない</td>\n    </tr>\n    <tr>\n      <th>5</th>\n      <td>5</td>\n      <td>入れない</td>\n    </tr>\n  </tbody>\n</table>\n</div>",
      "application/papermill.record/text/plain": "    アイテムの番号 ナップサックに入れるか？\nid                      \n0         0          入れる\n1         1          入れる\n2         2          入れる\n3         3         入れない\n4         4         入れない\n5         5         入れない"
     },
     "metadata": {
      "scrapbook": {
       "mime_prefix": "application/papermill.record/",
       "name": "df"
      }
     },
     "output_type": "display_data"
    }
   ],
   "source": [
    "from myst_nb import glue\n",
    "\n",
    "glue(\"instance\", instance, display=False)\n",
    "glue(\"solution\", solution, display=False)\n",
    "glue(\"data\", data, display=False)\n",
    "glue(\"df\", df, display=False)"
   ]
  },
  {
   "cell_type": "markdown",
   "metadata": {},
   "source": [
    "```{list-table}\n",
    ":header-rows: 1\n",
    ":widths: 5 30 10\n",
    "\n",
    "* - 変数名\n",
    "  - 説明\n",
    "  - 値\n",
    "* - `instance`\n",
    "  - 0-1ナップサック問題に対応する `ommx.v1.Instance` オブジェクト\n",
    "  - ````{toggle}\n",
    "    ```{glue:} instance\n",
    "    ```\n",
    "    ````\n",
    "* - `solution`\n",
    "  - 0-1ナップサック問題をSCIPで解いた計算結果が格納されている `ommx.v1.Solution` オブジェクト\n",
    "  - ````{toggle}\n",
    "    ```{glue:} solution\n",
    "    ```\n",
    "    ````\n",
    "* - `data`\n",
    "  - 0-1ナップサック問題の入力データ\n",
    "  - ```{glue:} data\n",
    "    ```\n",
    "* - `df`\n",
    "  - 0-1ナップサック問題の最適解表す `pandas.DataFrame` オブジェクト\n",
    "  - {glue:}`df`\n",
    "```"
   ]
  },
  {
   "cell_type": "markdown",
   "metadata": {},
   "source": [
    "## ローカルにOMMX Artfactデータを作成する"
   ]
  },
  {
   "cell_type": "code",
   "execution_count": 3,
   "metadata": {
    "tags": [
     "remove-output"
    ]
   },
   "outputs": [
    {
     "data": {
      "text/plain": [
       "Artifact(_base=ArtifactArchive(_base=<ommx._ommx_rust.ArtifactArchive object at 0x15baa0130>))"
      ]
     },
     "execution_count": 3,
     "metadata": {},
     "output_type": "execute_result"
    }
   ],
   "source": [
    "from ommx.artifact import ArtifactBuilder\n",
    "\n",
    "# OMMX Artifactファイルの名前を指定する\n",
    "filename = \"my_instance.ommx\"\n",
    "\n",
    "# 1. OMMX Artifactファイルを作成するためのビルダーを作成する\n",
    "builder = ArtifactBuilder.new_archive_unnamed(filename)\n",
    "\n",
    "# 2. ArtifactBuilderにデータを追加する\n",
    "# ommx.v1.Instance オブジェクトを追加する\n",
    "builder.add_instance(instance)\n",
    "# ommx.v1.Solution オブジェクトを追加する\n",
    "builder.add_solution(solution)\n",
    "# pandas.DataFrame オブジェクトを追加する\n",
    "builder.add_dataframe(df, title=\"ナップサック問題の最適解\")\n",
    "# JSONに変換可能なオブジェクトを追加する\n",
    "builder.add_json(data, title=\"ナップサック問題のデータ\")\n",
    "\n",
    "# 3. OMMX Artifactファイルを作成する\n",
    "builder.build()"
   ]
  },
  {
   "cell_type": "code",
   "execution_count": 4,
   "metadata": {},
   "outputs": [
    {
     "name": "stdout",
     "output_type": "stream",
     "text": [
      "-rw-r--r--@ 1 termoshtt  staff  11776 Feb 12 14:08 my_instance.ommx\n"
     ]
    }
   ],
   "source": [
    "!ls -l \"my_instance.ommx\""
   ]
  },
  {
   "cell_type": "markdown",
   "metadata": {},
   "source": [
    "## ローカルにあるOMMX Artfactデータを読み取る"
   ]
  },
  {
   "cell_type": "code",
   "execution_count": 5,
   "metadata": {},
   "outputs": [],
   "source": [
    "from ommx.artifact import Artifact\n",
    "\n",
    "# ローカルにあるOMMX Artifactファイルを読み込む\n",
    "artifact = Artifact.load_archive(filename)"
   ]
  },
  {
   "cell_type": "code",
   "execution_count": 6,
   "metadata": {
    "tags": [
     "full-width"
    ]
   },
   "outputs": [
    {
     "data": {
      "text/html": [
       "<div>\n",
       "<style scoped>\n",
       "    .dataframe tbody tr th:only-of-type {\n",
       "        vertical-align: middle;\n",
       "    }\n",
       "\n",
       "    .dataframe tbody tr th {\n",
       "        vertical-align: top;\n",
       "    }\n",
       "\n",
       "    .dataframe thead th {\n",
       "        text-align: right;\n",
       "    }\n",
       "</style>\n",
       "<table border=\"1\" class=\"dataframe\">\n",
       "  <thead>\n",
       "    <tr style=\"text-align: right;\">\n",
       "      <th></th>\n",
       "      <th>mediaType</th>\n",
       "      <th>digest</th>\n",
       "      <th>size</th>\n",
       "      <th>annotations</th>\n",
       "    </tr>\n",
       "  </thead>\n",
       "  <tbody>\n",
       "    <tr>\n",
       "      <th>0</th>\n",
       "      <td>application/org.ommx.v1.instance</td>\n",
       "      <td>sha256:be01b99f8e7a3cafe0f4c83e4ff4cef63ad5d49...</td>\n",
       "      <td>325</td>\n",
       "      <td>{}</td>\n",
       "    </tr>\n",
       "    <tr>\n",
       "      <th>1</th>\n",
       "      <td>application/org.ommx.v1.solution</td>\n",
       "      <td>sha256:e7320d946c5f6a98578546319e707a31f216cd5...</td>\n",
       "      <td>266</td>\n",
       "      <td>{}</td>\n",
       "    </tr>\n",
       "    <tr>\n",
       "      <th>2</th>\n",
       "      <td>application/vnd.apache.parquet</td>\n",
       "      <td>sha256:71ba1b1008c7f26a157efa842c7e3a6e49a73c6...</td>\n",
       "      <td>3157</td>\n",
       "      <td>{'org.ommx.user.title': 'ナップサック問題の最適解'}</td>\n",
       "    </tr>\n",
       "    <tr>\n",
       "      <th>3</th>\n",
       "      <td>application/json</td>\n",
       "      <td>sha256:6cbfaaa7f97e84d8b46da95b81cf4d5158df3a9...</td>\n",
       "      <td>78</td>\n",
       "      <td>{'org.ommx.user.title': 'ナップサック問題のデータ'}</td>\n",
       "    </tr>\n",
       "  </tbody>\n",
       "</table>\n",
       "</div>"
      ],
      "text/plain": [
       "                          mediaType  \\\n",
       "0  application/org.ommx.v1.instance   \n",
       "1  application/org.ommx.v1.solution   \n",
       "2    application/vnd.apache.parquet   \n",
       "3                  application/json   \n",
       "\n",
       "                                              digest  size  \\\n",
       "0  sha256:be01b99f8e7a3cafe0f4c83e4ff4cef63ad5d49...   325   \n",
       "1  sha256:e7320d946c5f6a98578546319e707a31f216cd5...   266   \n",
       "2  sha256:71ba1b1008c7f26a157efa842c7e3a6e49a73c6...  3157   \n",
       "3  sha256:6cbfaaa7f97e84d8b46da95b81cf4d5158df3a9...    78   \n",
       "\n",
       "                               annotations  \n",
       "0                                       {}  \n",
       "1                                       {}  \n",
       "2  {'org.ommx.user.title': 'ナップサック問題の最適解'}  \n",
       "3  {'org.ommx.user.title': 'ナップサック問題のデータ'}  "
      ]
     },
     "execution_count": 6,
     "metadata": {},
     "output_type": "execute_result"
    }
   ],
   "source": [
    "import pandas as pd\n",
    "\n",
    "# OMMX Artifactファイルに含まれる全てのデータをpandasで表示する\n",
    "pd.DataFrame(desc.to_dict() for desc in artifact.layers)"
   ]
  },
  {
   "cell_type": "code",
   "execution_count": 7,
   "metadata": {
    "tags": [
     "remove-cell"
    ]
   },
   "outputs": [],
   "source": [
    "# Remove the created OMMX Artifact file to clean up\n",
    "!rm my_instance.ommx"
   ]
  }
 ],
 "metadata": {
  "kernelspec": {
   "display_name": ".venv",
   "language": "python",
   "name": "python3"
  },
  "language_info": {
   "codemirror_mode": {
    "name": "ipython",
    "version": 3
   },
   "file_extension": ".py",
   "mimetype": "text/x-python",
   "name": "python",
   "nbconvert_exporter": "python",
   "pygments_lexer": "ipython3",
   "version": "3.12.8"
  }
 },
 "nbformat": 4,
 "nbformat_minor": 2
}
