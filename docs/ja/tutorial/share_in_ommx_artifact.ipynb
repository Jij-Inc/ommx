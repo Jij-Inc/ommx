{
 "cells": [
  {
   "cell_type": "markdown",
   "metadata": {},
   "source": [
    "# 様々なデータをOMMX Artifact形式で共有する\n",
    "\n",
    "数理最適化のワークフローでは、多様なデータの生成と管理が不可欠です。これらのデータを適切に管理することで、計算結果の再現性が確保され、チーム内での効率的な共有が可能になります。\n",
    "\n",
    "OMMXは、これらの多様なデータを効率的かつシンプルに管理する仕組みを提供します。具体的には、OMMX Artifactというデータ形式を定義し、最適化計算に関連する多様なデータの保存・管理・共有をOMMX SDKによって可能にします。"
   ]
  },
  {
   "cell_type": "markdown",
   "metadata": {},
   "source": [
    "## 事前準備：共有するデータ\n",
    "\n",
    "まず共有するべきデータを用意しましょう。ナップザック問題を表す `ommx.v1.Instance` を作成し、SCIPによる最適化計算を行います。さらに最適化計算に対する分析結果も共有します。今回はこれらの処理の詳細は本題から離れるので省略します。"
   ]
  },
  {
   "cell_type": "code",
   "execution_count": 1,
   "metadata": {
    "tags": [
     "hide-input"
    ]
   },
   "outputs": [],
   "source": [
    "from ommx.v1 import Instance, DecisionVariable, Constraint\n",
    "from ommx_pyscipopt_adapter.adapter import OMMXPySCIPOptAdapter\n",
    "import pandas as pd\n",
    "\n",
    "# 0-1ナップサック問題のデータを用意する\n",
    "data = {\n",
    "    # 各アイテムの価値\n",
    "    \"v\": [10, 13, 18, 31, 7, 15],\n",
    "    # 各アイテムの重さ\n",
    "    \"w\": [11, 15, 20, 35, 10, 33],\n",
    "    # ナップサックの耐荷重\n",
    "    \"W\": 47,\n",
    "    # アイテムの総数\n",
    "    \"N\": 6,\n",
    "}\n",
    "\n",
    "# 決定変数を定義する\n",
    "x = [\n",
    "    # バイナリ変数 x_i を定義する\n",
    "    DecisionVariable.binary(\n",
    "        # 決定変数のIDを指定する\n",
    "        id=i,\n",
    "        # 決定変数の名前を指定する\n",
    "        name=\"x\",\n",
    "        # 決定変数の添え字を指定する\n",
    "        subscripts=[i],\n",
    "    )\n",
    "    # バイナリ変数を num_items 個だけ用意する\n",
    "    for i in range(data[\"N\"])\n",
    "]\n",
    "\n",
    "# 目的関数を定義する\n",
    "objective = sum(data[\"v\"][i] * x[i] for i in range(data[\"N\"]))\n",
    "\n",
    "# 制約条件を定義する\n",
    "constraint = Constraint(\n",
    "    # 制約条件の名前\n",
    "    name = \"重量制限\",\n",
    "    # 制約式の左辺を指定する\n",
    "    function=sum(data[\"w\"][i] * x[i] for i in range(data[\"N\"])) - data[\"W\"],\n",
    "    # 等式制約 (==0) or 不等式制約 (<=0) を指定する\n",
    "    equality=Constraint.LESS_THAN_OR_EQUAL_TO_ZERO,\n",
    ")\n",
    "\n",
    "# インスタンスを作成する\n",
    "instance = Instance.from_components(\n",
    "    # インスタンスに含まれる全ての決定変数を登録する\n",
    "    decision_variables=x,\n",
    "    # 目的関数を登録する\n",
    "    objective=objective,\n",
    "    # 全ての制約条件を登録する\n",
    "    constraints=[constraint],\n",
    "    # 最大化問題であることを指定する\n",
    "    sense=Instance.MAXIMIZE,\n",
    ")\n",
    "\n",
    "# SCIPで解く\n",
    "solution = OMMXPySCIPOptAdapter.solve(instance)\n",
    "\n",
    "# 最適解の分析をする\n",
    "df_vars = solution.decision_variables\n",
    "df = pd.DataFrame.from_dict(\n",
    "    {\n",
    "        \"アイテムの番号\": df_vars.index,\n",
    "        \"ナップサックに入れるか？\": df_vars[\"value\"].apply(lambda x: \"入れる\" if x == 1.0 else \"入れない\"),\n",
    "    }\n",
    ")"
   ]
  },
  {
   "cell_type": "code",
   "execution_count": 2,
   "metadata": {
    "tags": [
     "remove-cell"
    ]
   },
   "outputs": [
    {
     "data": {
      "application/papermill.record/text/plain": "Instance(raw=decision_variables {\n  kind: KIND_BINARY\n  bound {\n    upper: 1\n  }\n  name: \"x\"\n  subscripts: 0\n}\ndecision_variables {\n  id: 1\n  kind: KIND_BINARY\n  bound {\n    upper: 1\n  }\n  name: \"x\"\n  subscripts: 1\n}\ndecision_variables {\n  id: 2\n  kind: KIND_BINARY\n  bound {\n    upper: 1\n  }\n  name: \"x\"\n  subscripts: 2\n}\ndecision_variables {\n  id: 3\n  kind: KIND_BINARY\n  bound {\n    upper: 1\n  }\n  name: \"x\"\n  subscripts: 3\n}\ndecision_variables {\n  id: 4\n  kind: KIND_BINARY\n  bound {\n    upper: 1\n  }\n  name: \"x\"\n  subscripts: 4\n}\ndecision_variables {\n  id: 5\n  kind: KIND_BINARY\n  bound {\n    upper: 1\n  }\n  name: \"x\"\n  subscripts: 5\n}\nobjective {\n  linear {\n    terms {\n      coefficient: 10\n    }\n    terms {\n      id: 1\n      coefficient: 13\n    }\n    terms {\n      id: 2\n      coefficient: 18\n    }\n    terms {\n      id: 3\n      coefficient: 31\n    }\n    terms {\n      id: 4\n      coefficient: 7\n    }\n    terms {\n      id: 5\n      coefficient: 15\n    }\n  }\n}\nconstraints {\n  equality: EQUALITY_LESS_THAN_OR_EQUAL_TO_ZERO\n  function {\n    linear {\n      terms {\n        coefficient: 11\n      }\n      terms {\n        id: 1\n        coefficient: 15\n      }\n      terms {\n        id: 2\n        coefficient: 20\n      }\n      terms {\n        id: 3\n        coefficient: 35\n      }\n      terms {\n        id: 4\n        coefficient: 10\n      }\n      terms {\n        id: 5\n        coefficient: 33\n      }\n      constant: -47\n    }\n  }\n  name: \"重量制限\"\n}\nsense: SENSE_MAXIMIZE\n, annotations={})"
     },
     "metadata": {
      "scrapbook": {
       "mime_prefix": "application/papermill.record/",
       "name": "instance"
      }
     },
     "output_type": "display_data"
    },
    {
     "data": {
      "application/papermill.record/text/plain": "Solution(raw=state {\n  entries {\n    key: 0\n    value: 1\n  }\n  entries {\n    key: 1\n    value: 1\n  }\n  entries {\n    key: 2\n    value: 1\n  }\n  entries {\n    key: 3\n    value: 0\n  }\n  entries {\n    key: 4\n    value: 0\n  }\n  entries {\n    key: 5\n    value: 0\n  }\n}\nobjective: 41\ndecision_variables {\n  kind: KIND_BINARY\n  bound {\n    upper: 1\n  }\n  name: \"x\"\n  subscripts: 0\n}\ndecision_variables {\n  id: 1\n  kind: KIND_BINARY\n  bound {\n    upper: 1\n  }\n  name: \"x\"\n  subscripts: 1\n}\ndecision_variables {\n  id: 2\n  kind: KIND_BINARY\n  bound {\n    upper: 1\n  }\n  name: \"x\"\n  subscripts: 2\n}\ndecision_variables {\n  id: 3\n  kind: KIND_BINARY\n  bound {\n    upper: 1\n  }\n  name: \"x\"\n  subscripts: 3\n}\ndecision_variables {\n  id: 4\n  kind: KIND_BINARY\n  bound {\n    upper: 1\n  }\n  name: \"x\"\n  subscripts: 4\n}\ndecision_variables {\n  id: 5\n  kind: KIND_BINARY\n  bound {\n    upper: 1\n  }\n  name: \"x\"\n  subscripts: 5\n}\nevaluated_constraints {\n  equality: EQUALITY_LESS_THAN_OR_EQUAL_TO_ZERO\n  evaluated_value: -1\n  used_decision_variable_ids: 0\n  used_decision_variable_ids: 1\n  used_decision_variable_ids: 2\n  used_decision_variable_ids: 3\n  used_decision_variable_ids: 4\n  used_decision_variable_ids: 5\n  name: \"重量制限\"\n}\nfeasible: true\noptimality: OPTIMALITY_OPTIMAL\nfeasible_relaxed: true\n, annotations={})"
     },
     "metadata": {
      "scrapbook": {
       "mime_prefix": "application/papermill.record/",
       "name": "solution"
      }
     },
     "output_type": "display_data"
    },
    {
     "data": {
      "application/papermill.record/text/plain": "{'v': [10, 13, 18, 31, 7, 15], 'w': [11, 15, 20, 35, 10, 33], 'W': 47, 'N': 6}"
     },
     "metadata": {
      "scrapbook": {
       "mime_prefix": "application/papermill.record/",
       "name": "data"
      }
     },
     "output_type": "display_data"
    },
    {
     "data": {
      "application/papermill.record/text/html": "<div>\n<style scoped>\n    .dataframe tbody tr th:only-of-type {\n        vertical-align: middle;\n    }\n\n    .dataframe tbody tr th {\n        vertical-align: top;\n    }\n\n    .dataframe thead th {\n        text-align: right;\n    }\n</style>\n<table border=\"1\" class=\"dataframe\">\n  <thead>\n    <tr style=\"text-align: right;\">\n      <th></th>\n      <th>アイテムの番号</th>\n      <th>ナップサックに入れるか？</th>\n    </tr>\n    <tr>\n      <th>id</th>\n      <th></th>\n      <th></th>\n    </tr>\n  </thead>\n  <tbody>\n    <tr>\n      <th>0</th>\n      <td>0</td>\n      <td>入れる</td>\n    </tr>\n    <tr>\n      <th>1</th>\n      <td>1</td>\n      <td>入れる</td>\n    </tr>\n    <tr>\n      <th>2</th>\n      <td>2</td>\n      <td>入れる</td>\n    </tr>\n    <tr>\n      <th>3</th>\n      <td>3</td>\n      <td>入れない</td>\n    </tr>\n    <tr>\n      <th>4</th>\n      <td>4</td>\n      <td>入れない</td>\n    </tr>\n    <tr>\n      <th>5</th>\n      <td>5</td>\n      <td>入れない</td>\n    </tr>\n  </tbody>\n</table>\n</div>",
      "application/papermill.record/text/plain": "    アイテムの番号 ナップサックに入れるか？\nid                      \n0         0          入れる\n1         1          入れる\n2         2          入れる\n3         3         入れない\n4         4         入れない\n5         5         入れない"
     },
     "metadata": {
      "scrapbook": {
       "mime_prefix": "application/papermill.record/",
       "name": "df"
      }
     },
     "output_type": "display_data"
    }
   ],
   "source": [
    "from myst_nb import glue\n",
    "\n",
    "glue(\"instance\", instance, display=False)\n",
    "glue(\"solution\", solution, display=False)\n",
    "glue(\"data\", data, display=False)\n",
    "glue(\"df\", df, display=False)"
   ]
  },
  {
   "cell_type": "markdown",
   "metadata": {},
   "source": [
    "```{list-table}\n",
    ":header-rows: 1\n",
    ":widths: 5 30 10\n",
    "\n",
    "* - 変数名\n",
    "  - 説明\n",
    "  - 値\n",
    "* - `instance`\n",
    "  - 0-1ナップサック問題に対応する `ommx.v1.Instance` オブジェクト\n",
    "  - ````{toggle}\n",
    "    ```{glue:} instance\n",
    "    ```\n",
    "    ````\n",
    "* - `solution`\n",
    "  - 0-1ナップサック問題をSCIPで解いた計算結果が格納されている `ommx.v1.Solution` オブジェクト\n",
    "  - ````{toggle}\n",
    "    ```{glue:} solution\n",
    "    ```\n",
    "    ````\n",
    "* - `data`\n",
    "  - 0-1ナップサック問題の入力データ\n",
    "  - ```{glue:} data\n",
    "    ```\n",
    "* - `df`\n",
    "  - 0-1ナップサック問題の最適解表す `pandas.DataFrame` オブジェクト\n",
    "  - {glue:}`df`\n",
    "```"
   ]
  },
  {
   "cell_type": "markdown",
   "metadata": {},
   "source": [
    "## ファイルとしてOMMX Artfactを作成する\n",
    "\n",
    "OMMX Artifactはファイルで管理する方法と、コンテナのように名前で管理する方法がありますが、ここではまずファイルを使った方法を紹介します。OMMX SDKを使って、上記のデータをOMMX Artifact形式の新しいファイル `my_instance.ommx` に保存しましょう。まず `ArtifactBuilder` を用意します。"
   ]
  },
  {
   "cell_type": "code",
   "execution_count": 3,
   "metadata": {
    "tags": [
     "remove-output"
    ]
   },
   "outputs": [],
   "source": [
    "import os\n",
    "from ommx.artifact import ArtifactBuilder\n",
    "\n",
    "# OMMX Artifactファイルの名前を指定する\n",
    "filename = \"my_instance.ommx\"\n",
    "\n",
    "# 既にファイルが存在している場合は削除する\n",
    "if os.path.exists(filename):\n",
    "    os.remove(filename)\n",
    "\n",
    "# 1. OMMX Artifactファイルを作成するためのビルダーを作成する\n",
    "builder = ArtifactBuilder.new_archive_unnamed(filename)"
   ]
  },
  {
   "cell_type": "markdown",
   "metadata": {},
   "source": [
    "[`ArtifactBuilder`](https://jij-inc.github.io/ommx/python/ommx/autoapi/ommx/artifact/index.html#ommx.artifact.ArtifactBuilder) にはいくつかコンストラクタがあり、コンテナとして名前で管理するか、アーカイブファイルとして管理するかを選択できます。コンテナのようにコンテナレジストリを使ってPushとPullを行う場合は名前が必須ですが、アーカイブファイルを使う場合は名前が不要です。ここではアーカイブファイルとして管理する `ArtifactBuilder.new_archive_unnamed` を使います。\n",
    "\n",
    "| コンストラクタ | 説明 |\n",
    "| --- | --- |\n",
    "| [`ArtifactBuilder.new`](https://jij-inc.github.io/ommx/python/ommx/autoapi/ommx/artifact/index.html#ommx.artifact.ArtifactBuilder.new) | コンテナとして名前で管理する |\n",
    "| [`ArtifactBuilder.new_archive`](https://jij-inc.github.io/ommx/python/ommx/autoapi/ommx/artifact/index.html#ommx.artifact.ArtifactBuilder.new_archive) | アーカイブファイルとコンテナの両方として扱えるようにする |\n",
    "| [`ArtifactBuilder.new_archive_unnamed`](https://jij-inc.github.io/ommx/python/ommx/autoapi/ommx/artifact/index.html#ommx.artifact.ArtifactBuilder.new_archive_unnamed) | アーカイブファイルとして管理する |\n",
    "| [`ArtifactBuilder.for_github`](https://jij-inc.github.io/ommx/python/ommx/autoapi/ommx/artifact/index.html#ommx.artifact.ArtifactBuilder.for_github) | GitHub Container Registryに合わせてコンテナの名前を決める |\n",
    "\n",
    "どの方法で初期化しても同じように `ommx.v1.Instance` や他のデータを保存することが出来ます。上で用意したデータを追加してみましょう。"
   ]
  },
  {
   "cell_type": "code",
   "execution_count": 4,
   "metadata": {},
   "outputs": [],
   "source": [
    "# ommx.v1.Instance オブジェクトを追加する\n",
    "desc_instance = builder.add_instance(instance)\n",
    "\n",
    "# ommx.v1.Solution オブジェクトを追加する\n",
    "desc_solution = builder.add_solution(solution)\n",
    "\n",
    "# pandas.DataFrame オブジェクトを追加する\n",
    "desc_df = builder.add_dataframe(df, title=\"ナップサック問題の最適解\")\n",
    "\n",
    "# JSONに変換可能なオブジェクトを追加する\n",
    "desc_json = builder.add_json(data, title=\"ナップサック問題のデータ\")"
   ]
  },
  {
   "cell_type": "markdown",
   "metadata": {},
   "source": [
    "OMMX Artifactではレイヤーという単位でデータを管理しますが、各レイヤーは中身がどんな種類のデータなのかを表現するためにMedia Typeを保持しており、`add_instance` などの関数はこれらを適切に設定した上でレイヤーを追加します。この関数は生成したレイヤーの情報を保持した `Description` オブジェクトを返します。"
   ]
  },
  {
   "cell_type": "code",
   "execution_count": 5,
   "metadata": {},
   "outputs": [
    {
     "data": {
      "text/plain": [
       "{'mediaType': 'application/json',\n",
       " 'digest': 'sha256:6cbfaaa7f97e84d8b46da95b81cf4d5158df3a9bd439f8c60be26adaa16ab3cf',\n",
       " 'size': 78,\n",
       " 'annotations': {'org.ommx.user.title': 'ナップサック問題のデータ'}}"
      ]
     },
     "execution_count": 5,
     "metadata": {},
     "output_type": "execute_result"
    }
   ],
   "source": [
    "desc_json.to_dict()"
   ]
  },
  {
   "cell_type": "markdown",
   "metadata": {},
   "source": [
    "`add_json` に追加した `title=\"...\"` という部分はレイヤーのアノテーション（注釈）として保存されます。OMMX Artifactというのは人間のためのデータ形式なので、これは基本的には人間が読むための情報です。`ArtifactBuilder.add_*` 関数はいずれも任意のキーワード引数を受け取り、自動的に `org.ommx.user.` 以下の名前空間に変換します。\n",
    "\n",
    "さて最後に `build` を呼び出してファイルに保存しましょう。"
   ]
  },
  {
   "cell_type": "code",
   "execution_count": 6,
   "metadata": {},
   "outputs": [],
   "source": [
    "# 3. OMMX Artifactファイルを作成する\n",
    "artifact = builder.build()"
   ]
  },
  {
   "cell_type": "markdown",
   "metadata": {},
   "source": [
    "この `artifact` は次説で説明する、今保存したファイルを読み込んだものと同じものです。ファイルが出来上がったか確認してみましょう："
   ]
  },
  {
   "cell_type": "code",
   "execution_count": 7,
   "metadata": {},
   "outputs": [
    {
     "name": "stdout",
     "output_type": "stream",
     "text": [
      "my_instance.ommx\n"
     ]
    }
   ],
   "source": [
    "! ls $filename"
   ]
  },
  {
   "cell_type": "markdown",
   "metadata": {},
   "source": [
    "あとはこの `my_instance.ommx` を通常のファイル共有の方法で共有すれば、他の人とデータを共有することができます。"
   ]
  },
  {
   "cell_type": "markdown",
   "metadata": {},
   "source": [
    "## OMMX Artfact形式のファイルを読み取る\n",
    "\n",
    "次に保存したOMMX Artifactを読み込みましょう。アーカイブ形式で保存したOMMX Artifactを読み込むには [`Artifact.load_archive`](https://jij-inc.github.io/ommx/python/ommx/autoapi/ommx/artifact/index.html#ommx.artifact.Artifact.load_archive) を使います"
   ]
  },
  {
   "cell_type": "code",
   "execution_count": 8,
   "metadata": {},
   "outputs": [],
   "source": [
    "from ommx.artifact import Artifact\n",
    "\n",
    "# ローカルにあるOMMX Artifactファイルを読み込む\n",
    "artifact = Artifact.load_archive(filename)"
   ]
  },
  {
   "cell_type": "markdown",
   "metadata": {},
   "source": [
    "OMMX Artifactはレイヤーという単位でデータを管理しますが、このレイヤーのデータはマニフェスト（目録）として内包されており、アーカイブファイル全体を読み込まずに確認することが可能です。[`Artifact.layers`](https://jij-inc.github.io/ommx/python/ommx/autoapi/ommx/artifact/index.html#ommx.artifact.Artifact.layers) によって含まれるレイヤーの `Descriptor` を取得できます。これにはそのレイヤーのMediaTypeとアノテーションが含まれています。"
   ]
  },
  {
   "cell_type": "code",
   "execution_count": 9,
   "metadata": {},
   "outputs": [
    {
     "data": {
      "text/html": [
       "<div>\n",
       "<style scoped>\n",
       "    .dataframe tbody tr th:only-of-type {\n",
       "        vertical-align: middle;\n",
       "    }\n",
       "\n",
       "    .dataframe tbody tr th {\n",
       "        vertical-align: top;\n",
       "    }\n",
       "\n",
       "    .dataframe thead th {\n",
       "        text-align: right;\n",
       "    }\n",
       "</style>\n",
       "<table border=\"1\" class=\"dataframe\">\n",
       "  <thead>\n",
       "    <tr style=\"text-align: right;\">\n",
       "      <th></th>\n",
       "      <th>Media Type</th>\n",
       "      <th>Size (Bytes)</th>\n",
       "      <th>org.ommx.user.title</th>\n",
       "    </tr>\n",
       "  </thead>\n",
       "  <tbody>\n",
       "    <tr>\n",
       "      <th>0</th>\n",
       "      <td>application/org.ommx.v1.instance</td>\n",
       "      <td>325</td>\n",
       "      <td>NaN</td>\n",
       "    </tr>\n",
       "    <tr>\n",
       "      <th>1</th>\n",
       "      <td>application/org.ommx.v1.solution</td>\n",
       "      <td>266</td>\n",
       "      <td>NaN</td>\n",
       "    </tr>\n",
       "    <tr>\n",
       "      <th>2</th>\n",
       "      <td>application/vnd.apache.parquet</td>\n",
       "      <td>3157</td>\n",
       "      <td>ナップサック問題の最適解</td>\n",
       "    </tr>\n",
       "    <tr>\n",
       "      <th>3</th>\n",
       "      <td>application/json</td>\n",
       "      <td>78</td>\n",
       "      <td>ナップサック問題のデータ</td>\n",
       "    </tr>\n",
       "  </tbody>\n",
       "</table>\n",
       "</div>"
      ],
      "text/plain": [
       "                         Media Type  Size (Bytes) org.ommx.user.title\n",
       "0  application/org.ommx.v1.instance           325                 NaN\n",
       "1  application/org.ommx.v1.solution           266                 NaN\n",
       "2    application/vnd.apache.parquet          3157        ナップサック問題の最適解\n",
       "3                  application/json            78        ナップサック問題のデータ"
      ]
     },
     "execution_count": 9,
     "metadata": {},
     "output_type": "execute_result"
    }
   ],
   "source": [
    "import pandas as pd\n",
    "\n",
    "# 見やすいように pandas.DataFrame に変換する\n",
    "pd.DataFrame({\n",
    "    \"Media Type\": desc.media_type,\n",
    "    \"Size (Bytes)\": desc.size\n",
    "  } | desc.annotations\n",
    "  for desc in artifact.layers\n",
    ")"
   ]
  },
  {
   "cell_type": "markdown",
   "metadata": {},
   "source": [
    "例えばレイヤー3に入っているJSONを取得するには [`Artifact.get_json`](https://jij-inc.github.io/ommx/python/ommx/autoapi/ommx/artifact/index.html#ommx.artifact.Artifact.get_json) を使います。この関数はMedia Typeが `application/json` である事を確認し、バイト列をJSON文字列としてPythonオブジェクトに復元します。"
   ]
  },
  {
   "cell_type": "code",
   "execution_count": 10,
   "metadata": {},
   "outputs": [
    {
     "data": {
      "text/plain": [
       "{'v': [10, 13, 18, 31, 7, 15], 'w': [11, 15, 20, 35, 10, 33], 'W': 47, 'N': 6}"
      ]
     },
     "execution_count": 10,
     "metadata": {},
     "output_type": "execute_result"
    }
   ],
   "source": [
    "artifact.get_json(artifact.layers[3])"
   ]
  },
  {
   "cell_type": "code",
   "execution_count": 11,
   "metadata": {
    "tags": [
     "remove-cell"
    ]
   },
   "outputs": [],
   "source": [
    "# Remove the created OMMX Artifact file to clean up\n",
    "! rm $filename"
   ]
  }
 ],
 "metadata": {
  "kernelspec": {
   "display_name": ".venv",
   "language": "python",
   "name": "python3"
  },
  "language_info": {
   "codemirror_mode": {
    "name": "ipython",
    "version": 3
   },
   "file_extension": ".py",
   "mimetype": "text/x-python",
   "name": "python",
   "nbconvert_exporter": "python",
   "pygments_lexer": "ipython3",
   "version": "3.11.11"
  }
 },
 "nbformat": 4,
 "nbformat_minor": 2
}
