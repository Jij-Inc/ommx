{
 "cells": [
  {
   "cell_type": "markdown",
   "id": "2f31e6a3",
   "metadata": {},
   "source": [
    "# OMMX Adapterを実装する\n",
    "\n",
    "[複数のAdapterで最適化問題を解いて結果を比較する](../tutorial/switching_adapters)で触れた通り、OMMX Python SDKにはAdapterを実装するための抽象基底クラスが用意されており、これを継承する事で共通の仕様に沿ったAdapterを実装する事ができます。OMMXはAdapterとして二つのクラスを用意しています。\n",
    "\n",
    "- [`SolverAdapter`](https://jij-inc.github.io/ommx/python/ommx/autoapi/ommx/adapter/index.html#ommx.adapter.SolverAdapter): 一つの解を返す最適化ソルバーのための抽象基底クラス\n",
    "- [`SamplerAdapter`](https://jij-inc.github.io/ommx/python/ommx/autoapi/ommx/adapter/index.html#ommx.adapter.SamplerAdapter): サンプリングベースの最適化ソルバーのための抽象基底クラス\n",
    "\n",
    "特に複数得られたサンプルのうち、最善のものを選択することによって単一の解を返す事ができるため、`SamplerAdapter` は `SolverAdapter` を継承しています。Adapterを作るときにどちらを実装するか悩んだら、出力される解の数を見て、一つの解を返すなら `SolverAdapter`、複数の解を返すなら `SamplerAdapter` を継承すると良いでしょう。"
   ]
  },
  {
   "cell_type": "markdown",
   "id": "46977b6b",
   "metadata": {},
   "source": [
    "## `SolverAdapter` を継承したAdapterを実装する\n",
    "\n"
   ]
  },
  {
   "cell_type": "markdown",
   "id": "82171cf8",
   "metadata": {},
   "source": [
    "## `SamplerAdapter` を継承したAdapterを実装する"
   ]
  }
 ],
 "metadata": {
  "kernelspec": {
   "display_name": "Python 3 (ipykernel)",
   "language": "python",
   "name": "python3"
  },
  "language_info": {
   "codemirror_mode": {
    "name": "ipython",
    "version": 3
   },
   "file_extension": ".py",
   "mimetype": "text/x-python",
   "name": "python",
   "nbconvert_exporter": "python",
   "pygments_lexer": "ipython3",
   "version": "3.12.2"
  }
 },
 "nbformat": 4,
 "nbformat_minor": 5
}
