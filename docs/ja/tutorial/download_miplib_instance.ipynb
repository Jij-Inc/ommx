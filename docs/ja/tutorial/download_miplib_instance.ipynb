{
 "cells": [
  {
   "cell_type": "markdown",
   "metadata": {},
   "source": [
    "# MIPLIBインスタンスをダウンロードする\n",
    "\n",
    "OMMXリポジトリでは、MIPLIB 2017の混合整数計画問題ベンチマークインスタンスをOMMX Artifact形式のデータとして提供しています。\n",
    "\n",
    "```{note}\n",
    "より詳細な説明：MIPLIB 2017のインスタンスに対応するOMMX ArtifactはOMMXリポジトリのGitHub コンテナーレジストリ ([link](https://github.com/Jij-Inc/ommx/pkgs/container/ommx%2Fmiplib2017))で管理されています。\n",
    "\n",
    "GitHub コンテナーレジストリについては[こちら](https://docs.github.com/ja/packages/working-with-a-github-packages-registry/working-with-the-container-registry)を参照してください。\n",
    "```\n",
    "\n",
    "これらのインスタンスはOMMX SDKで簡単にダウンロードでき、OMMX Adapterの入力としてそのまま利用できます。\n",
    "例えば、MIPLIB 2017のneos-1122047インスタンス ([参照](https://miplib.zib.de/instance_details_neos-1122047.html)) をPySCIPOptで解くには、以下の2ステップで実行できます：\n",
    "\n",
    "1. OMMX Python SDKの`dataset`サブモジュールにある`miplib2017`関数で、neos-1122047インスタンスをダウンロードする。\n",
    "2. ダウンロードしたインスタンスを、OMMX PySCIPOpt Adapterを介してPySCIPOptで解く。\n",
    "\n",
    "具体的なPythonコードは以下の通りです："
   ]
  },
  {
   "cell_type": "code",
   "execution_count": 1,
   "metadata": {},
   "outputs": [],
   "source": [
    "# OMMX Python SDK\n",
    "from ommx import dataset\n",
    "# OMMX PySCIPOpt Adapter\n",
    "from ommx_pyscipopt_adapter import OMMXPySCIPOptAdapter\n",
    "\n",
    "# ステップ1: MIPLIB 2017のneos-1122047インスタンスをダウンロードする\n",
    "instance = dataset.miplib2017(\"neos-1122047\")\n",
    "\n",
    "# ステップ2: OMMX PySCIPOpt Adapterを介してPySCIPOptで解く\n",
    "solution = OMMXPySCIPOptAdapter.solve(instance)"
   ]
  },
  {
   "cell_type": "markdown",
   "metadata": {},
   "source": [
    "この機能により、複数のOMMX対応ソルバーで同一のMIPLIBインスタンスを使用したベンチマーク測定を効率よく実行できます。"
   ]
  },
  {
   "cell_type": "markdown",
   "metadata": {},
   "source": [
    "## 補足：インスタンスに付随するアノテーション\n",
    "\n",
    "ダウンロードしたインスタンスには各種アノテーションが含まれており、`annotations` プロパティを使って全てのアノテーションにアクセスできます："
   ]
  },
  {
   "cell_type": "code",
   "execution_count": 2,
   "metadata": {},
   "outputs": [
    {
     "data": {
      "text/html": [
       "<div>\n",
       "<style scoped>\n",
       "    .dataframe tbody tr th:only-of-type {\n",
       "        vertical-align: middle;\n",
       "    }\n",
       "\n",
       "    .dataframe tbody tr th {\n",
       "        vertical-align: top;\n",
       "    }\n",
       "\n",
       "    .dataframe thead th {\n",
       "        text-align: right;\n",
       "    }\n",
       "</style>\n",
       "<table border=\"1\" class=\"dataframe\">\n",
       "  <thead>\n",
       "    <tr style=\"text-align: right;\">\n",
       "      <th></th>\n",
       "      <th>Value</th>\n",
       "    </tr>\n",
       "  </thead>\n",
       "  <tbody>\n",
       "    <tr>\n",
       "      <th>org.ommx.miplib.binaries</th>\n",
       "      <td>100</td>\n",
       "    </tr>\n",
       "    <tr>\n",
       "      <th>org.ommx.miplib.continuous</th>\n",
       "      <td>5000</td>\n",
       "    </tr>\n",
       "    <tr>\n",
       "      <th>org.ommx.miplib.group</th>\n",
       "      <td>neos-pseudoapplication-46</td>\n",
       "    </tr>\n",
       "    <tr>\n",
       "      <th>org.ommx.miplib.integers</th>\n",
       "      <td>0</td>\n",
       "    </tr>\n",
       "    <tr>\n",
       "      <th>org.ommx.miplib.non_zero</th>\n",
       "      <td>163640</td>\n",
       "    </tr>\n",
       "    <tr>\n",
       "      <th>org.ommx.miplib.objective</th>\n",
       "      <td>161</td>\n",
       "    </tr>\n",
       "    <tr>\n",
       "      <th>org.ommx.miplib.status</th>\n",
       "      <td>easy</td>\n",
       "    </tr>\n",
       "    <tr>\n",
       "      <th>org.ommx.miplib.tags</th>\n",
       "      <td>benchmark,benchmark_suitable,precedence,variab...</td>\n",
       "    </tr>\n",
       "    <tr>\n",
       "      <th>org.ommx.miplib.url</th>\n",
       "      <td>https://miplib.zib.de/instance_details_neos-11...</td>\n",
       "    </tr>\n",
       "    <tr>\n",
       "      <th>org.ommx.v1.instance.authors</th>\n",
       "      <td>NEOS Server Submission</td>\n",
       "    </tr>\n",
       "    <tr>\n",
       "      <th>org.ommx.v1.instance.constraints</th>\n",
       "      <td>57791</td>\n",
       "    </tr>\n",
       "    <tr>\n",
       "      <th>org.ommx.v1.instance.created</th>\n",
       "      <td>2025-07-25T15:47:50.383332+09:00</td>\n",
       "    </tr>\n",
       "    <tr>\n",
       "      <th>org.ommx.v1.instance.dataset</th>\n",
       "      <td>MIPLIB2017</td>\n",
       "    </tr>\n",
       "    <tr>\n",
       "      <th>org.ommx.v1.instance.license</th>\n",
       "      <td>CC-BY-SA-4.0</td>\n",
       "    </tr>\n",
       "    <tr>\n",
       "      <th>org.ommx.v1.instance.title</th>\n",
       "      <td>neos-1122047</td>\n",
       "    </tr>\n",
       "    <tr>\n",
       "      <th>org.ommx.v1.instance.variables</th>\n",
       "      <td>5100</td>\n",
       "    </tr>\n",
       "  </tbody>\n",
       "</table>\n",
       "</div>"
      ],
      "text/plain": [
       "                                                                              Value\n",
       "org.ommx.miplib.binaries                                                        100\n",
       "org.ommx.miplib.continuous                                                     5000\n",
       "org.ommx.miplib.group                                     neos-pseudoapplication-46\n",
       "org.ommx.miplib.integers                                                          0\n",
       "org.ommx.miplib.non_zero                                                     163640\n",
       "org.ommx.miplib.objective                                                       161\n",
       "org.ommx.miplib.status                                                         easy\n",
       "org.ommx.miplib.tags              benchmark,benchmark_suitable,precedence,variab...\n",
       "org.ommx.miplib.url               https://miplib.zib.de/instance_details_neos-11...\n",
       "org.ommx.v1.instance.authors                                 NEOS Server Submission\n",
       "org.ommx.v1.instance.constraints                                              57791\n",
       "org.ommx.v1.instance.created                       2025-07-25T15:47:50.383332+09:00\n",
       "org.ommx.v1.instance.dataset                                             MIPLIB2017\n",
       "org.ommx.v1.instance.license                                           CC-BY-SA-4.0\n",
       "org.ommx.v1.instance.title                                             neos-1122047\n",
       "org.ommx.v1.instance.variables                                                 5100"
      ]
     },
     "execution_count": 2,
     "metadata": {},
     "output_type": "execute_result"
    }
   ],
   "source": [
    "import pandas as pd\n",
    "# アノテーションを pandas を使って表形式で表示する\n",
    "pd.DataFrame.from_dict(instance.annotations, orient=\"index\", columns=[\"Value\"]).sort_index()"
   ]
  },
  {
   "cell_type": "markdown",
   "metadata": {},
   "source": [
    "インスタンスには、データセット共通のアノテーションとデータセット固有のアノテーションの2種類があります。\n",
    "\n",
    "データセット共通のアノテーションには以下の7つがあり、それぞれに専用のプロパティが用意されています：\n",
    "\n",
    "| アノテーション | プロパティ | 説明 |\n",
    "|--------------|------------|------|\n",
    "| `org.ommx.v1.instance.authors` | `authors` | そのインスタンスの作者 |\n",
    "| `org.ommx.v1.instance.constraints` | `num_constraints` | そのインスタンスにある制約条件の数 |\n",
    "| `org.ommx.v1.instance.created` | `created` | そのインスタンスがOMMX Artifact形式で保存された日時 |\n",
    "| `org.ommx.v1.instance.dataset` | `dataset` | そのインスタンスが属するデータセット名 |\n",
    "| `org.ommx.v1.instance.license` | `license` | そのデータセットのライセンス |\n",
    "| `org.ommx.v1.instance.title` | `title` | そのインスタンスの名前 |\n",
    "| `org.ommx.v1.instance.variables` | `num_variables` | そのインスタンスにある決定変数の総数 |\n",
    "\n",
    "MIPLIBに特有のアノテーションは `org.ommx.miplib.*` というプレフィックスを持ちます。\n",
    "\n",
    "例として、neos-1122047インスタンスの最適値を確認してみましょう。そのインスタンスの詳細ページ ([link](https://miplib.zib.de/instance_details_neos-1122047.html)) によれば、最適値は `26374` であり、この値はキー `org.ommx.miplib.objective` で取得できます："
   ]
  },
  {
   "cell_type": "code",
   "execution_count": 3,
   "metadata": {},
   "outputs": [
    {
     "data": {
      "text/plain": [
       "'161'"
      ]
     },
     "execution_count": 3,
     "metadata": {},
     "output_type": "execute_result"
    }
   ],
   "source": [
    "# アノテーションの値はすべて文字列 (str) であることに注意する！\n",
    "instance.annotations[\"org.ommx.miplib.objective\"]"
   ]
  },
  {
   "cell_type": "markdown",
   "metadata": {},
   "source": [
    "これにより、先ほどのOMMX PySCIPOpt Adapterで得られた計算結果が、期待される最適値と一致することを検証できます："
   ]
  },
  {
   "cell_type": "code",
   "execution_count": 4,
   "metadata": {},
   "outputs": [],
   "source": [
    "import numpy as np\n",
    "\n",
    "best = float(instance.annotations[\"org.ommx.miplib.objective\"])\n",
    "assert np.isclose(solution.objective, best)"
   ]
  }
 ],
 "metadata": {
  "kernelspec": {
   "display_name": "ommx-update-books (3.9.23)",
   "language": "python",
   "name": "python3"
  },
  "language_info": {
   "codemirror_mode": {
    "name": "ipython",
    "version": 3
   },
   "file_extension": ".py",
   "mimetype": "text/x-python",
   "name": "python",
   "nbconvert_exporter": "python",
   "pygments_lexer": "ipython3",
   "version": "3.9.23"
  }
 },
 "nbformat": 4,
 "nbformat_minor": 4
}
