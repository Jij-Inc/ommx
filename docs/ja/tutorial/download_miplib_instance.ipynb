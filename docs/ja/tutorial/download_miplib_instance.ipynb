{
 "cells": [
  {
   "cell_type": "markdown",
   "metadata": {},
   "source": [
    "# MIPLIBインスタンスをダウンロードする\n",
    "\n",
    "OMMXリポジトリでは、MIPLIB 2017の混合整数計画問題ベンチマークインスタンスをOMMX Artifact形式のデータとして提供しています。\n",
    "\n",
    "```{note}\n",
    "より詳細な説明：MIPLIB 2017のインスタンスに対応するOMMX ArtifactはOMMXリポジトリのGitHub コンテナーレジストリ ([link](https://github.com/Jij-Inc/ommx/pkgs/container/ommx%2Fmiplib2017))で管理されています。\n",
    "\n",
    "GitHub コンテナーレジストリについては[こちら](https://docs.github.com/ja/packages/working-with-a-github-packages-registry/working-with-the-container-registry)を参照してください。\n",
    "```\n",
    "\n",
    "これらのインスタンスはOMMX SDKで簡単にダウンロードでき、OMMX Adapterの入力としてそのまま利用できます。\n",
    "例えば、MIPLIB 2017のair05インスタンス ([参照](https://miplib.zib.de/instance_details_air05.html)) をPySCIPOptで解くには、以下の2ステップで実行できます：\n",
    "\n",
    "1. OMMX Python SDKの`dataset`サブモジュールにある`miplib2017`関数で、air05インスタンスをダウンロードする。\n",
    "2. ダウンロードしたインスタンスを、OMMX PySCIPOpt Adapterを介してPySCIPOptで解く。\n",
    "\n",
    "具体的なPythonコードは以下の通りです："
   ]
  },
  {
   "cell_type": "code",
   "execution_count": 1,
   "metadata": {},
   "outputs": [],
   "source": [
    "# OMMX Python SDK\n",
    "from ommx import dataset\n",
    "# OMMX PySCIPOpt Adapter\n",
    "from ommx_pyscipopt_adapter import OMMXPySCIPOptAdapter\n",
    "\n",
    "# ステップ1: MIPLIB 2017のair05インスタンスをダウンロードする\n",
    "instance = dataset.miplib2017(\"air05\")\n",
    "\n",
    "# ステップ2: OMMX PySCIPOpt Adapterを介してPySCIPOptで解く\n",
    "solution = OMMXPySCIPOptAdapter.solve(instance)"
   ]
  },
  {
   "cell_type": "markdown",
   "metadata": {},
   "source": [
    "この機能により、複数のOMMX対応ソルバーで同一のMIPLIBインスタンスを使用したベンチマーク測定を効率よく実行できます。"
   ]
  },
  {
   "cell_type": "markdown",
   "metadata": {},
   "source": [
    "## 補足：インスタンスに付随するアノテーション\n",
    "\n",
    "ダウンロードしたインスタンスには各種アノテーションが含まれており、`annotations` プロパティを使って全てのアノテーションにアクセスできます："
   ]
  },
  {
   "cell_type": "code",
   "execution_count": null,
   "metadata": {},
   "outputs": [],
   "source": [
    "import pandas as pd\n",
    "# アノテーションを pandas を使って表形式で表示する\n",
    "pd.DataFrame.from_dict(instance.annotations, orient=\"index\", columns=[\"Value\"]).sort_index()"
   ]
  },
  {
   "cell_type": "markdown",
   "metadata": {},
   "source": [
    "インスタンスには、データセット共通のアノテーションとデータセット固有のアノテーションの2種類があります。\n",
    "\n",
    "データセット共通のアノテーションには以下の7つがあり、それぞれに専用のプロパティが用意されています：\n",
    "\n",
    "| アノテーション | プロパティ | 説明 |\n",
    "|--------------|------------|------|\n",
    "| `org.ommx.v1.instance.authors` | `authors` | そのインスタンスの作者 |\n",
    "| `org.ommx.v1.instance.constraints` | `num_constraints` | そのインスタンスにある制約条件の数 |\n",
    "| `org.ommx.v1.instance.created` | `created` | そのインスタンスがOMMX Artifact形式で保存された日時 |\n",
    "| `org.ommx.v1.instance.dataset` | `dataset` | そのインスタンスが属するデータセット名 |\n",
    "| `org.ommx.v1.instance.license` | `license` | そのデータセットのライセンス |\n",
    "| `org.ommx.v1.instance.title` | `title` | そのインスタンスの名前 |\n",
    "| `org.ommx.v1.instance.variables` | `num_variables` | そのインスタンスにある決定変数の総数 |\n",
    "\n",
    "MIPLIBに特有のアノテーションは `org.ommx.miplib.*` というプレフィックスを持ちます。\n",
    "\n",
    "例として、air05インスタンスの最適値を確認してみましょう。そのインスタンスの詳細ページ ([link](https://miplib.zib.de/instance_details_air05.html)) によれば、最適値は `26374` であり、この値はキー `org.ommx.miplib.objective` で取得できます："
   ]
  },
  {
   "cell_type": "code",
   "execution_count": null,
   "metadata": {},
   "outputs": [],
   "source": [
    "# アノテーションの値はすべて文字列 (str) であることに注意する！\n",
    "assert instance.annotations[\"org.ommx.miplib.objective\"] == \"26374\""
   ]
  },
  {
   "cell_type": "markdown",
   "metadata": {},
   "source": [
    "これにより、先ほどのOMMX PySCIPOpt Adapterで得られた計算結果が、期待される最適値と一致することを検証できます："
   ]
  },
  {
   "cell_type": "code",
   "execution_count": null,
   "metadata": {},
   "outputs": [],
   "source": [
    "import numpy as np\n",
    "\n",
    "best = float(instance.annotations[\"org.ommx.miplib.objective\"])\n",
    "assert np.isclose(solution.objective, best)"
   ]
  },
  {
   "cell_type": "markdown",
   "metadata": {},
   "source": [
    "# QPLIBインスタンスをダウンロードする\n",
    "\n",
    "MIPLIB 2017に加えて、OMMXリポジトリではQPLIBの二次計画問題ベンチマークインスタンスもOMMX Artifact形式で提供しています。\n",
    "\n",
    "```{note}\n",
    "より詳細な説明：QPLIBインスタンスに対応するOMMX ArtifactはOMMXリポジトリのGitHub コンテナーレジストリ ([link](https://github.com/Jij-Inc/ommx/pkgs/container/ommx%2Fqplib))で管理されています。\n",
    "\n",
    "QPLIBは二次計画問題のインスタンスライブラリです。QPLIBの詳細については [QPLIB website](http://qplib.zib.de/) を参照してください。\n",
    "```\n",
    "\n",
    "```{note}\n",
    "**後方互換性に関する注記**: このノートブックのファイル名には歴史的な理由とURL互換性のため「miplib」が含まれていますが、現在はMIPLIBとQPLIBの両方のインスタンスを扱っています。\n",
    "```\n",
    "\n",
    "MIPLIBインスタンスと同様に、QPLIBインスタンスもOMMX SDKで簡単にダウンロードでき、OMMX Adapterで利用できます。\n",
    "例えば、QPLIB_0018インスタンス ([参照](http://qplib.zib.de/QPLIB_0018.html)) をPySCIPOptで解くには、以下の2ステップで実行できます：\n",
    "\n",
    "1. OMMX Python SDKの`dataset.qplib`関数で、0018インスタンスをダウンロードする。\n",
    "2. ダウンロードしたインスタンスを、OMMX PySCIPOpt Adapterを介してPySCIPOptで解く。\n",
    "\n",
    "具体的なPythonコードは以下の通りです："
   ]
  },
  {
   "cell_type": "code",
   "execution_count": null,
   "metadata": {},
   "outputs": [],
   "source": [
    "# OMMX Python SDK\n",
    "from ommx import dataset\n",
    "# OMMX PySCIPOpt Adapter\n",
    "from ommx_pyscipopt_adapter import OMMXPySCIPOptAdapter\n",
    "\n",
    "# ステップ1: QPLIBの0018インスタンスをダウンロードする\n",
    "qp_instance = dataset.qplib(\"0018\")\n",
    "\n",
    "# ステップ2: OMMX PySCIPOpt Adapterを介してPySCIPOptで解く\n",
    "qp_solution = OMMXPySCIPOptAdapter.solve(qp_instance)"
   ]
  },
  {
   "cell_type": "markdown",
   "metadata": {},
   "source": [
    "この機能により、同一のQPLIBインスタンスを使用した二次計画問題ソルバーのベンチマーク測定を効率よく実行できます。"
   ]
  },
  {
   "cell_type": "markdown",
   "metadata": {},
   "source": [
    "## QPLIBインスタンスのアノテーション\n",
    "\n",
    "MIPLIBインスタンスと同様に、QPLIBインスタンスにも `annotations` プロパティを使ってアクセスできるアノテーションが含まれています："
   ]
  },
  {
   "cell_type": "code",
   "execution_count": null,
   "metadata": {},
   "outputs": [],
   "source": [
    "import pandas as pd\n",
    "# QPLIBアノテーションを pandas を使って表形式で表示する\n",
    "pd.DataFrame.from_dict(qp_instance.annotations, orient=\"index\", columns=[\"Value\"]).sort_index()"
   ]
  },
  {
   "cell_type": "markdown",
   "metadata": {},
   "source": [
    "QPLIBインスタンスには、MIPLIBインスタンスと同じ7つのデータセット共通アノテーションに加えて、`org.ommx.qplib.*` プレフィックスを持つQPLIB固有のアノテーションがあります。\n",
    "\n",
    "## MIPLIBとQPLIBアノテーションの比較\n",
    "\n",
    "以下の表は、MIPLIBとQPLIBインスタンスの主要なアノテーションの違いを比較したものです：\n",
    "\n",
    "| 項目 | MIPLIBアノテーション | QPLIBアノテーション |\n",
    "|------|-------------------|------------------|\n",
    "| 変数の種類 | `org.ommx.miplib.binaries`, `org.ommx.miplib.integers`, `org.ommx.miplib.continuous` | `org.ommx.qplib.nbinvars`, `org.ommx.qplib.nintvars`, `org.ommx.qplib.ncontvars` |\n",
    "| 問題の種類 | `org.ommx.miplib.tags` (問題の特性を含む) | `org.ommx.qplib.probtype` (QCL, QML, QBL, LMQ等) |\n",
    "| 目的関数 | `org.ommx.miplib.objective` (最適値) | `org.ommx.qplib.objtype`, `org.ommx.qplib.objcurvature` |\n",
    "| 制約条件 | `org.ommx.miplib.non_zero` (制約行列の密度) | `org.ommx.qplib.nlincons`, `org.ommx.qplib.nquadcons` |\n",
    "| 曲率 | 該当なし | `org.ommx.qplib.conscurvature` (制約の曲率) |\n",
    "\n",
    "例として、QPLIBインスタンスの問題の種類と目的関数の曲率を確認できます："
   ]
  },
  {
   "cell_type": "code",
   "execution_count": null,
   "metadata": {},
   "outputs": [],
   "source": [
    "# QPLIB固有のアノテーション\n",
    "print(f\"問題の種類: {qp_instance.annotations['org.ommx.qplib.probtype']}\")\n",
    "print(f\"目的関数の種類: {qp_instance.annotations['org.ommx.qplib.objtype']}\")\n",
    "print(f\"目的関数の曲率: {qp_instance.annotations['org.ommx.qplib.objcurvature']}\")\n",
    "print(f\"変数の数: {qp_instance.annotations['org.ommx.qplib.nvars']}\")\n",
    "print(f\"制約の数: {qp_instance.annotations['org.ommx.qplib.ncons']}\")"
   ]
  }
 ],
 "metadata": {
  "kernelspec": {
   "display_name": "ommx-update-books (3.9.23)",
   "language": "python",
   "name": "python3"
  },
  "language_info": {
   "codemirror_mode": {
    "name": "ipython",
    "version": 3
   },
   "file_extension": ".py",
   "mimetype": "text/x-python",
   "name": "python",
   "nbconvert_exporter": "python",
   "pygments_lexer": "ipython3",
   "version": "3.9.23"
  }
 },
 "nbformat": 4,
 "nbformat_minor": 4
}
