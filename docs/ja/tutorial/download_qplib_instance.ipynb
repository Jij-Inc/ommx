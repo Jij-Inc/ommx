{
 "cells": [
  {
   "cell_type": "markdown",
   "metadata": {},
   "source": [
    "# QPLIBインスタンスをダウンロードする\n",
    "\n",
    "OMMXリポジトリでは、QPLIBの二次計画問題ベンチマークインスタンスをOMMX Artifact形式のデータとして提供しています。\n",
    "\n",
    "```{note}\n",
    "より詳細な説明：QPLIBインスタンスに対応するOMMX ArtifactはOMMXリポジトリのGitHub コンテナーレジストリ ([link](https://github.com/Jij-Inc/ommx/pkgs/container/ommx%2Fqplib))で管理されています。\n",
    "\n",
    "QPLIBは二次計画問題のインスタンスライブラリです。QPLIBの詳細については [QPLIB website](http://qplib.zib.de/) を参照してください。\n",
    "\n",
    "GitHub コンテナーレジストリについては[こちら](https://docs.github.com/ja/packages/working-with-a-github-packages-registry/working-with-the-container-registry)を参照してください。\n",
    "```\n",
    "\n",
    "これらのインスタンスはOMMX SDKで簡単にダウンロードでき、OMMX Adapterの入力としてそのまま利用できます。\n",
    "例えば、QPLIB_0018インスタンス ([参照](http://qplib.zib.de/QPLIB_0018.html)) をPySCIPOptで解くには、以下の2ステップで実行できます：\n",
    "\n",
    "1. OMMX Python SDKの`dataset.qplib`関数で、0018インスタンスをダウンロードする。\n",
    "2. ダウンロードしたインスタンスを、OMMX PySCIPOpt Adapterを介してPySCIPOptで解く。\n",
    "\n",
    "具体的なPythonコードは以下の通りです："
   ]
  },
  {
   "cell_type": "code",
   "execution_count": 1,
   "metadata": {},
   "outputs": [],
   "source": [
    "# OMMX Python SDK\n",
    "from ommx import dataset\n",
    "# OMMX PySCIPOpt Adapter\n",
    "from ommx_pyscipopt_adapter import OMMXPySCIPOptAdapter\n",
    "\n",
    "# ステップ1: QPLIBの0018インスタンスをダウンロードする\n",
    "instance = dataset.qplib(\"0018\")\n",
    "\n",
    "# ステップ2: OMMX PySCIPOpt Adapterを介してPySCIPOptで解く\n",
    "solution = OMMXPySCIPOptAdapter.solve(instance)"
   ]
  },
  {
   "cell_type": "markdown",
   "metadata": {},
   "source": [
    "この機能により、同一のQPLIBインスタンスを使用した二次計画問題ソルバーのベンチマーク測定を効率よく実行できます。"
   ]
  },
  {
   "cell_type": "markdown",
   "metadata": {},
   "source": [
    "## 補足：インスタンスに付随するアノテーション\n",
    "\n",
    "ダウンロードしたインスタンスには各種アノテーションが含まれており、`annotations` プロパティを使って全てのアノテーションにアクセスできます："
   ]
  },
  {
   "cell_type": "code",
   "execution_count": null,
   "metadata": {},
   "outputs": [],
   "source": [
    "import pandas as pd\n",
    "# アノテーションを pandas を使って表形式で表示する\n",
    "pd.DataFrame.from_dict(instance.annotations, orient=\"index\", columns=[\"Value\"]).sort_index()"
   ]
  },
  {
   "cell_type": "markdown",
   "metadata": {},
   "source": [
    "インスタンスには、データセット共通のアノテーションとデータセット固有のアノテーションの2種類があります。\n",
    "\n",
    "データセット共通のアノテーションには以下の7つがあり、それぞれに専用のプロパティが用意されています：\n",
    "\n",
    "| アノテーション | プロパティ | 説明 |\n",
    "|--------------|------------|------|\n",
    "| `org.ommx.v1.instance.authors` | `authors` | そのインスタンスの作者 |\n",
    "| `org.ommx.v1.instance.constraints` | `num_constraints` | そのインスタンスにある制約条件の数 |\n",
    "| `org.ommx.v1.instance.created` | `created` | そのインスタンスがOMMX Artifact形式で保存された日時 |\n",
    "| `org.ommx.v1.instance.dataset` | `dataset` | そのインスタンスが属するデータセット名 |\n",
    "| `org.ommx.v1.instance.license` | `license` | そのデータセットのライセンス |\n",
    "| `org.ommx.v1.instance.title` | `title` | そのインスタンスの名前 |\n",
    "| `org.ommx.v1.instance.variables` | `num_variables` | そのインスタンスにある決定変数の総数 |\n",
    "\n",
    "## QPLIBアノテーション\n",
    "\n",
    "QPLIBインスタンスには、二次計画問題の数学的特性を記述する包括的なアノテーションが含まれています。これらのアノテーションは公式のQPLIB仕様に基づいており、`org.ommx.qplib.*` プレフィックスを持ちます。\n",
    "\n",
    "利用可能なすべてのQPLIBアノテーションとその意味の詳細については、[公式QPLIBドキュメント](https://qplib.zib.de/doc.html)を参照してください。\n",
    "\n",
    "例として、QPLIBインスタンスの問題の種類と目的関数の曲率を確認できます："
   ]
  },
  {
   "cell_type": "code",
   "execution_count": null,
   "metadata": {},
   "outputs": [],
   "source": [
    "# QPLIB固有のアノテーション\n",
    "print(f\"問題の種類: {instance.annotations['org.ommx.qplib.probtype']}\")\n",
    "print(f\"目的関数の種類: {instance.annotations['org.ommx.qplib.objtype']}\")\n",
    "print(f\"目的関数の曲率: {instance.annotations['org.ommx.qplib.objcurvature']}\")\n",
    "print(f\"変数の数: {instance.annotations['org.ommx.qplib.nvars']}\")\n",
    "print(f\"制約の数: {instance.annotations['org.ommx.qplib.ncons']}\")"
   ]
  }
 ],
 "metadata": {
  "kernelspec": {
   "display_name": "ommx-update-books (3.9.23)",
   "language": "python",
   "name": "python3"
  },
  "language_info": {
   "codemirror_mode": {
    "name": "ipython",
    "version": 3
   },
   "file_extension": ".py",
   "mimetype": "text/x-python",
   "name": "python",
   "nbconvert_exporter": "python",
   "pygments_lexer": "ipython3",
   "version": "3.9.23"
  }
 },
 "nbformat": 4,
 "nbformat_minor": 4
}