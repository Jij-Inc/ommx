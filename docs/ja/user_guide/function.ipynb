{
 "cells": [
  {
   "cell_type": "markdown",
   "metadata": {},
   "source": [
    "# ommx.v1.Function\n",
    "\n",
    "数理最適化では目的関数や制約条件を表現するために（数学的な意味での）関数を扱う必要があります。OMMXでは特に多項式を中心に扱い、OMMX Messageには多項式を表すためのデータ構造として以下のものが存在します。\n",
    "\n",
    "| データ構造 | 説明 |\n",
    "| --- | --- |\n",
    "| [ommx.v1.Linear](https://jij-inc.github.io/ommx/python/ommx/autoapi/ommx/v1/index.html#ommx.v1.Linear) | 線形の関数。決定変数のIDとその係数のペアを持つ |\n",
    "| [ommx.v1.Quadratic](https://jij-inc.github.io/ommx/python/ommx/autoapi/ommx/v1/index.html#ommx.v1.Quadratic) | 二次の関数。決定変数のIDのペアとその係数のペアを持つ |\n",
    "| [ommx.v1.Polynomial](https://jij-inc.github.io/ommx/python/ommx/autoapi/ommx/v1/index.html#ommx.v1.Polynomial) | 多項式。決定変数のIDの組とその係数のペアを持つ |\n",
    "| [ommx.v1.Function](https://jij-inc.github.io/ommx/python/ommx/autoapi/ommx/v1/index.html#ommx.v1.Function) | 上記のいずれかあるいは定数 |\n",
    "\n",
    "\n",
    "## ommx.v1.Function の作成\n",
    "Python SDKでこれらのデータ構造を作る場合、大きく分けて二つの方法があります。まずひとつ目は、各データ構造のコンストラクタを直接呼び出す方法です。たとえば、次のようにして`ommx.v1.Linear`を作ることができます。"
   ]
  },
  {
   "cell_type": "code",
   "execution_count": 1,
   "metadata": {},
   "outputs": [
    {
     "name": "stdout",
     "output_type": "stream",
     "text": [
      "Linear(x1 + 2*x2 + 3)\n"
     ]
    }
   ],
   "source": [
    "from ommx.v1 import Linear\n",
    "\n",
    "linear = Linear(terms={1: 1.0, 2: 2.0}, constant=3.0)\n",
    "print(linear)"
   ]
  },
  {
   "cell_type": "markdown",
   "metadata": {},
   "source": [
    "このように決定変数はIDで識別され、係数は実数で表されます。係数や定数値にアクセスするには `terms` `constant` プロパティを使います。"
   ]
  },
  {
   "cell_type": "code",
   "execution_count": 2,
   "metadata": {},
   "outputs": [
    {
     "name": "stdout",
     "output_type": "stream",
     "text": [
      "linear.terms={(1,): 1.0, (2,): 2.0, (): 3.0}, linear.constant=3.0\n"
     ]
    }
   ],
   "source": [
    "print(f\"linear.terms={linear.terms}, linear.constant_term={linear.constant_term}\")"
   ]
  },
  {
   "cell_type": "markdown",
   "metadata": {},
   "source": [
    "もう一つの方法は `ommx.v1.DecisionVariable` から作る方法です。`ommx.v1.DecisionVariable` は決定変数のIDを持つだけのデータ構造です。`ommx.v1.Linear` などの多項式を作る際には、`ommx.v1.DecisionVariable` を使って決定変数を作り、それを使って多項式を作ることができます。"
   ]
  },
  {
   "cell_type": "code",
   "execution_count": 3,
   "metadata": {},
   "outputs": [
    {
     "name": "stdout",
     "output_type": "stream",
     "text": [
      "Linear(x1 + 2*x2 + 3)\n"
     ]
    }
   ],
   "source": [
    "from ommx.v1 import DecisionVariable\n",
    "\n",
    "x = DecisionVariable.binary(1, name=\"x\")\n",
    "y = DecisionVariable.binary(2, name=\"y\")\n",
    "\n",
    "linear = x + 2.0 * y + 3.0\n",
    "print(linear)"
   ]
  },
  {
   "cell_type": "markdown",
   "metadata": {},
   "source": [
    "このとき多項式のデータ型は決定変数に関するID以外の情報を保持しないことに注意してください。上の例で言えば `x` や `y` といった `DecisionVariable.binary` に渡した情報は `Linear` には伝わりません。この二つ目の方法はどの次数の多項式も作ることができます。"
   ]
  },
  {
   "cell_type": "code",
   "execution_count": 4,
   "metadata": {},
   "outputs": [
    {
     "name": "stdout",
     "output_type": "stream",
     "text": [
      "Quadratic(x1*x1 + x1*x2 + x2*x2)\n"
     ]
    }
   ],
   "source": [
    "q = x * x + x * y + y * y\n",
    "print(q)"
   ]
  },
  {
   "cell_type": "code",
   "execution_count": 5,
   "metadata": {},
   "outputs": [
    {
     "name": "stdout",
     "output_type": "stream",
     "text": [
      "Polynomial(x1*x1*x1 + x2*x2)\n"
     ]
    }
   ],
   "source": [
    "p = x * x * x + y * y\n",
    "print(p)"
   ]
  },
  {
   "cell_type": "markdown",
   "metadata": {},
   "source": [
    "`Linear`, `Quadratic`, `Polynomial` はそれぞれ固有のデータの保持方法を持っているため別のMessageになっていますが、目的関数や制約条件としてはどれを使ってもいいので、それらのいずれかあるいは定数である `Function` というMessageが用意されています。"
   ]
  },
  {
   "cell_type": "code",
   "execution_count": 6,
   "metadata": {},
   "outputs": [
    {
     "name": "stdout",
     "output_type": "stream",
     "text": [
      "Function(1)\n",
      "Function(x1 + 2*x2 + 3)\n",
      "Function(x1*x1 + x1*x2 + x2*x2)\n",
      "Function(x1*x1*x1 + x2*x2)\n"
     ]
    }
   ],
   "source": [
    "from ommx.v1 import Function\n",
    "\n",
    "# Constant\n",
    "print(Function(1.0))\n",
    "# Linear\n",
    "print(Function(linear))\n",
    "# Quadratic\n",
    "print(Function(q))\n",
    "# Polynomial\n",
    "print(Function(p))"
   ]
  },
  {
   "cell_type": "markdown",
   "metadata": {},
   "source": [
    "## 決定変数の代入・部分評価\n",
    "\n",
    "`Function` 及び他の多項式は決定変数の値を代入する `evaluate` メソッドを持ちます。例えば上で作った線形関数 $x_1 + 2x_2 + 3$ に $x_1 = 1, x_2 = 0$ を代入すると $1 + 2 \\times 0 + 3 = 4$ となります。"
   ]
  },
  {
   "cell_type": "code",
   "execution_count": 7,
   "metadata": {},
   "outputs": [
    {
     "name": "stdout",
     "output_type": "stream",
     "text": [
      "value=4.0, used_id={1, 2}\n"
     ]
    }
   ],
   "source": [
    "value = linear.evaluate({1: 1, 2: 0})\n",
    "print(f\"{value=}\")"
   ]
  },
  {
   "cell_type": "markdown",
   "metadata": {},
   "source": [
    "引数は `dict[int, float]` の形式と `ommx.v1.State` をサポートしています。`evaluate` は評価した値に加えて使用した決定変数のIDを返します。これは最適化問題を解いて得られた解である `ommx.v1.State` に対して評価を行った時にどの部分を使ったのかを知りたい場合に便利です。`evaluate` は評価に必要な決定変数のIDが足りない場合はエラーを返します。"
   ]
  },
  {
   "cell_type": "code",
   "execution_count": 8,
   "metadata": {},
   "outputs": [
    {
     "name": "stdout",
     "output_type": "stream",
     "text": [
      "Error: Variable id (2) is not found in the solution\n"
     ]
    }
   ],
   "source": [
    "try:\n",
    "    linear.evaluate({1: 1})\n",
    "except RuntimeError as e:\n",
    "    print(f\"Error: {e}\")"
   ]
  },
  {
   "cell_type": "markdown",
   "metadata": {},
   "source": [
    "一部の決定変数にだけ値を代入したい場合は `partial_evaluate` メソッドを使います。これは `evaluate` と同じ引数を受け取りますが、値が代入されていない決定変数については評価せずにそのまま返します。"
   ]
  },
  {
   "cell_type": "code",
   "execution_count": 9,
   "metadata": {},
   "outputs": [
    {
     "name": "stdout",
     "output_type": "stream",
     "text": [
      "linear2=Linear(2*x2 + 4), used_id={1}\n"
     ]
    }
   ],
   "source": [
    "linear2 = linear.partial_evaluate({1: 1})\n",
    "print(f\"{linear2=}\")"
   ]
  },
  {
   "cell_type": "markdown",
   "metadata": {},
   "source": [
    "部分評価された結果は多項式になるため、元の多項式と同じ型で返されます。"
   ]
  },
  {
   "cell_type": "markdown",
   "metadata": {},
   "source": [
    "## 係数の比較\n",
    "\n",
    "`Function` や他の多項式型には `almost_equal` 関数が用意されています。これは多項式の各係数が指定された誤差で一致するかどうかを判定するための関数です。例えば $ (x + 1)^2 = x^2 + 2x + 1 $ であることを確認するには次のように書きます"
   ]
  },
  {
   "cell_type": "code",
   "execution_count": 10,
   "metadata": {},
   "outputs": [
    {
     "data": {
      "text/plain": [
       "True"
      ]
     },
     "execution_count": 10,
     "metadata": {},
     "output_type": "execute_result"
    }
   ],
   "source": [
    "xx = (x + 1) * (x + 1)\n",
    "xx.almost_equal(x * x + 2 * x + 1)"
   ]
  }
 ],
 "metadata": {
  "kernelspec": {
   "display_name": ".venv",
   "language": "python",
   "name": "python3"
  },
  "language_info": {
   "codemirror_mode": {
    "name": "ipython",
    "version": 3
   },
   "file_extension": ".py",
   "mimetype": "text/x-python",
   "name": "python",
   "nbconvert_exporter": "python",
   "pygments_lexer": "ipython3",
   "version": "3.11.4"
  }
 },
 "nbformat": 4,
 "nbformat_minor": 2
}
