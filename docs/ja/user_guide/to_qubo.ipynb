{
 "cells": [
  {
   "cell_type": "markdown",
   "metadata": {},
   "source": [
    "# ommx.v1.InstanceをQUBOに変換する\n",
    "\n",
    "## ペナルティ法\n",
    "\n",
    "今回扱うOpenJijを含めて、多くのサンプラーと呼ばれるソフトウェアは制約条件を含まない定式化である QUBO (Quadratic Unconstrained Binary Optimization) で記述された目的関数を小さくするようなサンプルを生成する形で動作します。上で定式化した巡回セールスマン問題は変数は全てバイナリですが、制約条件があるためUnconstrainedではありません。そこでペナルティ法によって制約条件を目的関数に押し込む事で制約なし問題に変換します。OMMXの [`Instance.uniform_penalty_method`](https://jij-inc.github.io/ommx/python/ommx/autoapi/ommx/v1/index.html#ommx.v1.Instance.uniform_penalty_method) は等式制約付き問題\n",
    "\n",
    "$$\n",
    "\\begin{align*}\n",
    "\\min \\quad &f(x) \\\\\n",
    "\\text{s.t.} \\quad &g_i(x) = 0 \\quad (\\forall i)\n",
    "\\end{align*}\n",
    "$$\n",
    "\n",
    "を一つのパラメータ $\\lambda$ を持つ制約なし問題\n",
    "\n",
    "$$\n",
    "\\min \\quad f(x) + \\lambda \\sum_i g_i(x)^2\n",
    "$$\n",
    "\n",
    "に変換します。また重みパラメータを制約毎に指定したい場合は [`Instance.penalty_method`](https://jij-inc.github.io/ommx/python/ommx/autoapi/ommx/v1/index.html#ommx.v1.Instance.penalty_method) を使うと\n",
    "\n",
    "$$\n",
    "\\min \\quad f(x) + \\sum_i \\lambda_i g_i(x)^2\n",
    "$$\n",
    "\n",
    "という形に変換できます。"
   ]
  },
  {
   "cell_type": "markdown",
   "metadata": {},
   "source": [
    "これは決定変数でないパラメータをもっているため `ommx.v1.Instance` ではなくて `ommx.v1.ParametricInstance` という型になっていて、次のパラメータ付きQUBOに対応します。\n",
    "\n",
    "$$\n",
    "\\min \\quad \\sum_{t=0}^{N-1} \\sum_{i, j = 0}^{N-1} d(i, j) x_{t, i} x_{(t+1 \\% N), j}\n",
    "+ \\lambda \\left[ \\sum_{t=0}^{N-1} \\left(\\sum_{i=0}^{N-1} x_{t, i} - 1\\right)^2\n",
    "+ \\sum_{i=0}^{N-1} \\left(\\sum_{t=0}^{N-1} x_{t, i} - 1\\right)^2 \\right]\n",
    "$$\n",
    "\n",
    "この `ParametricInstance` がどのようなパラメータを持っているかは `parameters` プロパティで確認できます。"
   ]
  },
  {
   "cell_type": "markdown",
   "metadata": {},
   "source": [
    "ただしこの `qubo` インスタンスは元の制約条件の情報を `removed_constraints` として保持しています。これはQUBOに対してサンプリングした結果が元の問題の制約条件を満たしているのかどうかを検証するための情報です。QUBOへの変換は極端な例ですが、このように数理モデルに前処理を加えることでユーザーが入力した制約条件がソルバーに渡す前に不必要になってしまうことはよくあります。このような場合でもユーザーは自分が入力した制約条件について興味があるので `ommx.v1.Instance` ではこれらの情報を保持する仕組みが備わっています。"
   ]
  },
  {
   "cell_type": "code",
   "execution_count": null,
   "metadata": {},
   "outputs": [],
   "source": []
  }
 ],
 "metadata": {
  "kernelspec": {
   "display_name": "Python 3 (ipykernel)",
   "language": "python",
   "name": "python3"
  },
  "language_info": {
   "codemirror_mode": {
    "name": "ipython",
    "version": 3
   },
   "file_extension": ".py",
   "mimetype": "text/x-python",
   "name": "python",
   "nbconvert_exporter": "python",
   "pygments_lexer": "ipython3",
   "version": "3.9.21"
  }
 },
 "nbformat": 4,
 "nbformat_minor": 4
}
