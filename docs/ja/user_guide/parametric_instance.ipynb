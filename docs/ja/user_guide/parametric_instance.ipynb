{
 "cells": [
  {
   "cell_type": "markdown",
   "metadata": {},
   "source": [
    "# ommx.v1.ParametricInstance\n",
    "\n",
    "[`ommx.v1.ParametricInstance`](https://jij-inc.github.io/ommx/python/ommx/autoapi/ommx/v1/index.html#ommx.v1.ParametricInstance) は [`ommx.v1.Instance`](https://jij-inc.github.io/ommx/python/ommx/autoapi/ommx/v1/index.html#ommx.v1.Instance) と同じように数理モデルを表現するクラスですが、決定変数に加えてパラメータ（[`ommx.v1.Parameter`](https://jij-inc.github.io/ommx/python/ommx/autoapi/ommx/v1/index.html#ommx.v1.Parameter)）を持つことができます。パラメータの値を決めるたびに `ommx.v1.Instance` を生成することができるため、例えば目的関数や制約条件の一部の係数が異なる一連の数理モデル群を扱いたい場合などに便利です。同じ`ommx.v1.ParametricInstance`から生成された `ommx.v1.Instance` は決定変数や制約条件のIDを共有しているため、解の比較などが行いやすくなっています。\n",
    "\n",
    "次のナップザック問題を考えましょう。\n",
    "\n",
    "$$\n",
    "\\begin{align*}\n",
    "\\text{maximize} \\quad & \\sum_{i=1}^{N} p_i x_i \\\\\n",
    "\\text{subject to} \\quad & \\sum_{i=1}^{N} w_i x_i \\leq W \\\\\n",
    "& x_i \\in \\{0, 1\\} \\quad (i=1, 2, \\ldots, N)\n",
    "\\end{align*}\n",
    "$$\n",
    "\n",
    "ここで、$N$はアイテムの数、$p_i$はアイテム$i$の価値、$w_i$はアイテム$i$の重さ、$W$はナップザックの容量です。$x_i$はアイテム$i$をナップザックに入れるかどうかを表すバイナリ変数です。`ommx.v1.Instance` では $p_i$ や $w_i$ は固定値を使いましたが、ここではこれらをパラメータとして扱います。"
   ]
  },
  {
   "cell_type": "code",
   "execution_count": 1,
   "metadata": {},
   "outputs": [],
   "source": [
    "from ommx.v1 import ParametricInstance, DecisionVariable, Parameter, Instance\n",
    "\n",
    "N = 6\n",
    "x = [DecisionVariable.binary(id=i, name=\"x\", subscripts=[i]) for i in range(N)]\n",
    "\n",
    "p = [Parameter.new(id=i+  N, name=\"Profit\", subscripts=[i]) for i in range(N)]\n",
    "w = [Parameter.new(id=i+2*N, name=\"Weight\", subscripts=[i]) for i in range(N)]\n",
    "W =  Parameter.new(id=  3*N, name=\"Capacity\")"
   ]
  },
  {
   "cell_type": "markdown",
   "metadata": {},
   "source": [
    "`ommx.v1.Parameter` もIDを持ちますが、これは `ommx.v1.DecisionVariable` のIDと共通なので、重複しないようにする必要があります。決定変数と同じようにパラメータにも名前や添え字を付与できます。これらは決定変数と同じように `+` や `<=` で演算して `ommx.v1.Function` や `ommx.v1.Constraint` を作成することができます。"
   ]
  },
  {
   "cell_type": "code",
   "execution_count": 2,
   "metadata": {},
   "outputs": [],
   "source": [
    "objective = sum(p[i] * x[i] for i in range(N))\n",
    "constraint = sum(w[i] * x[i] for i in range(N)) <= W"
   ]
  },
  {
   "cell_type": "markdown",
   "metadata": {},
   "source": [
    "これらを組み合わせてナップザック問題を表現する `ommx.v1.ParametricInstance` を作りましょう。"
   ]
  },
  {
   "cell_type": "code",
   "execution_count": 3,
   "metadata": {},
   "outputs": [],
   "source": [
    "parametric_instance = ParametricInstance.from_components(\n",
    "    decision_variables=x,\n",
    "    parameters=p + w + [W],\n",
    "    objective=objective,\n",
    "    constraints=[constraint],\n",
    "    sense=Instance.MAXIMIZE,\n",
    ")"
   ]
  },
  {
   "cell_type": "markdown",
   "metadata": {},
   "source": [
    "`ommx.v1.Instance`と同様に `decision_variables` 及び `constraints` プロパティで決定変数と制約条件をDataFrameとして取得できますが、加えて `ommx.v1.ParametricInstance` には `parameters` プロパティがあります。これはパラメータの情報をDataFrameとして取得できます。"
   ]
  },
  {
   "cell_type": "code",
   "execution_count": 4,
   "metadata": {},
   "outputs": [
    {
     "data": {
      "text/plain": [
       "[Parameter(raw=id: 6\n",
       " name: \"Profit\"\n",
       " subscripts: 0\n",
       " ),\n",
       " Parameter(raw=id: 7\n",
       " name: \"Profit\"\n",
       " subscripts: 1\n",
       " ),\n",
       " Parameter(raw=id: 8\n",
       " name: \"Profit\"\n",
       " subscripts: 2\n",
       " ),\n",
       " Parameter(raw=id: 9\n",
       " name: \"Profit\"\n",
       " subscripts: 3\n",
       " ),\n",
       " Parameter(raw=id: 10\n",
       " name: \"Profit\"\n",
       " subscripts: 4\n",
       " ),\n",
       " Parameter(raw=id: 11\n",
       " name: \"Profit\"\n",
       " subscripts: 5\n",
       " ),\n",
       " Parameter(raw=id: 12\n",
       " name: \"Weight\"\n",
       " subscripts: 0\n",
       " ),\n",
       " Parameter(raw=id: 13\n",
       " name: \"Weight\"\n",
       " subscripts: 1\n",
       " ),\n",
       " Parameter(raw=id: 14\n",
       " name: \"Weight\"\n",
       " subscripts: 2\n",
       " ),\n",
       " Parameter(raw=id: 15\n",
       " name: \"Weight\"\n",
       " subscripts: 3\n",
       " ),\n",
       " Parameter(raw=id: 16\n",
       " name: \"Weight\"\n",
       " subscripts: 4\n",
       " ),\n",
       " Parameter(raw=id: 17\n",
       " name: \"Weight\"\n",
       " subscripts: 5\n",
       " ),\n",
       " Parameter(raw=id: 18\n",
       " name: \"Capacity\"\n",
       " )]"
      ]
     },
     "execution_count": 4,
     "metadata": {},
     "output_type": "execute_result"
    }
   ],
   "source": [
    "parametric_instance.parameters"
   ]
  },
  {
   "cell_type": "markdown",
   "metadata": {},
   "source": [
    "さて具体的なパラメータを指定してみましょう。それには `ParametricInstance.with_parameters` を使います。これは `ommx.v1.Parameter` のIDをキー、値を値とする辞書を引数に取ります。"
   ]
  },
  {
   "cell_type": "code",
   "execution_count": 5,
   "metadata": {},
   "outputs": [],
   "source": [
    "p_values = { x.id: value for x, value in zip(p, [10, 13, 18, 31, 7, 15]) }\n",
    "w_values = { x.id: value for x, value in zip(w, [11, 15, 20, 35, 10, 33]) }\n",
    "W_value = { W.id: 47 }\n",
    "\n",
    "instance = parametric_instance.with_parameters({**p_values, **w_values, **W_value})"
   ]
  },
  {
   "cell_type": "markdown",
   "metadata": {},
   "source": [
    "```{note}\n",
    "`ommx.v1.ParametricInstance` では $N$ のように決定変数やパラメータの数が変化するようなパラメータは扱えません。[JijModeling](https://jij-inc.github.io/JijModeling-Tutorials/ja/introduction.html)などのより高度なモデラーを使ってください。\n",
    "```"
   ]
  }
 ],
 "metadata": {
  "kernelspec": {
   "display_name": "ommx-update-books (3.9.23)",
   "language": "python",
   "name": "python3"
  },
  "language_info": {
   "codemirror_mode": {
    "name": "ipython",
    "version": 3
   },
   "file_extension": ".py",
   "mimetype": "text/x-python",
   "name": "python",
   "nbconvert_exporter": "python",
   "pygments_lexer": "ipython3",
   "version": "3.9.23"
  }
 },
 "nbformat": 4,
 "nbformat_minor": 2
}
